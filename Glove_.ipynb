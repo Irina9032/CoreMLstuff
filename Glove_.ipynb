{
  "nbformat": 4,
  "nbformat_minor": 0,
  "metadata": {
    "colab": {
      "name": "Копия блокнота \"Glove_all\"",
      "provenance": [],
      "collapsed_sections": [
        "rOvGCLM7ikWi"
      ],
      "toc_visible": true
    },
    "kernelspec": {
      "display_name": "Python 3",
      "name": "python3"
    }
  },
  "cells": [
    {
      "cell_type": "markdown",
      "metadata": {
        "id": "rOvGCLM7ikWi"
      },
      "source": [
        "# Task"
      ]
    },
    {
      "cell_type": "markdown",
      "metadata": {
        "id": "ZEfVVcPvjHQA"
      },
      "source": [
        "1. **Text preprocessing**\n",
        "  \n",
        "  a. There are several extra data resources for this competition. You may investigate them also. The most frequently used are the base data and the translated data. Some pre-trained models are also available in Kaggle “public datasets”.\n",
        "\n",
        "  b. For some models preprocessing may be needed. Please, perform at least the following steps (in preferred order):\n",
        "\n",
        "     -  Stop-words removing\n",
        "\n",
        "     -  Processing of numbers and service characters\n",
        "\n",
        "     -  Register processing\n",
        "\n",
        "     -  Text normalisation\n",
        "\n",
        "     -  Dictionary-based processing of informal speech\n",
        "\n",
        "2. **Embeddings with any preferred classification model** (mandatory are in cursive)\n",
        "\n",
        "  a. *tf-idf (start with this),*\n",
        "\n",
        "  b. *word2vec from gensim or spacy,*\n",
        "\n",
        "  c. fasttext from its native lib or from gensim,\n",
        "\n",
        "  d. doc2vec from gensim,\n",
        "\n",
        "  e. Starspace,\n",
        "\n",
        "  f. *pre-trained BERT in preferred framework*,\n",
        "\n",
        "  g. *Fine-tune preferred language model*,\n",
        "\n",
        "  h. Use an ensemble of all models used.\n",
        "\n",
        "3. **Metric: ROC_AUC**\n",
        "\n",
        "\n",
        "**Notes:**\n",
        "\n",
        "All embeddings may be used with pre-trained weights or vectors\n",
        "\n",
        "You are not limited with the models described above – you can utilise all the models listed in the materials\n",
        "\n",
        "Check the baseline and beat the score of 0.91"
      ]
    },
    {
      "cell_type": "markdown",
      "metadata": {
        "id": "nP9kI6OoiH3i"
      },
      "source": [
        "# Preluminaries"
      ]
    },
    {
      "cell_type": "markdown",
      "metadata": {
        "id": "sX2LABsMiK3S"
      },
      "source": [
        "В данном ноутбуке представлена модель нейронки c pre-trained embedding Glove. Архитектура нейронки самая простая. В качестве pre-trained embeddings [взято](https://github.com/dcferreira/multilingual-joint-embeddings).\n",
        "\n",
        "В архиве представлены эмбеддинги для каждого из языков отдельно. Они не особо большие: от 40 до 72 тыс слов в каждом, что не могло не отразится на точности предсказания.\n",
        "\n",
        "Вектора слов, которые не находились в эмбеддингах, заполнялись нулями. Впоследствии модель дообучалась на уже имеющемся массиве.\n",
        "\n",
        "Чтобы избежать смещения из-за повторяяющихся слов в близких языках, для кажлого языка строилась отдельная модель. А потом на этапе inference все модели сводились воедино.\n",
        "\n",
        "Причем, предсказание делалось следующим образом: сначала test разбивался на языки. А потом внутри каждого языка бачами делалось предсказание. В конце, исходная таблица \"воссоздавалась\" заново, но уже с новым столбцом target.\n",
        "\n",
        "Все это было сделано для сокращения времени предсказывания."
      ]
    },
    {
      "cell_type": "markdown",
      "metadata": {
        "id": "tKkQkfNXipwd"
      },
      "source": [
        "# Imports"
      ]
    },
    {
      "cell_type": "code",
      "metadata": {
        "colab": {
          "base_uri": "https://localhost:8080/"
        },
        "id": "IHxEitYv-gp8",
        "outputId": "70ff1a32-ea33-4c5a-8519-3f8a680a24d4"
      },
      "source": [
        "!pip install unidecode"
      ],
      "execution_count": null,
      "outputs": [
        {
          "output_type": "stream",
          "text": [
            "Collecting unidecode\n",
            "\u001b[?25l  Downloading https://files.pythonhosted.org/packages/9e/25/723487ca2a52ebcee88a34d7d1f5a4b80b793f179ee0f62d5371938dfa01/Unidecode-1.2.0-py2.py3-none-any.whl (241kB)\n",
            "\r\u001b[K     |█▍                              | 10kB 16.3MB/s eta 0:00:01\r\u001b[K     |██▊                             | 20kB 20.2MB/s eta 0:00:01\r\u001b[K     |████                            | 30kB 13.2MB/s eta 0:00:01\r\u001b[K     |█████▍                          | 40kB 10.2MB/s eta 0:00:01\r\u001b[K     |██████▉                         | 51kB 7.9MB/s eta 0:00:01\r\u001b[K     |████████▏                       | 61kB 7.8MB/s eta 0:00:01\r\u001b[K     |█████████▌                      | 71kB 8.8MB/s eta 0:00:01\r\u001b[K     |██████████▉                     | 81kB 9.2MB/s eta 0:00:01\r\u001b[K     |████████████▏                   | 92kB 8.2MB/s eta 0:00:01\r\u001b[K     |█████████████▋                  | 102kB 8.4MB/s eta 0:00:01\r\u001b[K     |███████████████                 | 112kB 8.4MB/s eta 0:00:01\r\u001b[K     |████████████████▎               | 122kB 8.4MB/s eta 0:00:01\r\u001b[K     |█████████████████▋              | 133kB 8.4MB/s eta 0:00:01\r\u001b[K     |███████████████████             | 143kB 8.4MB/s eta 0:00:01\r\u001b[K     |████████████████████▍           | 153kB 8.4MB/s eta 0:00:01\r\u001b[K     |█████████████████████▊          | 163kB 8.4MB/s eta 0:00:01\r\u001b[K     |███████████████████████         | 174kB 8.4MB/s eta 0:00:01\r\u001b[K     |████████████████████████▍       | 184kB 8.4MB/s eta 0:00:01\r\u001b[K     |█████████████████████████▊      | 194kB 8.4MB/s eta 0:00:01\r\u001b[K     |███████████████████████████▏    | 204kB 8.4MB/s eta 0:00:01\r\u001b[K     |████████████████████████████▌   | 215kB 8.4MB/s eta 0:00:01\r\u001b[K     |█████████████████████████████▉  | 225kB 8.4MB/s eta 0:00:01\r\u001b[K     |███████████████████████████████▏| 235kB 8.4MB/s eta 0:00:01\r\u001b[K     |████████████████████████████████| 245kB 8.4MB/s \n",
            "\u001b[?25hInstalling collected packages: unidecode\n",
            "Successfully installed unidecode-1.2.0\n"
          ],
          "name": "stdout"
        }
      ]
    },
    {
      "cell_type": "code",
      "metadata": {
        "colab": {
          "base_uri": "https://localhost:8080/"
        },
        "id": "UntHZDRzXObh",
        "outputId": "faf9f618-6761-4b1c-a165-5918dad8a474"
      },
      "source": [
        "!pip install pyspellchecker"
      ],
      "execution_count": null,
      "outputs": [
        {
          "output_type": "stream",
          "text": [
            "Collecting pyspellchecker\n",
            "\u001b[?25l  Downloading https://files.pythonhosted.org/packages/06/2d/29795f537ab15c5eb90663fa0d5a59e343711d26763fe2d560f237422b59/pyspellchecker-0.6.1-py3-none-any.whl (2.7MB)\n",
            "\u001b[K     |████████████████████████████████| 2.7MB 8.7MB/s \n",
            "\u001b[?25hInstalling collected packages: pyspellchecker\n",
            "Successfully installed pyspellchecker-0.6.1\n"
          ],
          "name": "stdout"
        }
      ]
    },
    {
      "cell_type": "code",
      "metadata": {
        "colab": {
          "base_uri": "https://localhost:8080/"
        },
        "id": "SQnpOg9ohYuE",
        "outputId": "c14e8274-8362-4bea-ba84-051b4d56102b"
      },
      "source": [
        "import nltk\n",
        "nltk.download('punkt')\n",
        "nltk.download('stopwords')\n",
        "nltk.download('wordnet')"
      ],
      "execution_count": null,
      "outputs": [
        {
          "output_type": "stream",
          "text": [
            "[nltk_data] Downloading package punkt to /root/nltk_data...\n",
            "[nltk_data]   Unzipping tokenizers/punkt.zip.\n",
            "[nltk_data] Downloading package stopwords to /root/nltk_data...\n",
            "[nltk_data]   Unzipping corpora/stopwords.zip.\n",
            "[nltk_data] Downloading package wordnet to /root/nltk_data...\n",
            "[nltk_data]   Unzipping corpora/wordnet.zip.\n"
          ],
          "name": "stdout"
        },
        {
          "output_type": "execute_result",
          "data": {
            "text/plain": [
              "True"
            ]
          },
          "metadata": {
            "tags": []
          },
          "execution_count": 3
        }
      ]
    },
    {
      "cell_type": "code",
      "metadata": {
        "id": "b8mLA-uagmtM"
      },
      "source": [
        "#basic package\n",
        "import numpy as np\n",
        "import pandas as pd\n",
        "\n",
        "#nlp\n",
        "import re\n",
        "import nltk\n",
        "import string\n",
        "\n",
        "#feature engineering\n",
        "from gensim import utils\n",
        "from sklearn.model_selection import train_test_split\n",
        "from sklearn.metrics import classification_report, confusion_matrix\n",
        "from sklearn.model_selection import cross_val_score\n",
        "from sklearn.metrics import accuracy_score, f1_score, roc_auc_score\n",
        "\n",
        "#NN\n",
        "import tensorflow as tf\n",
        "from tensorflow import keras\n",
        "from tensorflow.keras.layers import Embedding\n",
        "from tensorflow.keras.layers.experimental.preprocessing import TextVectorization\n",
        "from tensorflow.keras import layers\n",
        "from keras.models import Sequential\n",
        "from keras.layers.recurrent import LSTM, GRU\n",
        "from keras.layers.core import Dense, Activation, Dropout\n",
        "from keras.layers.embeddings import Embedding\n",
        "from keras.layers.normalization import BatchNormalization\n",
        "from keras.utils import np_utils\n",
        "from sklearn import preprocessing, decomposition, model_selection, metrics\n",
        "from keras.layers.recurrent import LSTM, GRU,SimpleRNN\n",
        "from keras.layers import GlobalMaxPooling1D, Conv1D, MaxPooling1D, Flatten, Bidirectional, SpatialDropout1D\n",
        "from keras.preprocessing import sequence, text\n",
        "from keras.callbacks import EarlyStopping\n",
        "\n",
        "#vizualiazation\n",
        "import seaborn as sns\n",
        "import matplotlib.pyplot as plt\n",
        "%matplotlib inline\n",
        "sns.set_context('notebook')\n",
        "%config InlineBackend.figure_format = 'retina'\n",
        "\n",
        "#settings\n",
        "import os\n",
        "import gc\n",
        "from tqdm import tqdm\n",
        "plt.rcParams['figure.figsize'] = 10, 8\n",
        "import warnings \n",
        "warnings.filterwarnings('ignore')\n",
        "\n",
        "#no_random\n",
        "from numpy.random import seed\n",
        "seed(1)\n",
        "tf.random.set_seed(42)\n",
        "\n",
        "#downloads\n",
        "import pickle\n",
        "from google_drive_downloader import GoogleDriveDownloader as gdd"
      ],
      "execution_count": null,
      "outputs": []
    },
    {
      "cell_type": "markdown",
      "metadata": {
        "id": "g391tL6gj5Zp"
      },
      "source": [
        "# Auxilliary functions"
      ]
    },
    {
      "cell_type": "code",
      "metadata": {
        "id": "MEowVmZsj9Oh"
      },
      "source": [
        "def lst_to_str(lst):\n",
        "    '''\n",
        "    Функция для перевода списка в строку\n",
        "    lst - список на вход\n",
        "    st - строка на выход\n",
        "    '''\n",
        "    st = ''\n",
        "    for element in lst:\n",
        "         st += element\n",
        "\n",
        "    return st"
      ],
      "execution_count": null,
      "outputs": []
    },
    {
      "cell_type": "code",
      "metadata": {
        "id": "1MAHDEOejzZy"
      },
      "source": [
        "def making_predictions(df, vec, model):\n",
        "    '''\n",
        "    Функция для определения токсичности комментария\n",
        "    df - таблица\n",
        "    vec - векторайзер\n",
        "    model - имя модели\n",
        "    '''\n",
        "    X = df.comment_text.values\n",
        "    X = vec(np.array([[s] for s in X])).numpy()\n",
        "\n",
        "    # вычислим вероятности токсичности комментариев\n",
        "    probabilities = model.predict(X)\n",
        "    probabilities = np.around(probabilities.T).T\n",
        "\n",
        "    # добавим столбец в нашу таблицу\n",
        "    df['target'] = probabilities\n",
        "    return df"
      ],
      "execution_count": null,
      "outputs": []
    },
    {
      "cell_type": "markdown",
      "metadata": {
        "id": "9EqwDEjVjAJQ"
      },
      "source": [
        "# Test Data download & some preparations"
      ]
    },
    {
      "cell_type": "code",
      "metadata": {
        "id": "ynFGptvhi_Yj",
        "colab": {
          "base_uri": "https://localhost:8080/"
        },
        "outputId": "6f0efab7-e1c2-4b58-90b7-b7884c7ded0f"
      },
      "source": [
        "gdd.download_file_from_google_drive(file_id='19GL4B5TVJX44K2Hibj7YYCNcLpDwTcx3',\\\n",
        "                                    dest_path='/Data/test.csv')\n",
        "test = pd.read_csv('/Data/test.csv')\n",
        "test = test[['comment_text', 'lang']]"
      ],
      "execution_count": null,
      "outputs": [
        {
          "output_type": "stream",
          "text": [
            "Downloading 19GL4B5TVJX44K2Hibj7YYCNcLpDwTcx3 into /Data/test.csv... Done.\n"
          ],
          "name": "stdout"
        }
      ]
    },
    {
      "cell_type": "code",
      "metadata": {
        "colab": {
          "base_uri": "https://localhost:8080/"
        },
        "id": "Cv4qWyLHjeSq",
        "outputId": "3abd67d3-6063-4f62-ca45-69fffa2baf3d"
      },
      "source": [
        "test.head(5)"
      ],
      "execution_count": null,
      "outputs": [
        {
          "output_type": "execute_result",
          "data": {
            "text/html": [
              "<div>\n",
              "<style scoped>\n",
              "    .dataframe tbody tr th:only-of-type {\n",
              "        vertical-align: middle;\n",
              "    }\n",
              "\n",
              "    .dataframe tbody tr th {\n",
              "        vertical-align: top;\n",
              "    }\n",
              "\n",
              "    .dataframe thead th {\n",
              "        text-align: right;\n",
              "    }\n",
              "</style>\n",
              "<table border=\"1\" class=\"dataframe\">\n",
              "  <thead>\n",
              "    <tr style=\"text-align: right;\">\n",
              "      <th></th>\n",
              "      <th>comment_text</th>\n",
              "      <th>lang</th>\n",
              "    </tr>\n",
              "  </thead>\n",
              "  <tbody>\n",
              "    <tr>\n",
              "      <th>0</th>\n",
              "      <td>['doctor who adlı viki başlığına doctor olarak...</td>\n",
              "      <td>tr</td>\n",
              "    </tr>\n",
              "    <tr>\n",
              "      <th>1</th>\n",
              "      <td>['вполне возможно пока видеть необходимость вы...</td>\n",
              "      <td>ru</td>\n",
              "    </tr>\n",
              "    <tr>\n",
              "      <th>2</th>\n",
              "      <td>['conservativi preferiscono cancellare', 'ok l...</td>\n",
              "      <td>it</td>\n",
              "    </tr>\n",
              "    <tr>\n",
              "      <th>3</th>\n",
              "      <td>['malesef gerçekleştirilmedi ancak şöyle şey v...</td>\n",
              "      <td>tr</td>\n",
              "    </tr>\n",
              "    <tr>\n",
              "      <th>4</th>\n",
              "      <td>['resim seldabagcan jpg resminde kaynak sorunu...</td>\n",
              "      <td>tr</td>\n",
              "    </tr>\n",
              "  </tbody>\n",
              "</table>\n",
              "</div>"
            ],
            "text/plain": [
              "                                        comment_text lang\n",
              "0  ['doctor who adlı viki başlığına doctor olarak...   tr\n",
              "1  ['вполне возможно пока видеть необходимость вы...   ru\n",
              "2  ['conservativi preferiscono cancellare', 'ok l...   it\n",
              "3  ['malesef gerçekleştirilmedi ancak şöyle şey v...   tr\n",
              "4  ['resim seldabagcan jpg resminde kaynak sorunu...   tr"
            ]
          },
          "metadata": {
            "tags": []
          },
          "execution_count": 8
        }
      ]
    },
    {
      "cell_type": "code",
      "metadata": {
        "colab": {
          "base_uri": "https://localhost:8080/"
        },
        "id": "E2OtCQASjyCo",
        "outputId": "3ca32045-6965-44d6-9c95-9649b06a5f3b"
      },
      "source": [
        "%%time\n",
        "test['comment_text'] = test['comment_text'].apply(lambda row: eval(row))"
      ],
      "execution_count": null,
      "outputs": [
        {
          "output_type": "stream",
          "text": [
            "CPU times: user 1.1 s, sys: 61.6 ms, total: 1.16 s\n",
            "Wall time: 1.17 s\n"
          ],
          "name": "stdout"
        }
      ]
    },
    {
      "cell_type": "code",
      "metadata": {
        "colab": {
          "base_uri": "https://localhost:8080/"
        },
        "id": "N8ZaJ0Fqj-2c",
        "outputId": "f738dd97-bc56-4653-9fc0-490290c5119e"
      },
      "source": [
        "%%time\n",
        "test['comment_text'] = test['comment_text'].apply(lambda row: lst_to_str(row))"
      ],
      "execution_count": null,
      "outputs": [
        {
          "output_type": "stream",
          "text": [
            "CPU times: user 110 ms, sys: 2.91 ms, total: 113 ms\n",
            "Wall time: 114 ms\n"
          ],
          "name": "stdout"
        }
      ]
    },
    {
      "cell_type": "markdown",
      "metadata": {
        "id": "na1Vswy1qsCT"
      },
      "source": [
        "# EDA & Data Preparation"
      ]
    },
    {
      "cell_type": "markdown",
      "metadata": {
        "id": "xSKkgesgq5Aj"
      },
      "source": [
        "Разведочный анализ и чистка данных (train, validation, test) была проведена ранее, при подготовке первой части дз"
      ]
    },
    {
      "cell_type": "markdown",
      "metadata": {
        "id": "8kLBlUfmqw8K"
      },
      "source": [
        "[EDA и DP вот здесь](https://colab.research.google.com/drive/1RUvUuLHinTWeSZcpzQZlilaSCFGCprpC#scrollTo=7_qOSPhWjPhh)"
      ]
    },
    {
      "cell_type": "markdown",
      "metadata": {
        "id": "0ZVyE9MStREp"
      },
      "source": [
        "# Download vectorizers and models & make predictions"
      ]
    },
    {
      "cell_type": "markdown",
      "metadata": {
        "id": "zzJhkzvk4ykD"
      },
      "source": [
        "Загрузим векторайзер, модель для каждого языка и сделаем предсказание."
      ]
    },
    {
      "cell_type": "markdown",
      "metadata": {
        "id": "IK6g5e29qXki"
      },
      "source": [
        "[Модель для французского языка](https://colab.research.google.com/drive/1v_efJw9w7JoCTRD7Hxw6LjtzQrA6TFJi?usp=sharing)"
      ]
    },
    {
      "cell_type": "code",
      "metadata": {
        "colab": {
          "base_uri": "https://localhost:8080/"
        },
        "id": "9WgPnk6X3GI1",
        "outputId": "96864ee8-89fc-4f66-ff72-190fee5d8f47"
      },
      "source": [
        "gdd.download_file_from_google_drive(file_id='1g3DiJOPF428gy8yfEKD--rKMspIUEOZG',\\\n",
        "                                    dest_path='/Data/Glove_data/tv_fr.pkl')\n",
        "from_disk = pickle.load(open(\"/Data/Glove_data/tv_fr.pkl\", \"rb\"))\n",
        "\n",
        "vec  = TextVectorization.from_config(from_disk['config'])\n",
        "vec.adapt(tf.data.Dataset.from_tensor_slices([\"xyz\"]))\n",
        "vec.set_weights(from_disk['weights'])\n",
        "\n",
        "# загрузим саму модель\n",
        "gdd.download_file_from_google_drive(file_id='11twMTnUi8TOFcVzf7CHq1MpR6q6AwkLE',\\\n",
        "                                    dest_path='/Data/Glove_data/model_fr.h5')\n",
        "model = tf.keras.models.load_model('/Data/Glove_data/model_fr.h5')\n",
        "\n",
        "\n",
        "test_fr = test[test.lang == 'fr'].reset_index()\n",
        "test_fr = making_predictions(test_fr, vec, model)"
      ],
      "execution_count": null,
      "outputs": [
        {
          "output_type": "stream",
          "text": [
            "Downloading 1g3DiJOPF428gy8yfEKD--rKMspIUEOZG into /Data/Glove_data/tv_fr.pkl... Done.\n",
            "Downloading 11twMTnUi8TOFcVzf7CHq1MpR6q6AwkLE into /Data/Glove_data/model_fr.h5... Done.\n"
          ],
          "name": "stdout"
        }
      ]
    },
    {
      "cell_type": "code",
      "metadata": {
        "id": "oGpgzHkA3xW_"
      },
      "source": [
        "pred = test_fr"
      ],
      "execution_count": null,
      "outputs": []
    },
    {
      "cell_type": "code",
      "metadata": {
        "colab": {
          "base_uri": "https://localhost:8080/"
        },
        "id": "RhXug4ws4NHR",
        "outputId": "3d7fb9f9-292e-469d-8502-6987f0b24fec"
      },
      "source": [
        "del test_fr\n",
        "gc.collect()"
      ],
      "execution_count": null,
      "outputs": [
        {
          "output_type": "execute_result",
          "data": {
            "text/plain": [
              "8220"
            ]
          },
          "metadata": {
            "tags": []
          },
          "execution_count": 18
        }
      ]
    },
    {
      "cell_type": "markdown",
      "metadata": {
        "id": "6d-ytU3YqaE6"
      },
      "source": [
        "[Модель для иcпанского языка](https://colab.research.google.com/drive/1ucSqX6NwFr1fvyy0-w7WbxzJbHug3B_v?usp=sharing)"
      ]
    },
    {
      "cell_type": "code",
      "metadata": {
        "colab": {
          "base_uri": "https://localhost:8080/"
        },
        "id": "cUVPXhtp2iwV",
        "outputId": "903322aa-0603-47dc-c2a1-90a89f572f00"
      },
      "source": [
        "gdd.download_file_from_google_drive(file_id='1aS5wwmrvKqCdjgrmxilyb97zqYglgJmP',\\\n",
        "                                    dest_path='/Data/Glove_data/tv_es.pkl')\n",
        "from_disk = pickle.load(open(\"/Data/Glove_data/tv_es.pkl\", \"rb\"))\n",
        "\n",
        "vec  = TextVectorization.from_config(from_disk['config'])\n",
        "vec.adapt(tf.data.Dataset.from_tensor_slices([\"xyz\"]))\n",
        "vec.set_weights(from_disk['weights'])\n",
        "\n",
        "# загрузим саму модель\n",
        "gdd.download_file_from_google_drive(file_id='1fATBwGrobJGOTOCTeq60kdknPFJoXS-o',\\\n",
        "                                    dest_path='/Data/Glove_data/model_es.h5')\n",
        "model = tf.keras.models.load_model('/Data/Glove_data/model_es.h5')\n",
        "\n",
        "test_es = test[test.lang == 'es'].reset_index()\n",
        "test_es = making_predictions(test_es, vec, model)"
      ],
      "execution_count": null,
      "outputs": [
        {
          "output_type": "stream",
          "text": [
            "Downloading 1aS5wwmrvKqCdjgrmxilyb97zqYglgJmP into /Data/Glove_data/tv_es.pkl... Done.\n",
            "Downloading 1fATBwGrobJGOTOCTeq60kdknPFJoXS-o into /Data/Glove_data/model_es.h5... Done.\n"
          ],
          "name": "stdout"
        }
      ]
    },
    {
      "cell_type": "code",
      "metadata": {
        "id": "qZg3Kc_O32dF"
      },
      "source": [
        "pred = pd.concat([pred, test_es], ignore_index=False)"
      ],
      "execution_count": null,
      "outputs": []
    },
    {
      "cell_type": "code",
      "metadata": {
        "colab": {
          "base_uri": "https://localhost:8080/"
        },
        "id": "owffsgVm4Oz6",
        "outputId": "060fcb8f-2924-43cc-9ddb-7fa0823302ef"
      },
      "source": [
        "del test_es\n",
        "gc.collect()"
      ],
      "execution_count": null,
      "outputs": [
        {
          "output_type": "execute_result",
          "data": {
            "text/plain": [
              "56326"
            ]
          },
          "metadata": {
            "tags": []
          },
          "execution_count": 23
        }
      ]
    },
    {
      "cell_type": "markdown",
      "metadata": {
        "id": "GoojMf1iqbqA"
      },
      "source": [
        "[Модель для итальянского языка](https://colab.research.google.com/drive/1qrHWihQE_A2AYcTMZ_fyosOOph9ZJqlN?usp=sharing)"
      ]
    },
    {
      "cell_type": "code",
      "metadata": {
        "colab": {
          "base_uri": "https://localhost:8080/"
        },
        "id": "tyC_gSTd2Ph6",
        "outputId": "3b094875-9f7f-47c9-8731-45ef8930bf38"
      },
      "source": [
        "gdd.download_file_from_google_drive(file_id='1ikPElljbL7ygFBUoBaE8N5gSZaJC0DZv',\\\n",
        "                                    dest_path='/Data/Glove_data/tv_it.pkl')\n",
        "from_disk = pickle.load(open(\"/Data/Glove_data/tv_it.pkl\", \"rb\"))\n",
        "\n",
        "vec  = TextVectorization.from_config(from_disk['config'])\n",
        "vec.adapt(tf.data.Dataset.from_tensor_slices([\"xyz\"]))\n",
        "vec.set_weights(from_disk['weights'])\n",
        "\n",
        "# загрузим саму модель\n",
        "gdd.download_file_from_google_drive(file_id='15me_ry4QsU7GDZ4ebUKxFzlvTPGyA4eO',\\\n",
        "                                    dest_path='/Data/Glove_data/model_it.h5')\n",
        "model = tf.keras.models.load_model('/Data/Glove_data/model_it.h5')\n",
        "\n",
        "test_it = test[test.lang == 'it'].reset_index()\n",
        "test_it = making_predictions(test_it, vec, model)"
      ],
      "execution_count": null,
      "outputs": [
        {
          "output_type": "stream",
          "text": [
            "Downloading 1ikPElljbL7ygFBUoBaE8N5gSZaJC0DZv into /Data/Glove_data/tv_it.pkl... Done.\n",
            "Downloading 15me_ry4QsU7GDZ4ebUKxFzlvTPGyA4eO into /Data/Glove_data/model_it.h5... Done.\n"
          ],
          "name": "stdout"
        }
      ]
    },
    {
      "cell_type": "code",
      "metadata": {
        "id": "kShdw8H234Tz"
      },
      "source": [
        "pred = pd.concat([pred, test_it], ignore_index=False)"
      ],
      "execution_count": null,
      "outputs": []
    },
    {
      "cell_type": "code",
      "metadata": {
        "colab": {
          "base_uri": "https://localhost:8080/"
        },
        "id": "arz5Q1Zi4QWo",
        "outputId": "09ce2d98-302a-40b3-ab8f-107a7bb3509a"
      },
      "source": [
        "del test_it\n",
        "gc.collect()"
      ],
      "execution_count": null,
      "outputs": [
        {
          "output_type": "execute_result",
          "data": {
            "text/plain": [
              "57828"
            ]
          },
          "metadata": {
            "tags": []
          },
          "execution_count": 28
        }
      ]
    },
    {
      "cell_type": "markdown",
      "metadata": {
        "id": "_GcSBw1jqeqi"
      },
      "source": [
        "[Модель для португальского языка](https://colab.research.google.com/drive/10uPBXoFSboOwANQTd5tP-wEFQD3iwcAf?usp=sharing)"
      ]
    },
    {
      "cell_type": "code",
      "metadata": {
        "colab": {
          "base_uri": "https://localhost:8080/"
        },
        "id": "C1V6NjSW1S2M",
        "outputId": "d3327cc9-be1f-43b9-a766-f28a3b5e2a0d"
      },
      "source": [
        "gdd.download_file_from_google_drive(file_id='1cnQVXPBaGYM591CSOEYAJ83pJKUQf9zR',\\\n",
        "                                    dest_path='/Data/Glove_data/tv_pt.pkl')\n",
        "from_disk = pickle.load(open(\"/Data/Glove_data/tv_pt.pkl\", \"rb\"))\n",
        "\n",
        "vec  = TextVectorization.from_config(from_disk['config'])\n",
        "vec.adapt(tf.data.Dataset.from_tensor_slices([\"xyz\"]))\n",
        "vec.set_weights(from_disk['weights'])\n",
        "\n",
        "# загрузим саму модель\n",
        "gdd.download_file_from_google_drive(file_id='1Ylq31seDJcAvyTwUlpyyCNKLCOg1eDaI',\\\n",
        "                                    dest_path='/Data/Glove_data/model_pt.h5')\n",
        "model = tf.keras.models.load_model('/Data/Glove_data/model_pt.h5')\n",
        "\n",
        "test_pt = test[test.lang == 'pt'].reset_index()\n",
        "test_pt = making_predictions(test_pt, vec, model)"
      ],
      "execution_count": null,
      "outputs": [
        {
          "output_type": "stream",
          "text": [
            "Downloading 1cnQVXPBaGYM591CSOEYAJ83pJKUQf9zR into /Data/Glove_data/tv_pt.pkl... Done.\n",
            "Downloading 1Ylq31seDJcAvyTwUlpyyCNKLCOg1eDaI into /Data/Glove_data/model_pt.h5... Done.\n"
          ],
          "name": "stdout"
        }
      ]
    },
    {
      "cell_type": "code",
      "metadata": {
        "id": "J3UqkTot36uu"
      },
      "source": [
        "pred = pd.concat([pred, test_pt], ignore_index=False)"
      ],
      "execution_count": null,
      "outputs": []
    },
    {
      "cell_type": "code",
      "metadata": {
        "colab": {
          "base_uri": "https://localhost:8080/"
        },
        "id": "4aIWOfCB4Slf",
        "outputId": "7089ce7e-0567-4cb0-a41e-e5f8f759a7f5"
      },
      "source": [
        "del test_pt\n",
        "gc.collect()"
      ],
      "execution_count": null,
      "outputs": [
        {
          "output_type": "execute_result",
          "data": {
            "text/plain": [
              "45772"
            ]
          },
          "metadata": {
            "tags": []
          },
          "execution_count": 33
        }
      ]
    },
    {
      "cell_type": "markdown",
      "metadata": {
        "id": "7FFHL45ZqiXj"
      },
      "source": [
        "[Модель для русского языка](https://colab.research.google.com/drive/1R-WuoloqsmN3Ig5A36jOXDocdvsi27KE#scrollTo=P79WUoKLvtND)"
      ]
    },
    {
      "cell_type": "code",
      "metadata": {
        "colab": {
          "base_uri": "https://localhost:8080/"
        },
        "id": "iOBh5v06yWie",
        "outputId": "1d9990e7-e668-41d5-b4ee-29d2011b6c3e"
      },
      "source": [
        "# загрузим векторизатор\n",
        "gdd.download_file_from_google_drive(file_id='1PgLEb8_S1KdPGtdy2DJmWRZE8XVAYFJg',\\\n",
        "                                    dest_path='/Data/Glove_data/tv_ru.pkl')\n",
        "from_disk = pickle.load(open(\"/Data/Glove_data/tv_ru.pkl\", \"rb\"))\n",
        "\n",
        "vec  = TextVectorization.from_config(from_disk['config'])\n",
        "vec.adapt(tf.data.Dataset.from_tensor_slices([\"xyz\"]))\n",
        "vec.set_weights(from_disk['weights'])\n",
        "\n",
        "# загрузим саму модель\n",
        "gdd.download_file_from_google_drive(file_id='1izbR58zSlhI6AYSuoMl3mKCJvL5IoLYc',\\\n",
        "                                    dest_path='/Data/Glove_data/model_ru.h5')\n",
        "model = tf.keras.models.load_model('/Data/Glove_data/model_ru.h5')\n",
        "\n",
        "test_ru = test[test.lang == 'ru'].reset_index()\n",
        "test_ru = making_predictions(test_ru, vec, model)"
      ],
      "execution_count": null,
      "outputs": [
        {
          "output_type": "stream",
          "text": [
            "Downloading 1PgLEb8_S1KdPGtdy2DJmWRZE8XVAYFJg into /Data/Glove_data/tv_ru.pkl... Done.\n",
            "Downloading 1izbR58zSlhI6AYSuoMl3mKCJvL5IoLYc into /Data/Glove_data/model_ru.h5... Done.\n"
          ],
          "name": "stdout"
        }
      ]
    },
    {
      "cell_type": "code",
      "metadata": {
        "id": "x2Mi-1-N38ff"
      },
      "source": [
        "pred = pd.concat([pred, test_ru], ignore_index=False)"
      ],
      "execution_count": null,
      "outputs": []
    },
    {
      "cell_type": "code",
      "metadata": {
        "colab": {
          "base_uri": "https://localhost:8080/"
        },
        "id": "wHgG7ZsP4Uh8",
        "outputId": "67b5c04c-7c09-465d-f23d-7159c48c9ab8"
      },
      "source": [
        "del test_ru\n",
        "gc.collect()"
      ],
      "execution_count": null,
      "outputs": [
        {
          "output_type": "execute_result",
          "data": {
            "text/plain": [
              "46195"
            ]
          },
          "metadata": {
            "tags": []
          },
          "execution_count": 36
        }
      ]
    },
    {
      "cell_type": "markdown",
      "metadata": {
        "id": "uLukNheWqkkl"
      },
      "source": [
        "[Модель для турецкого языка](https://colab.research.google.com/drive/1qzFVXtw_XnMJy0fT7NQyseemvvdlgKRN#scrollTo=PQLMk3s6b4zJ)"
      ]
    },
    {
      "cell_type": "code",
      "metadata": {
        "colab": {
          "base_uri": "https://localhost:8080/"
        },
        "id": "eGZ0-bWETnKG",
        "outputId": "0c4cc0eb-8dc7-432b-9c4b-d8986e240a40"
      },
      "source": [
        "# загрузим векторизатор\n",
        "gdd.download_file_from_google_drive(file_id='1OYArfb962DH74McxenS9E4Sq9k9eS7gY',\\\n",
        "                                    dest_path='/Data/Glove_data/tv_tr.pkl')\n",
        "from_disk = pickle.load(open(\"/Data/Glove_data/tv_tr.pkl\", \"rb\"))\n",
        "\n",
        "vec  = TextVectorization.from_config(from_disk['config'])\n",
        "vec.adapt(tf.data.Dataset.from_tensor_slices([\"xyz\"]))\n",
        "vec.set_weights(from_disk['weights'])\n",
        "\n",
        "# загрузим саму модель\n",
        "gdd.download_file_from_google_drive(file_id='1NtYG6li7a8jPohGBntJUrSCHDfDbqasQ',\\\n",
        "                                    dest_path='/Data/Glove_data/model_tr.h5')\n",
        "model = tf.keras.models.load_model('/Data/Glove_data/model_tr.h5')\n",
        "\n",
        "test_tr = test[test.lang == 'tr'].reset_index()\n",
        "test_tr = making_predictions(test_tr, vec, model)"
      ],
      "execution_count": null,
      "outputs": [
        {
          "output_type": "stream",
          "text": [
            "Downloading 1OYArfb962DH74McxenS9E4Sq9k9eS7gY into /Data/Glove_data/tv_tr.pkl... Done.\n",
            "Downloading 1NtYG6li7a8jPohGBntJUrSCHDfDbqasQ into /Data/Glove_data/model_tr.h5... Done.\n"
          ],
          "name": "stdout"
        }
      ]
    },
    {
      "cell_type": "code",
      "metadata": {
        "id": "WxMcJKU63-ry"
      },
      "source": [
        "pred = pd.concat([pred, test_tr], ignore_index=False)"
      ],
      "execution_count": null,
      "outputs": []
    },
    {
      "cell_type": "code",
      "metadata": {
        "id": "wTbkw1J3A4sY"
      },
      "source": [
        "pred['target']=pred.target.apply(lambda row: int(row))"
      ],
      "execution_count": null,
      "outputs": []
    },
    {
      "cell_type": "code",
      "metadata": {
        "colab": {
          "base_uri": "https://localhost:8080/"
        },
        "id": "cYPgZIDy4WaJ",
        "outputId": "1c80551b-c4ac-41d8-802c-abeee4c4be2d"
      },
      "source": [
        "del test_tr, test\n",
        "gc.collect()"
      ],
      "execution_count": null,
      "outputs": [
        {
          "output_type": "execute_result",
          "data": {
            "text/plain": [
              "56032"
            ]
          },
          "metadata": {
            "tags": []
          },
          "execution_count": 40
        }
      ]
    },
    {
      "cell_type": "code",
      "metadata": {
        "colab": {
          "base_uri": "https://localhost:8080/",
          "height": 405
        },
        "id": "EKGd50gKMWHE",
        "outputId": "24f32297-c925-4660-d5b5-54f6a6a4e40e"
      },
      "source": [
        "pred"
      ],
      "execution_count": null,
      "outputs": [
        {
          "output_type": "execute_result",
          "data": {
            "text/html": [
              "<div>\n",
              "<style scoped>\n",
              "    .dataframe tbody tr th:only-of-type {\n",
              "        vertical-align: middle;\n",
              "    }\n",
              "\n",
              "    .dataframe tbody tr th {\n",
              "        vertical-align: top;\n",
              "    }\n",
              "\n",
              "    .dataframe thead th {\n",
              "        text-align: right;\n",
              "    }\n",
              "</style>\n",
              "<table border=\"1\" class=\"dataframe\">\n",
              "  <thead>\n",
              "    <tr style=\"text-align: right;\">\n",
              "      <th></th>\n",
              "      <th>index</th>\n",
              "      <th>comment_text</th>\n",
              "      <th>lang</th>\n",
              "      <th>target</th>\n",
              "    </tr>\n",
              "  </thead>\n",
              "  <tbody>\n",
              "    <tr>\n",
              "      <th>0</th>\n",
              "      <td>5</td>\n",
              "      <td>truc plus important tirade avis coté encyclopé...</td>\n",
              "      <td>fr</td>\n",
              "      <td>1</td>\n",
              "    </tr>\n",
              "    <tr>\n",
              "      <th>1</th>\n",
              "      <td>12</td>\n",
              "      <td>surtout sacré dévot cabotin idiot mythomane as...</td>\n",
              "      <td>fr</td>\n",
              "      <td>1</td>\n",
              "    </tr>\n",
              "    <tr>\n",
              "      <th>2</th>\n",
              "      <td>13</td>\n",
              "      <td>contributeur tente prouver absurde commentaire...</td>\n",
              "      <td>fr</td>\n",
              "      <td>0</td>\n",
              "    </tr>\n",
              "    <tr>\n",
              "      <th>3</th>\n",
              "      <td>16</td>\n",
              "      <td>propos léon langage sauvage discours calomnian...</td>\n",
              "      <td>fr</td>\n",
              "      <td>0</td>\n",
              "    </tr>\n",
              "    <tr>\n",
              "      <th>4</th>\n",
              "      <td>19</td>\n",
              "      <td>prendsoses dire comporte bébé ansdéjà dis impo...</td>\n",
              "      <td>fr</td>\n",
              "      <td>0</td>\n",
              "    </tr>\n",
              "    <tr>\n",
              "      <th>...</th>\n",
              "      <td>...</td>\n",
              "      <td>...</td>\n",
              "      <td>...</td>\n",
              "      <td>...</td>\n",
              "    </tr>\n",
              "    <tr>\n",
              "      <th>13995</th>\n",
              "      <td>63781</td>\n",
              "      <td>dünyayı güzellik kurtaracak insanı sevmekle ba...</td>\n",
              "      <td>tr</td>\n",
              "      <td>0</td>\n",
              "    </tr>\n",
              "    <tr>\n",
              "      <th>13996</th>\n",
              "      <td>63791</td>\n",
              "      <td>önemli değilpostyorum tam bilgi kutusu ekledim...</td>\n",
              "      <td>tr</td>\n",
              "      <td>0</td>\n",
              "    </tr>\n",
              "    <tr>\n",
              "      <th>13997</th>\n",
              "      <td>63802</td>\n",
              "      <td>ckallogo jpg lisans sorunu px left dosya telif...</td>\n",
              "      <td>tr</td>\n",
              "      <td>0</td>\n",
              "    </tr>\n",
              "    <tr>\n",
              "      <th>13998</th>\n",
              "      <td>63806</td>\n",
              "      <td>evet haklısın telifli etiketi koymuşsun demişi...</td>\n",
              "      <td>tr</td>\n",
              "      <td>0</td>\n",
              "    </tr>\n",
              "    <tr>\n",
              "      <th>13999</th>\n",
              "      <td>63810</td>\n",
              "      <td>kaç olumlu oy gerekiyorşu an olduhayırlı olsun...</td>\n",
              "      <td>tr</td>\n",
              "      <td>0</td>\n",
              "    </tr>\n",
              "  </tbody>\n",
              "</table>\n",
              "<p>63812 rows × 4 columns</p>\n",
              "</div>"
            ],
            "text/plain": [
              "       index                                       comment_text lang  target\n",
              "0          5  truc plus important tirade avis coté encyclopé...   fr       1\n",
              "1         12  surtout sacré dévot cabotin idiot mythomane as...   fr       1\n",
              "2         13  contributeur tente prouver absurde commentaire...   fr       0\n",
              "3         16  propos léon langage sauvage discours calomnian...   fr       0\n",
              "4         19  prendsoses dire comporte bébé ansdéjà dis impo...   fr       0\n",
              "...      ...                                                ...  ...     ...\n",
              "13995  63781  dünyayı güzellik kurtaracak insanı sevmekle ba...   tr       0\n",
              "13996  63791  önemli değilpostyorum tam bilgi kutusu ekledim...   tr       0\n",
              "13997  63802  ckallogo jpg lisans sorunu px left dosya telif...   tr       0\n",
              "13998  63806  evet haklısın telifli etiketi koymuşsun demişi...   tr       0\n",
              "13999  63810  kaç olumlu oy gerekiyorşu an olduhayırlı olsun...   tr       0\n",
              "\n",
              "[63812 rows x 4 columns]"
            ]
          },
          "metadata": {
            "tags": []
          },
          "execution_count": 41
        }
      ]
    },
    {
      "cell_type": "markdown",
      "metadata": {
        "id": "6vNX_xDAAn2i"
      },
      "source": [
        "Отсортируем по старым индексам. И посмотрим, что у нас получилось"
      ]
    },
    {
      "cell_type": "code",
      "metadata": {
        "id": "1SD3e7k903S8"
      },
      "source": [
        "pred = pred.sort_values(by=['index'])"
      ],
      "execution_count": null,
      "outputs": []
    },
    {
      "cell_type": "code",
      "metadata": {
        "id": "dKY0YUsPi_TJ"
      },
      "source": [
        "pred = pred.set_index('index')"
      ],
      "execution_count": null,
      "outputs": []
    },
    {
      "cell_type": "code",
      "metadata": {
        "id": "-m3L3djYgdsw"
      },
      "source": [
        "predictions = pred.target"
      ],
      "execution_count": null,
      "outputs": []
    },
    {
      "cell_type": "code",
      "metadata": {
        "colab": {
          "base_uri": "https://localhost:8080/"
        },
        "id": "wiI4VAzwi-ai",
        "outputId": "6e2095da-4cc2-4006-bfc0-2c94b9812601"
      },
      "source": [
        "predictions"
      ],
      "execution_count": null,
      "outputs": [
        {
          "output_type": "execute_result",
          "data": {
            "text/plain": [
              "index\n",
              "0        0\n",
              "1        0\n",
              "2        0\n",
              "3        0\n",
              "4        0\n",
              "        ..\n",
              "63807    1\n",
              "63808    0\n",
              "63809    0\n",
              "63810    0\n",
              "63811    0\n",
              "Name: target, Length: 63812, dtype: int64"
            ]
          },
          "metadata": {
            "tags": []
          },
          "execution_count": 53
        }
      ]
    },
    {
      "cell_type": "markdown",
      "metadata": {
        "id": "jUDcWRwdwND6"
      },
      "source": [
        "#Submission"
      ]
    },
    {
      "cell_type": "code",
      "metadata": {
        "id": "kINRDgh1b6U4"
      },
      "source": [
        "def save_submission(pred):\n",
        "    pd.Series(\n",
        "        pred, name='toxic', index=pd.Index(range(len(pred)), name='id')\n",
        "    ).to_csv('notebook_submission_glove.csv')"
      ],
      "execution_count": null,
      "outputs": []
    },
    {
      "cell_type": "code",
      "metadata": {
        "id": "R2c1ClNLb7OS"
      },
      "source": [
        "save_submission(predictions)"
      ],
      "execution_count": null,
      "outputs": []
    },
    {
      "cell_type": "markdown",
      "metadata": {
        "id": "4WGZ0QtzqaGT"
      },
      "source": [
        "И что же кэгль?"
      ]
    },
    {
      "cell_type": "markdown",
      "metadata": {
        "id": "cuRCdglm8KN6"
      },
      "source": [
        "![image.png](data:image/png;base64,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)"
      ]
    },
    {
      "cell_type": "markdown",
      "metadata": {
        "id": "Zqx6whA-8L1j"
      },
      "source": [
        "Это не Tf-idf - я просто все в версии одного блокнота забиваю"
      ]
    },
    {
      "cell_type": "markdown",
      "metadata": {
        "id": "QgCEa-uVnL6q"
      },
      "source": [
        "# Выводы:"
      ]
    },
    {
      "cell_type": "markdown",
      "metadata": {
        "id": "2w5u4L-knOTX"
      },
      "source": [
        "Результаты ожидаемы. У нас informal speech. А мы делали все по заранее pre-trained embeddings. Очевидно, не все слова нашлись. Отсюда результаты + очень незатейливая архитектура нейронки.\n",
        "\n",
        "Glove отработал лучше на более стабильных языках, и плохо на морфологически богатых.\n",
        "\n",
        "В дальнейшем, при работе с такими языками, особенно с русским, лучше работать с FastText. Ну и делать лемматизацию заодно."
      ]
    }
  ]
}