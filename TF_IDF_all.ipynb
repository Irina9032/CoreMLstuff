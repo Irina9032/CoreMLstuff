{
  "nbformat": 4,
  "nbformat_minor": 0,
  "metadata": {
    "colab": {
      "name": "H1W.TF-IDF_all",
      "provenance": [],
      "collapsed_sections": [
        "JesZcXp44gPq",
        "eJt2gCCy0Oi-",
        "qtZFxbDF0SLn",
        "TSdvzfC_KoI8",
        "NMCsS3-aKoI9"
      ],
      "toc_visible": true
    },
    "kernelspec": {
      "display_name": "Python 3",
      "name": "python3"
    }
  },
  "cells": [
    {
      "cell_type": "markdown",
      "metadata": {
        "id": "5TDDJeSw1fuo"
      },
      "source": [
        "#Task"
      ]
    },
    {
      "cell_type": "markdown",
      "metadata": {
        "id": "LtVUQVyp0YCg"
      },
      "source": [
        "1. **Text preprocessing**\n",
        "  \n",
        "  a. There are several extra data resources for this competition. You may investigate them also. The most frequently used are the base data and the translated data. Some pre-trained models are also available in Kaggle “public datasets”.\n",
        "\n",
        "  b. For some models preprocessing may be needed. Please, perform at least the following steps (in preferred order):\n",
        "\n",
        "     -  Stop-words removing\n",
        "\n",
        "     -  Processing of numbers and service characters\n",
        "\n",
        "     -  Register processing\n",
        "\n",
        "     -  Text normalisation\n",
        "\n",
        "     -  Dictionary-based processing of informal speech\n",
        "\n",
        "2. **Embeddings with any preferred classification model** (mandatory are in cursive)\n",
        "\n",
        "  a. *tf-idf (start with this),*\n",
        "\n",
        "  b. *word2vec from gensim or spacy,*\n",
        "\n",
        "  c. fasttext from its native lib or from gensim,\n",
        "\n",
        "  d. doc2vec from gensim,\n",
        "\n",
        "  e. Starspace,\n",
        "\n",
        "  f. *pre-trained BERT in preferred framework*,\n",
        "\n",
        "  g. *Fine-tune preferred language model*,\n",
        "\n",
        "  h. Use an ensemble of all models used.\n",
        "\n",
        "3. **Metric: ROC_AUC**\n",
        "\n",
        "\n",
        "**Notes:**\n",
        "\n",
        "All embeddings may be used with pre-trained weights or vectors\n",
        "\n",
        "You are not limited with the models described above – you can utilise all the models listed in the materials\n",
        "\n",
        "Check the baseline and beat the score of 0.91"
      ]
    },
    {
      "cell_type": "markdown",
      "metadata": {
        "id": "GGNP2wqN1aEa"
      },
      "source": [
        "# Preluminaries"
      ]
    },
    {
      "cell_type": "markdown",
      "metadata": {
        "id": "7bYrodPz1Huh"
      },
      "source": [
        "Итак, чтобы не мучаться несколько раз, мы сделаем EDA единожды и будем работать во всех последующих моделях с уже обработанными данными.\n",
        "\n",
        "Так как это не первая итерация дз, было бы интересно посмотреть, а как результаты будут менятся в зависимости от были ли данные почищены (spellcheck) или нет.\n",
        "\n",
        "Дело в том, что во время подготовки, я заметила, что далеко не всегда спелчек хорошо срабатывает на неформальной речи. Часто сильно меняет значение. Но размер словаря при применении спелчека существенно уменьшался. Поэтому решила попробовать.\n",
        "\n",
        "Ну и будем делать TF-IDF BPEmb. Как показал опыт, он дает наилучшие результаты.\n",
        "\n",
        "Также опыт показал, что наилучшие результаты дает еще спелчек+лемматизация, а также комбинация tf-idf bpemb + tf-idf words. Но на большом датасете мы не будем такого творить. Разница в скорах слишком небольшая получается, чтобы так загоняться.\n"
      ]
    },
    {
      "cell_type": "markdown",
      "metadata": {
        "id": "JesZcXp44gPq"
      },
      "source": [
        "# Imports"
      ]
    },
    {
      "cell_type": "code",
      "metadata": {
        "colab": {
          "base_uri": "https://localhost:8080/"
        },
        "id": "vtHfXO6qkdot",
        "outputId": "21b6b367-f65d-4669-a207-cd86dff290fe"
      },
      "source": [
        "!pip install bpemb"
      ],
      "execution_count": null,
      "outputs": [
        {
          "output_type": "stream",
          "text": [
            "Collecting bpemb\n",
            "  Downloading https://files.pythonhosted.org/packages/91/77/3f0f53856e86af32b1d3c86652815277f7b5f880002584eb30db115b6df5/bpemb-0.3.2-py3-none-any.whl\n",
            "Requirement already satisfied: numpy in /usr/local/lib/python3.7/dist-packages (from bpemb) (1.19.5)\n",
            "Requirement already satisfied: tqdm in /usr/local/lib/python3.7/dist-packages (from bpemb) (4.41.1)\n",
            "Requirement already satisfied: requests in /usr/local/lib/python3.7/dist-packages (from bpemb) (2.23.0)\n",
            "Requirement already satisfied: gensim in /usr/local/lib/python3.7/dist-packages (from bpemb) (3.6.0)\n",
            "Collecting sentencepiece\n",
            "\u001b[?25l  Downloading https://files.pythonhosted.org/packages/f5/99/e0808cb947ba10f575839c43e8fafc9cc44e4a7a2c8f79c60db48220a577/sentencepiece-0.1.95-cp37-cp37m-manylinux2014_x86_64.whl (1.2MB)\n",
            "\u001b[K     |████████████████████████████████| 1.2MB 10.0MB/s \n",
            "\u001b[?25hRequirement already satisfied: certifi>=2017.4.17 in /usr/local/lib/python3.7/dist-packages (from requests->bpemb) (2020.12.5)\n",
            "Requirement already satisfied: idna<3,>=2.5 in /usr/local/lib/python3.7/dist-packages (from requests->bpemb) (2.10)\n",
            "Requirement already satisfied: urllib3!=1.25.0,!=1.25.1,<1.26,>=1.21.1 in /usr/local/lib/python3.7/dist-packages (from requests->bpemb) (1.24.3)\n",
            "Requirement already satisfied: chardet<4,>=3.0.2 in /usr/local/lib/python3.7/dist-packages (from requests->bpemb) (3.0.4)\n",
            "Requirement already satisfied: smart-open>=1.2.1 in /usr/local/lib/python3.7/dist-packages (from gensim->bpemb) (4.2.0)\n",
            "Requirement already satisfied: six>=1.5.0 in /usr/local/lib/python3.7/dist-packages (from gensim->bpemb) (1.15.0)\n",
            "Requirement already satisfied: scipy>=0.18.1 in /usr/local/lib/python3.7/dist-packages (from gensim->bpemb) (1.4.1)\n",
            "Installing collected packages: sentencepiece, bpemb\n",
            "Successfully installed bpemb-0.3.2 sentencepiece-0.1.95\n"
          ],
          "name": "stdout"
        }
      ]
    },
    {
      "cell_type": "code",
      "metadata": {
        "id": "b8mLA-uagmtM"
      },
      "source": [
        "#basic package\n",
        "import numpy as np\n",
        "import pandas as pd\n",
        "\n",
        "#feature engineering\n",
        "from gensim import utils\n",
        "import gensim.parsing.preprocessing as gsp\n",
        "from sklearn.feature_extraction.text import TfidfVectorizer\n",
        "from bpemb import BPEmb\n",
        "from sklearn.pipeline import make_union\n",
        "from sklearn.model_selection import train_test_split, StratifiedKFold, GridSearchCV\n",
        "from sklearn.linear_model import LogisticRegression\n",
        "from sklearn.metrics import classification_report, confusion_matrix\n",
        "from sklearn.model_selection import cross_val_score\n",
        "from sklearn.metrics import accuracy_score, f1_score, roc_auc_score\n",
        "\n",
        "#vizualiazation\n",
        "import seaborn as sns\n",
        "import matplotlib.pyplot as plt\n",
        "%matplotlib inline\n",
        "sns.set_context('notebook')\n",
        "%config InlineBackend.figure_format = 'retina'\n",
        "from wordcloud import WordCloud, STOPWORDS\n",
        "\n",
        "#settings\n",
        "import os\n",
        "import gc\n",
        "plt.rcParams['figure.figsize'] = 10, 8\n",
        "import warnings \n",
        "warnings.filterwarnings('ignore')\n",
        "\n",
        "from google_drive_downloader import GoogleDriveDownloader as gdd"
      ],
      "execution_count": null,
      "outputs": []
    },
    {
      "cell_type": "markdown",
      "metadata": {
        "id": "eJt2gCCy0Oi-"
      },
      "source": [
        "# Auxilliary functions"
      ]
    },
    {
      "cell_type": "code",
      "metadata": {
        "id": "shWkk_kE9-KG"
      },
      "source": [
        "def lst_to_str(lst):\n",
        "    str = ''\n",
        "    for element in lst:\n",
        "         str += element\n",
        "\n",
        "    return str"
      ],
      "execution_count": null,
      "outputs": []
    },
    {
      "cell_type": "code",
      "metadata": {
        "id": "baVtfBnYbEmJ"
      },
      "source": [
        "def normalized_confusion_matrix (y, predictions):\n",
        "    '''\n",
        "    Функция для построения confusion_matrix.\n",
        "    y - истинные значения\n",
        "    predictions - предсказанные значения\n",
        "    '''\n",
        "    conf = confusion_matrix(y, predictions, normalize = 'true')\n",
        "    sns.heatmap(conf,\n",
        "                annot=conf/np.sum(conf,axis=1), #normalized by true class sizes\n",
        "                yticklabels=['Pred. Pos', 'Pred. Neg.'],\n",
        "                xticklabels=['True Positive', 'True Negative'],  \n",
        "                cmap= 'Blues');\n",
        "    plt.title('Logistic regression confusion matrix');\n",
        "    plt.xlabel('Predicted label');\n",
        "    plt.ylabel('True label');"
      ],
      "execution_count": null,
      "outputs": []
    },
    {
      "cell_type": "markdown",
      "metadata": {
        "id": "ODGy8Blp1ysF"
      },
      "source": [
        "# EDA & DP"
      ]
    },
    {
      "cell_type": "markdown",
      "metadata": {
        "id": "OveDZxLQ11eR"
      },
      "source": [
        "[EDA и data preparation тут](https://colab.research.google.com/drive/1RUvUuLHinTWeSZcpzQZlilaSCFGCprpC?usp=sharing)"
      ]
    },
    {
      "cell_type": "markdown",
      "metadata": {
        "id": "4omhukfV69wR"
      },
      "source": [
        "# TF-IDF with cleaning (Spell-check)"
      ]
    },
    {
      "cell_type": "markdown",
      "metadata": {
        "id": "qtZFxbDF0SLn"
      },
      "source": [
        "## Download & Overview"
      ]
    },
    {
      "cell_type": "markdown",
      "metadata": {
        "id": "luEJHlGL6aMV"
      },
      "source": [
        "Загрузим данные со спелчеком"
      ]
    },
    {
      "cell_type": "code",
      "metadata": {
        "colab": {
          "base_uri": "https://localhost:8080/"
        },
        "id": "IWgd7Bn2L6Lc",
        "outputId": "3107f9ab-907d-4f49-ae4e-63f30269e5a2"
      },
      "source": [
        "gdd.download_file_from_google_drive(file_id='1jP3ZOQpLIf1mYh_N_Q5p50XDe22su3aP',\\\n",
        "                                    dest_path='/Data/train.csv')\n",
        "train = pd.read_csv('/Data/train.csv')"
      ],
      "execution_count": null,
      "outputs": [
        {
          "output_type": "stream",
          "text": [
            "Downloading 1jP3ZOQpLIf1mYh_N_Q5p50XDe22su3aP into /Data/train.csv... Done.\n"
          ],
          "name": "stdout"
        }
      ]
    },
    {
      "cell_type": "code",
      "metadata": {
        "id": "PEdeq8h8jkgz"
      },
      "source": [
        "train.drop('Unnamed: 0', axis=1, inplace=True)"
      ],
      "execution_count": null,
      "outputs": []
    },
    {
      "cell_type": "code",
      "metadata": {
        "colab": {
          "base_uri": "https://localhost:8080/"
        },
        "id": "qgk9yDOXLeR5",
        "outputId": "f7cec22c-26fe-45b0-b915-e69e0a662fe8"
      },
      "source": [
        "train.shape"
      ],
      "execution_count": null,
      "outputs": [
        {
          "output_type": "execute_result",
          "data": {
            "text/plain": [
              "(1340101, 3)"
            ]
          },
          "metadata": {
            "tags": []
          },
          "execution_count": 12
        }
      ]
    },
    {
      "cell_type": "code",
      "metadata": {
        "colab": {
          "base_uri": "https://localhost:8080/"
        },
        "id": "douzMijRT3x9",
        "outputId": "fb51c80f-1cb3-4c3a-8ef5-6d24cf91413c"
      },
      "source": [
        "train.info()"
      ],
      "execution_count": null,
      "outputs": [
        {
          "output_type": "stream",
          "text": [
            "<class 'pandas.core.frame.DataFrame'>\n",
            "RangeIndex: 1340101 entries, 0 to 1340100\n",
            "Data columns (total 3 columns):\n",
            " #   Column        Non-Null Count    Dtype \n",
            "---  ------        --------------    ----- \n",
            " 0   comment_text  1340101 non-null  object\n",
            " 1   toxic         1340101 non-null  int64 \n",
            " 2   lang          1340101 non-null  object\n",
            "dtypes: int64(1), object(2)\n",
            "memory usage: 30.7+ MB\n"
          ],
          "name": "stdout"
        }
      ]
    },
    {
      "cell_type": "markdown",
      "metadata": {
        "id": "XCRhxgQqf54j"
      },
      "source": [
        "Ранее мы не удалили в EDA дубли. Сделаем это сейчас."
      ]
    },
    {
      "cell_type": "code",
      "metadata": {
        "colab": {
          "base_uri": "https://localhost:8080/"
        },
        "id": "pBvd6Pmqf7co",
        "outputId": "6e1ef944-08c4-4fcb-8bec-c3bf69e4c9e0"
      },
      "source": [
        "train[train.duplicated()]"
      ],
      "execution_count": null,
      "outputs": [
        {
          "output_type": "execute_result",
          "data": {
            "text/html": [
              "<div>\n",
              "<style scoped>\n",
              "    .dataframe tbody tr th:only-of-type {\n",
              "        vertical-align: middle;\n",
              "    }\n",
              "\n",
              "    .dataframe tbody tr th {\n",
              "        vertical-align: top;\n",
              "    }\n",
              "\n",
              "    .dataframe thead th {\n",
              "        text-align: right;\n",
              "    }\n",
              "</style>\n",
              "<table border=\"1\" class=\"dataframe\">\n",
              "  <thead>\n",
              "    <tr style=\"text-align: right;\">\n",
              "      <th></th>\n",
              "      <th>comment_text</th>\n",
              "      <th>toxic</th>\n",
              "      <th>lang</th>\n",
              "    </tr>\n",
              "  </thead>\n",
              "  <tbody>\n",
              "    <tr>\n",
              "      <th>1553</th>\n",
              "      <td>['juillet etc']</td>\n",
              "      <td>0</td>\n",
              "      <td>fr</td>\n",
              "    </tr>\n",
              "    <tr>\n",
              "      <th>2017</th>\n",
              "      <td>['juillet etc']</td>\n",
              "      <td>0</td>\n",
              "      <td>fr</td>\n",
              "    </tr>\n",
              "    <tr>\n",
              "      <th>2211</th>\n",
              "      <td>['']</td>\n",
              "      <td>0</td>\n",
              "      <td>fr</td>\n",
              "    </tr>\n",
              "    <tr>\n",
              "      <th>2399</th>\n",
              "      <td>['']</td>\n",
              "      <td>0</td>\n",
              "      <td>fr</td>\n",
              "    </tr>\n",
              "    <tr>\n",
              "      <th>2819</th>\n",
              "      <td>['juillet etc']</td>\n",
              "      <td>0</td>\n",
              "      <td>fr</td>\n",
              "    </tr>\n",
              "    <tr>\n",
              "      <th>...</th>\n",
              "      <td>...</td>\n",
              "      <td>...</td>\n",
              "      <td>...</td>\n",
              "    </tr>\n",
              "    <tr>\n",
              "      <th>1339778</th>\n",
              "      <td>['добро пожаловать', 'здравствуйте добро пожал...</td>\n",
              "      <td>0</td>\n",
              "      <td>ru</td>\n",
              "    </tr>\n",
              "    <tr>\n",
              "      <th>1339794</th>\n",
              "      <td>['заткнись']</td>\n",
              "      <td>1</td>\n",
              "      <td>ru</td>\n",
              "    </tr>\n",
              "    <tr>\n",
              "      <th>1339807</th>\n",
              "      <td>['спасибо эксперимент википедией', 'ваш тест с...</td>\n",
              "      <td>0</td>\n",
              "      <td>ru</td>\n",
              "    </tr>\n",
              "    <tr>\n",
              "      <th>1339966</th>\n",
              "      <td>['пожалуйста остановись', 'продолжите вандализ...</td>\n",
              "      <td>0</td>\n",
              "      <td>ru</td>\n",
              "    </tr>\n",
              "    <tr>\n",
              "      <th>1340077</th>\n",
              "      <td>['pressmulti маленький разрушилась title викип...</td>\n",
              "      <td>0</td>\n",
              "      <td>ru</td>\n",
              "    </tr>\n",
              "  </tbody>\n",
              "</table>\n",
              "<p>13768 rows × 3 columns</p>\n",
              "</div>"
            ],
            "text/plain": [
              "                                              comment_text  toxic lang\n",
              "1553                                       ['juillet etc']      0   fr\n",
              "2017                                       ['juillet etc']      0   fr\n",
              "2211                                                  ['']      0   fr\n",
              "2399                                                  ['']      0   fr\n",
              "2819                                       ['juillet etc']      0   fr\n",
              "...                                                    ...    ...  ...\n",
              "1339778  ['добро пожаловать', 'здравствуйте добро пожал...      0   ru\n",
              "1339794                                       ['заткнись']      1   ru\n",
              "1339807  ['спасибо эксперимент википедией', 'ваш тест с...      0   ru\n",
              "1339966  ['пожалуйста остановись', 'продолжите вандализ...      0   ru\n",
              "1340077  ['pressmulti маленький разрушилась title викип...      0   ru\n",
              "\n",
              "[13768 rows x 3 columns]"
            ]
          },
          "metadata": {
            "tags": []
          },
          "execution_count": 14
        }
      ]
    },
    {
      "cell_type": "markdown",
      "metadata": {
        "id": "sUzYkdc3Gghv"
      },
      "source": [
        "Дубли есть. Удалим их."
      ]
    },
    {
      "cell_type": "code",
      "metadata": {
        "id": "k_83XUYCTQJu"
      },
      "source": [
        "train.drop_duplicates(keep='first', inplace=True, ignore_index=True)"
      ],
      "execution_count": null,
      "outputs": []
    },
    {
      "cell_type": "code",
      "metadata": {
        "colab": {
          "base_uri": "https://localhost:8080/"
        },
        "id": "BLv2OlpxsL2T",
        "outputId": "0beb3d77-d6b7-4f64-ce29-67c674825e66"
      },
      "source": [
        "%%time\n",
        "train['comment_text'] = train['comment_text'].apply(lambda row: eval(row))"
      ],
      "execution_count": null,
      "outputs": [
        {
          "output_type": "stream",
          "text": [
            "CPU times: user 20.7 s, sys: 925 ms, total: 21.6 s\n",
            "Wall time: 21.7 s\n"
          ],
          "name": "stdout"
        }
      ]
    },
    {
      "cell_type": "markdown",
      "metadata": {
        "id": "_oLF7k_HwWvl"
      },
      "source": [
        "В принципе, разбивка на предложения внутри списка нам больше в tf-idf не нужна. Сделаем все одной строкой."
      ]
    },
    {
      "cell_type": "code",
      "metadata": {
        "colab": {
          "base_uri": "https://localhost:8080/"
        },
        "id": "cL6yT_kAwFEm",
        "outputId": "31260700-ea83-41ba-9c26-19ac5ee1fe66"
      },
      "source": [
        "%%time\n",
        "train['comment_text'] = train['comment_text'].apply(lambda row: lst_to_str(row))"
      ],
      "execution_count": null,
      "outputs": [
        {
          "output_type": "stream",
          "text": [
            "CPU times: user 1.95 s, sys: 10.8 ms, total: 1.96 s\n",
            "Wall time: 1.97 s\n"
          ],
          "name": "stdout"
        }
      ]
    },
    {
      "cell_type": "code",
      "metadata": {
        "colab": {
          "base_uri": "https://localhost:8080/"
        },
        "id": "P2aQKzQ1jZKH",
        "outputId": "38c61ceb-4dc8-4b78-c19a-557d7e7d2b35"
      },
      "source": [
        "train.head(5)"
      ],
      "execution_count": null,
      "outputs": [
        {
          "output_type": "execute_result",
          "data": {
            "text/html": [
              "<div>\n",
              "<style scoped>\n",
              "    .dataframe tbody tr th:only-of-type {\n",
              "        vertical-align: middle;\n",
              "    }\n",
              "\n",
              "    .dataframe tbody tr th {\n",
              "        vertical-align: top;\n",
              "    }\n",
              "\n",
              "    .dataframe thead th {\n",
              "        text-align: right;\n",
              "    }\n",
              "</style>\n",
              "<table border=\"1\" class=\"dataframe\">\n",
              "  <thead>\n",
              "    <tr style=\"text-align: right;\">\n",
              "      <th></th>\n",
              "      <th>comment_text</th>\n",
              "      <th>toxic</th>\n",
              "      <th>lang</th>\n",
              "    </tr>\n",
              "  </thead>\n",
              "  <tbody>\n",
              "    <tr>\n",
              "      <th>0</th>\n",
              "      <td>hé mec essaye vraiment modifier guerretype sup...</td>\n",
              "      <td>0</td>\n",
              "      <td>fr</td>\n",
              "    </tr>\n",
              "    <tr>\n",
              "      <th>1</th>\n",
              "      <td>félicitations part également utilisez bien out...</td>\n",
              "      <td>0</td>\n",
              "      <td>fr</td>\n",
              "    </tr>\n",
              "    <tr>\n",
              "      <th>2</th>\n",
              "      <td>point mitsurugi sens plaider inclure hindi pag...</td>\n",
              "      <td>0</td>\n",
              "      <td>fr</td>\n",
              "    </tr>\n",
              "    <tr>\n",
              "      <th>3</th>\n",
              "      <td>plus peux véritables suggestions amélioration ...</td>\n",
              "      <td>0</td>\n",
              "      <td>fr</td>\n",
              "    </tr>\n",
              "    <tr>\n",
              "      <th>4</th>\n",
              "      <td>alignement contraires dulithgow</td>\n",
              "      <td>0</td>\n",
              "      <td>fr</td>\n",
              "    </tr>\n",
              "  </tbody>\n",
              "</table>\n",
              "</div>"
            ],
            "text/plain": [
              "                                        comment_text  toxic lang\n",
              "0  hé mec essaye vraiment modifier guerretype sup...      0   fr\n",
              "1  félicitations part également utilisez bien out...      0   fr\n",
              "2  point mitsurugi sens plaider inclure hindi pag...      0   fr\n",
              "3  plus peux véritables suggestions amélioration ...      0   fr\n",
              "4                    alignement contraires dulithgow      0   fr"
            ]
          },
          "metadata": {
            "tags": []
          },
          "execution_count": 18
        }
      ]
    },
    {
      "cell_type": "markdown",
      "metadata": {
        "id": "TSdvzfC_KoI8"
      },
      "source": [
        "## Train-test-split"
      ]
    },
    {
      "cell_type": "code",
      "metadata": {
        "id": "hB_RFQ5Z7Quh"
      },
      "source": [
        "X = train.comment_text\n",
        "y = train.toxic"
      ],
      "execution_count": null,
      "outputs": []
    },
    {
      "cell_type": "code",
      "metadata": {
        "colab": {
          "base_uri": "https://localhost:8080/"
        },
        "id": "HK3cwj30jsMm",
        "outputId": "a25e4c60-2c15-488b-ebe6-a71d3fe95b3a"
      },
      "source": [
        "del train\n",
        "gc.collect()"
      ],
      "execution_count": null,
      "outputs": [
        {
          "output_type": "execute_result",
          "data": {
            "text/plain": [
              "214"
            ]
          },
          "metadata": {
            "tags": []
          },
          "execution_count": 20
        }
      ]
    },
    {
      "cell_type": "code",
      "metadata": {
        "id": "sEyV4FJGDZGw"
      },
      "source": [
        "X_train, X_test, y_train, y_test = train_test_split(X, y, test_size=0.3, random_state=42, stratify=y)"
      ],
      "execution_count": null,
      "outputs": []
    },
    {
      "cell_type": "code",
      "metadata": {
        "colab": {
          "base_uri": "https://localhost:8080/"
        },
        "id": "mkfA94f7DfBy",
        "outputId": "a1592ef1-d02e-4fe7-9960-cc3699595510"
      },
      "source": [
        "print ('Train set:', X_train.shape)\n",
        "print ('Test set:', X_test.shape)"
      ],
      "execution_count": null,
      "outputs": [
        {
          "output_type": "stream",
          "text": [
            "Train set: (928433,)\n",
            "Test set: (397900,)\n"
          ],
          "name": "stdout"
        }
      ]
    },
    {
      "cell_type": "markdown",
      "metadata": {
        "id": "NMCsS3-aKoI9"
      },
      "source": [
        "## TF-IDF"
      ]
    },
    {
      "cell_type": "code",
      "metadata": {
        "id": "QBXVtuzEj4tk"
      },
      "source": [
        "from bpemb import BPEmb"
      ],
      "execution_count": null,
      "outputs": []
    },
    {
      "cell_type": "code",
      "metadata": {
        "colab": {
          "base_uri": "https://localhost:8080/"
        },
        "id": "SO5UU2EVkCh4",
        "outputId": "3b354283-dbcf-4e00-8792-9668af2a640b"
      },
      "source": [
        "multibpemb = BPEmb(lang=\"multi\", vs=1000000, dim=300)"
      ],
      "execution_count": null,
      "outputs": [
        {
          "output_type": "stream",
          "text": [
            "downloading https://nlp.h-its.org/bpemb/multi/multi.wiki.bpe.vs1000000.model\n"
          ],
          "name": "stdout"
        },
        {
          "output_type": "stream",
          "text": [
            "100%|██████████| 20636145/20636145 [00:01<00:00, 10503292.93B/s]\n"
          ],
          "name": "stderr"
        },
        {
          "output_type": "stream",
          "text": [
            "downloading https://nlp.h-its.org/bpemb/multi/multi.wiki.bpe.vs1000000.d300.w2v.bin.tar.gz\n"
          ],
          "name": "stdout"
        },
        {
          "output_type": "stream",
          "text": [
            "100%|██████████| 1123372891/1123372891 [01:02<00:00, 18108662.35B/s]\n"
          ],
          "name": "stderr"
        }
      ]
    },
    {
      "cell_type": "code",
      "metadata": {
        "id": "xJtvEEkdkCf0"
      },
      "source": [
        "tfidf_bpemb = TfidfVectorizer(\n",
        "                              analyzer=multibpemb.encode, \n",
        "                              token_pattern=r'\\w{1,}',\n",
        "                              strip_accents = 'unicode',\n",
        "                              ngram_range = (1, 2),\n",
        "                              sublinear_tf = True, \n",
        "                              max_features = 100000\n",
        "                              )"
      ],
      "execution_count": null,
      "outputs": []
    },
    {
      "cell_type": "code",
      "metadata": {
        "id": "skHoTG2D7yb9",
        "colab": {
          "base_uri": "https://localhost:8080/"
        },
        "outputId": "694ec1af-d835-429b-c302-16a31538ac25"
      },
      "source": [
        "%%time\n",
        "\n",
        "X_train = tfidf_bpemb.fit_transform(X_train)\n",
        "X_test = tfidf_bpemb.transform(X_test)"
      ],
      "execution_count": null,
      "outputs": [
        {
          "output_type": "stream",
          "text": [
            "CPU times: user 8min 34s, sys: 2.44 s, total: 8min 37s\n",
            "Wall time: 8min 38s\n"
          ],
          "name": "stdout"
        }
      ]
    },
    {
      "cell_type": "markdown",
      "metadata": {
        "id": "Np1r_xdHKoI9"
      },
      "source": [
        "## Logreg"
      ]
    },
    {
      "cell_type": "code",
      "metadata": {
        "colab": {
          "base_uri": "https://localhost:8080/"
        },
        "id": "g5nLHYhRSE8D",
        "outputId": "52ded2d7-1552-4be1-a7b3-a8ab84ea1f57"
      },
      "source": [
        "%%time\n",
        "\n",
        "parameters = {'C': [0.1, 0.5, 1, 5],\n",
        "              'penalty': ['l1', 'l2', 'elasticnet']}\n",
        "\n",
        "grid_search = GridSearchCV(LogisticRegression(class_weight = 'balanced'), param_grid=parameters,\n",
        "                           cv=StratifiedKFold(3), scoring='roc_auc', verbose=2)\n",
        "\n",
        "grid_search.fit(X_train, y_train)"
      ],
      "execution_count": null,
      "outputs": [
        {
          "output_type": "stream",
          "text": [
            "Fitting 3 folds for each of 12 candidates, totalling 36 fits\n",
            "[CV] C=0.1, penalty=l1 ...............................................\n"
          ],
          "name": "stdout"
        },
        {
          "output_type": "stream",
          "text": [
            "[Parallel(n_jobs=1)]: Using backend SequentialBackend with 1 concurrent workers.\n",
            "[Parallel(n_jobs=1)]: Done   1 out of   1 | elapsed:    0.2s remaining:    0.0s\n"
          ],
          "name": "stderr"
        },
        {
          "output_type": "stream",
          "text": [
            "[CV] ................................ C=0.1, penalty=l1, total=   0.2s\n",
            "[CV] C=0.1, penalty=l1 ...............................................\n",
            "[CV] ................................ C=0.1, penalty=l1, total=   0.1s\n",
            "[CV] C=0.1, penalty=l1 ...............................................\n",
            "[CV] ................................ C=0.1, penalty=l1, total=   0.1s\n",
            "[CV] C=0.1, penalty=l2 ...............................................\n",
            "[CV] ................................ C=0.1, penalty=l2, total=  21.8s\n",
            "[CV] C=0.1, penalty=l2 ...............................................\n",
            "[CV] ................................ C=0.1, penalty=l2, total=  27.5s\n",
            "[CV] C=0.1, penalty=l2 ...............................................\n",
            "[CV] ................................ C=0.1, penalty=l2, total=  28.0s\n",
            "[CV] C=0.1, penalty=elasticnet .......................................\n",
            "[CV] ........................ C=0.1, penalty=elasticnet, total=   0.1s\n",
            "[CV] C=0.1, penalty=elasticnet .......................................\n",
            "[CV] ........................ C=0.1, penalty=elasticnet, total=   0.1s\n",
            "[CV] C=0.1, penalty=elasticnet .......................................\n",
            "[CV] ........................ C=0.1, penalty=elasticnet, total=   0.1s\n",
            "[CV] C=0.5, penalty=l1 ...............................................\n",
            "[CV] ................................ C=0.5, penalty=l1, total=   0.1s\n",
            "[CV] C=0.5, penalty=l1 ...............................................\n",
            "[CV] ................................ C=0.5, penalty=l1, total=   0.1s\n",
            "[CV] C=0.5, penalty=l1 ...............................................\n",
            "[CV] ................................ C=0.5, penalty=l1, total=   0.1s\n",
            "[CV] C=0.5, penalty=l2 ...............................................\n",
            "[CV] ................................ C=0.5, penalty=l2, total=  33.1s\n",
            "[CV] C=0.5, penalty=l2 ...............................................\n",
            "[CV] ................................ C=0.5, penalty=l2, total=  26.6s\n",
            "[CV] C=0.5, penalty=l2 ...............................................\n",
            "[CV] ................................ C=0.5, penalty=l2, total=  33.4s\n",
            "[CV] C=0.5, penalty=elasticnet .......................................\n",
            "[CV] ........................ C=0.5, penalty=elasticnet, total=   0.1s\n",
            "[CV] C=0.5, penalty=elasticnet .......................................\n",
            "[CV] ........................ C=0.5, penalty=elasticnet, total=   0.1s\n",
            "[CV] C=0.5, penalty=elasticnet .......................................\n",
            "[CV] ........................ C=0.5, penalty=elasticnet, total=   0.1s\n",
            "[CV] C=1, penalty=l1 .................................................\n",
            "[CV] .................................. C=1, penalty=l1, total=   0.1s\n",
            "[CV] C=1, penalty=l1 .................................................\n",
            "[CV] .................................. C=1, penalty=l1, total=   0.1s\n",
            "[CV] C=1, penalty=l1 .................................................\n",
            "[CV] .................................. C=1, penalty=l1, total=   0.1s\n",
            "[CV] C=1, penalty=l2 .................................................\n",
            "[CV] .................................. C=1, penalty=l2, total=  32.9s\n",
            "[CV] C=1, penalty=l2 .................................................\n",
            "[CV] .................................. C=1, penalty=l2, total=  33.1s\n",
            "[CV] C=1, penalty=l2 .................................................\n",
            "[CV] .................................. C=1, penalty=l2, total=  33.6s\n",
            "[CV] C=1, penalty=elasticnet .........................................\n",
            "[CV] .......................... C=1, penalty=elasticnet, total=   0.1s\n",
            "[CV] C=1, penalty=elasticnet .........................................\n",
            "[CV] .......................... C=1, penalty=elasticnet, total=   0.1s\n",
            "[CV] C=1, penalty=elasticnet .........................................\n",
            "[CV] .......................... C=1, penalty=elasticnet, total=   0.1s\n",
            "[CV] C=5, penalty=l1 .................................................\n",
            "[CV] .................................. C=5, penalty=l1, total=   0.1s\n",
            "[CV] C=5, penalty=l1 .................................................\n",
            "[CV] .................................. C=5, penalty=l1, total=   0.1s\n",
            "[CV] C=5, penalty=l1 .................................................\n",
            "[CV] .................................. C=5, penalty=l1, total=   0.1s\n",
            "[CV] C=5, penalty=l2 .................................................\n",
            "[CV] .................................. C=5, penalty=l2, total=  33.5s\n",
            "[CV] C=5, penalty=l2 .................................................\n",
            "[CV] .................................. C=5, penalty=l2, total=  35.1s\n",
            "[CV] C=5, penalty=l2 .................................................\n",
            "[CV] .................................. C=5, penalty=l2, total=  33.1s\n",
            "[CV] C=5, penalty=elasticnet .........................................\n",
            "[CV] .......................... C=5, penalty=elasticnet, total=   0.1s\n",
            "[CV] C=5, penalty=elasticnet .........................................\n",
            "[CV] .......................... C=5, penalty=elasticnet, total=   0.1s\n",
            "[CV] C=5, penalty=elasticnet .........................................\n",
            "[CV] .......................... C=5, penalty=elasticnet, total=   0.1s\n"
          ],
          "name": "stdout"
        },
        {
          "output_type": "stream",
          "text": [
            "[Parallel(n_jobs=1)]: Done  36 out of  36 | elapsed:  6.2min finished\n"
          ],
          "name": "stderr"
        },
        {
          "output_type": "stream",
          "text": [
            "CPU times: user 7min 48s, sys: 5min 7s, total: 12min 56s\n",
            "Wall time: 6min 59s\n"
          ],
          "name": "stdout"
        }
      ]
    },
    {
      "cell_type": "code",
      "metadata": {
        "colab": {
          "base_uri": "https://localhost:8080/"
        },
        "id": "nWKWWP-88B1J",
        "outputId": "41e3c357-fb7b-4ce4-8c50-00586f48295b"
      },
      "source": [
        "best_parameters = grid_search.best_params_\n",
        "print ('best parameters:', best_parameters)"
      ],
      "execution_count": null,
      "outputs": [
        {
          "output_type": "stream",
          "text": [
            "best parameters: {'C': 1, 'penalty': 'l2'}\n"
          ],
          "name": "stdout"
        }
      ]
    },
    {
      "cell_type": "code",
      "metadata": {
        "id": "MZXTRJJS79Z4"
      },
      "source": [
        "model = grid_search.best_estimator_"
      ],
      "execution_count": null,
      "outputs": []
    },
    {
      "cell_type": "code",
      "metadata": {
        "colab": {
          "base_uri": "https://localhost:8080/"
        },
        "id": "9HHksFLNP5yf",
        "outputId": "bbe83518-47ef-4eb3-bec3-6813fa530552"
      },
      "source": [
        "logreg_pred = model.predict(X_test)\n",
        "logreg_score = roc_auc_score(y_test, logreg_pred)\n",
        "print('roc_auc_score :', logreg_score)"
      ],
      "execution_count": null,
      "outputs": [
        {
          "output_type": "stream",
          "text": [
            "roc_auc_score : 0.8906235325031391\n"
          ],
          "name": "stdout"
        }
      ]
    },
    {
      "cell_type": "markdown",
      "metadata": {
        "id": "QOxyUSRO5SVd"
      },
      "source": [
        "Заметим, что в прошлом дз, где мы включали английский в рассмотрение, скор на кросс-валидации был повыше. Это логично. Ведь английский вносил некоторое \"положительное\" смещение. Теперь же его в датасете нет."
      ]
    },
    {
      "cell_type": "code",
      "metadata": {
        "colab": {
          "base_uri": "https://localhost:8080/"
        },
        "id": "7-DdXA0WLHRP",
        "outputId": "207bf0b0-ee6d-42b0-e9ff-fc27b14002dd"
      },
      "source": [
        "print('Test data')\n",
        "print(classification_report(y_test, logreg_pred))"
      ],
      "execution_count": null,
      "outputs": [
        {
          "output_type": "stream",
          "text": [
            "Test data\n",
            "              precision    recall  f1-score   support\n",
            "\n",
            "           0       0.98      0.93      0.95    359739\n",
            "           1       0.55      0.86      0.67     38161\n",
            "\n",
            "    accuracy                           0.92    397900\n",
            "   macro avg       0.77      0.89      0.81    397900\n",
            "weighted avg       0.94      0.92      0.93    397900\n",
            "\n"
          ],
          "name": "stdout"
        }
      ]
    },
    {
      "cell_type": "code",
      "metadata": {
        "colab": {
          "base_uri": "https://localhost:8080/",
          "height": 517
        },
        "id": "4qyL-mf1H04u",
        "outputId": "cff9bf07-f931-4b47-b53a-b7a70a5b5825"
      },
      "source": [
        "normalized_confusion_matrix (y_test, logreg_pred)"
      ],
      "execution_count": null,
      "outputs": [
        {
          "output_type": "display_data",
          "data": {
            "image/png": "[encoded data removed]",
            "text/plain": [
              "<Figure size 720x576 with 2 Axes>"
            ]
          },
          "metadata": {
            "tags": [],
            "image/png": {
              "width": 573,
              "height": 500
            },
            "needs_background": "light"
          }
        }
      ]
    },
    {
      "cell_type": "markdown",
      "metadata": {
        "id": "jUDcWRwdwND6"
      },
      "source": [
        "##Submission"
      ]
    },
    {
      "cell_type": "code",
      "metadata": {
        "id": "kINRDgh1b6U4"
      },
      "source": [
        "def save_submission(pred):\n",
        "    pd.Series(\n",
        "        pred, name='toxic', index=pd.Index(range(len(pred)), name='id')\n",
        "    ).to_csv('notebook_submission_tfidf_final.csv')"
      ],
      "execution_count": null,
      "outputs": []
    },
    {
      "cell_type": "code",
      "metadata": {
        "colab": {
          "base_uri": "https://localhost:8080/"
        },
        "id": "k2h1S38CP5T4",
        "outputId": "b54423a3-c284-42f0-a505-79eba7a660e0"
      },
      "source": [
        "gdd.download_file_from_google_drive(file_id='19GL4B5TVJX44K2Hibj7YYCNcLpDwTcx3',\\\n",
        "                                    dest_path='/Data/test.csv')\n",
        "test = pd.read_csv('/Data/test.csv')\n",
        "test = test.rename(columns={'content': 'comment_text'})"
      ],
      "execution_count": null,
      "outputs": [
        {
          "output_type": "stream",
          "text": [
            "Downloading 19GL4B5TVJX44K2Hibj7YYCNcLpDwTcx3 into /Data/test.csv... Done.\n"
          ],
          "name": "stdout"
        }
      ]
    },
    {
      "cell_type": "code",
      "metadata": {
        "colab": {
          "base_uri": "https://localhost:8080/",
          "height": 190
        },
        "id": "CkJwys9onnDv",
        "outputId": "9cb6dc06-39b3-42d4-8ab3-10918fd3c415"
      },
      "source": [
        "test.head(5)"
      ],
      "execution_count": null,
      "outputs": [
        {
          "output_type": "execute_result",
          "data": {
            "text/html": [
              "<div>\n",
              "<style scoped>\n",
              "    .dataframe tbody tr th:only-of-type {\n",
              "        vertical-align: middle;\n",
              "    }\n",
              "\n",
              "    .dataframe tbody tr th {\n",
              "        vertical-align: top;\n",
              "    }\n",
              "\n",
              "    .dataframe thead th {\n",
              "        text-align: right;\n",
              "    }\n",
              "</style>\n",
              "<table border=\"1\" class=\"dataframe\">\n",
              "  <thead>\n",
              "    <tr style=\"text-align: right;\">\n",
              "      <th></th>\n",
              "      <th>Unnamed: 0</th>\n",
              "      <th>comment_text</th>\n",
              "      <th>lang</th>\n",
              "    </tr>\n",
              "  </thead>\n",
              "  <tbody>\n",
              "    <tr>\n",
              "      <th>0</th>\n",
              "      <td>0</td>\n",
              "      <td>['doctor who adlı viki başlığına doctor olarak...</td>\n",
              "      <td>tr</td>\n",
              "    </tr>\n",
              "    <tr>\n",
              "      <th>1</th>\n",
              "      <td>1</td>\n",
              "      <td>['вполне возможно пока видеть необходимость вы...</td>\n",
              "      <td>ru</td>\n",
              "    </tr>\n",
              "    <tr>\n",
              "      <th>2</th>\n",
              "      <td>2</td>\n",
              "      <td>['conservativi preferiscono cancellare', 'ok l...</td>\n",
              "      <td>it</td>\n",
              "    </tr>\n",
              "    <tr>\n",
              "      <th>3</th>\n",
              "      <td>3</td>\n",
              "      <td>['malesef gerçekleştirilmedi ancak şöyle şey v...</td>\n",
              "      <td>tr</td>\n",
              "    </tr>\n",
              "    <tr>\n",
              "      <th>4</th>\n",
              "      <td>4</td>\n",
              "      <td>['resim seldabagcan jpg resminde kaynak sorunu...</td>\n",
              "      <td>tr</td>\n",
              "    </tr>\n",
              "  </tbody>\n",
              "</table>\n",
              "</div>"
            ],
            "text/plain": [
              "   Unnamed: 0                                       comment_text lang\n",
              "0           0  ['doctor who adlı viki başlığına doctor olarak...   tr\n",
              "1           1  ['вполне возможно пока видеть необходимость вы...   ru\n",
              "2           2  ['conservativi preferiscono cancellare', 'ok l...   it\n",
              "3           3  ['malesef gerçekleştirilmedi ancak şöyle şey v...   tr\n",
              "4           4  ['resim seldabagcan jpg resminde kaynak sorunu...   tr"
            ]
          },
          "metadata": {
            "tags": []
          },
          "execution_count": 35
        }
      ]
    },
    {
      "cell_type": "code",
      "metadata": {
        "colab": {
          "base_uri": "https://localhost:8080/"
        },
        "id": "aGVS3y3HaWOi",
        "outputId": "594d8605-dde3-47ca-bfa9-ed564b0e1a94"
      },
      "source": [
        "%%time\n",
        "\n",
        "test['comment_text'] = test['comment_text'].apply(lambda row: eval(row))"
      ],
      "execution_count": null,
      "outputs": [
        {
          "output_type": "stream",
          "text": [
            "CPU times: user 1.06 s, sys: 6.08 ms, total: 1.06 s\n",
            "Wall time: 1.07 s\n"
          ],
          "name": "stdout"
        }
      ]
    },
    {
      "cell_type": "code",
      "metadata": {
        "colab": {
          "base_uri": "https://localhost:8080/"
        },
        "id": "KdU2qSWxxPKp",
        "outputId": "eaadc57f-0064-42c2-f904-40038e8b1456"
      },
      "source": [
        "%%time\n",
        "\n",
        "test['comment_text'] = test['comment_text'].apply(lambda row: lst_to_str(row))"
      ],
      "execution_count": null,
      "outputs": [
        {
          "output_type": "stream",
          "text": [
            "CPU times: user 126 ms, sys: 1.08 ms, total: 127 ms\n",
            "Wall time: 126 ms\n"
          ],
          "name": "stdout"
        }
      ]
    },
    {
      "cell_type": "code",
      "metadata": {
        "id": "WpI9iiHqAf5d"
      },
      "source": [
        "test = test.comment_text"
      ],
      "execution_count": null,
      "outputs": []
    },
    {
      "cell_type": "code",
      "metadata": {
        "id": "gJmbr7YFUd8_"
      },
      "source": [
        "test = tfidf_bpemb.transform(test)"
      ],
      "execution_count": null,
      "outputs": []
    },
    {
      "cell_type": "code",
      "metadata": {
        "id": "pThtDVaOM5az"
      },
      "source": [
        "logreg_pred = model.predict(test)"
      ],
      "execution_count": null,
      "outputs": []
    },
    {
      "cell_type": "code",
      "metadata": {
        "id": "R2c1ClNLb7OS"
      },
      "source": [
        "save_submission(logreg_pred)"
      ],
      "execution_count": null,
      "outputs": []
    },
    {
      "cell_type": "markdown",
      "metadata": {
        "id": "4WGZ0QtzqaGT"
      },
      "source": [
        "И что же кэгль?"
      ]
    },
    {
      "cell_type": "markdown",
      "metadata": {
        "id": "9hn46DNKMd3c"
      },
      "source": [
        "![image.png](data:image/png;base64,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)"
      ]
    },
    {
      "cell_type": "markdown",
      "metadata": {
        "id": "5o0PRCVCqexE"
      },
      "source": [
        "Идея использовать class-weighted знатно улучшила результат.)\n",
        "\n",
        "Он бы улучшился еще больше, если бы была проведена лемматизация, а также, если бы мы рассматривали каждый язык в отдельности."
      ]
    },
    {
      "cell_type": "markdown",
      "metadata": {
        "id": "ghMn3zIUe_7Z"
      },
      "source": [
        "Посмотрим, каков результат будет без спелчека"
      ]
    },
    {
      "cell_type": "markdown",
      "metadata": {
        "id": "RMwgmJMHo-qR"
      },
      "source": [
        "#**Выводы:**\n",
        "\n"
      ]
    },
    {
      "cell_type": "markdown",
      "metadata": {
        "id": "SJZXwb7KpERl"
      },
      "source": [
        "1. Если есть возможность сделать лемматизацию, ее лучше сделать. Она приносит значимое улучшение даже на маленьком датасете.\n",
        "\n",
        "2. Влияние спелчека не особо значительно, но есть\n",
        "\n",
        "3. BPEmb эффективнее просто применения TF-IDF words или TF-IDF ngrams. Но чуть лучше отрабатывает комбинация двух из них.\n",
        "\n",
        "4. Очевидно, что результаты решения \"в лоб\" весьма жалки и мало интересны. Наивное применение базовых методов не дает нужного результата. Отсюда есть два пути: либо добавлять фичи, либо менять подход, основной метод. А лучше разделить языки, чтобы не было смещения.\n",
        "\n",
        "Что мы и сделаем в следующей части дз."
      ]
    }
  ]
}