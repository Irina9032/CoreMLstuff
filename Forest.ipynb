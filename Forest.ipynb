{
  "nbformat": 4,
  "nbformat_minor": 0,
  "metadata": {
    "colab": {
      "name": "Homework_6_3",
      "provenance": [],
      "collapsed_sections": []
    },
    "kernelspec": {
      "name": "python3",
      "display_name": "Python 3"
    }
  },
  "cells": [
    {
      "cell_type": "markdown",
      "metadata": {
        "id": "5IOd0Cwd8IFU"
      },
      "source": [
        "# Homework_6"
      ]
    },
    {
      "cell_type": "markdown",
      "metadata": {
        "id": "65mkXdFHZHGr"
      },
      "source": [
        "## Imports & Downloads"
      ]
    },
    {
      "cell_type": "code",
      "metadata": {
        "id": "KSyxMP3HjsWX",
        "colab": {
          "base_uri": "https://localhost:8080/"
        },
        "outputId": "bb71de37-8528-4b40-ad5a-09776ce85e76"
      },
      "source": [
        "!pip install shap\n",
        "!pip install catboost"
      ],
      "execution_count": null,
      "outputs": [
        {
          "output_type": "stream",
          "text": [
            "Requirement already satisfied: shap in /usr/local/lib/python3.6/dist-packages (0.36.0)\n",
            "Requirement already satisfied: slicer in /usr/local/lib/python3.6/dist-packages (from shap) (0.0.4)\n",
            "Requirement already satisfied: scipy in /usr/local/lib/python3.6/dist-packages (from shap) (1.4.1)\n",
            "Requirement already satisfied: numpy in /usr/local/lib/python3.6/dist-packages (from shap) (1.18.5)\n",
            "Requirement already satisfied: scikit-learn in /usr/local/lib/python3.6/dist-packages (from shap) (0.22.2.post1)\n",
            "Requirement already satisfied: pandas in /usr/local/lib/python3.6/dist-packages (from shap) (1.1.2)\n",
            "Requirement already satisfied: tqdm>4.25.0 in /usr/local/lib/python3.6/dist-packages (from shap) (4.41.1)\n",
            "Requirement already satisfied: numba in /usr/local/lib/python3.6/dist-packages (from shap) (0.48.0)\n",
            "Requirement already satisfied: joblib>=0.11 in /usr/local/lib/python3.6/dist-packages (from scikit-learn->shap) (0.16.0)\n",
            "Requirement already satisfied: pytz>=2017.2 in /usr/local/lib/python3.6/dist-packages (from pandas->shap) (2018.9)\n",
            "Requirement already satisfied: python-dateutil>=2.7.3 in /usr/local/lib/python3.6/dist-packages (from pandas->shap) (2.8.1)\n",
            "Requirement already satisfied: llvmlite<0.32.0,>=0.31.0dev0 in /usr/local/lib/python3.6/dist-packages (from numba->shap) (0.31.0)\n",
            "Requirement already satisfied: setuptools in /usr/local/lib/python3.6/dist-packages (from numba->shap) (50.3.0)\n",
            "Requirement already satisfied: six>=1.5 in /usr/local/lib/python3.6/dist-packages (from python-dateutil>=2.7.3->pandas->shap) (1.15.0)\n",
            "Requirement already satisfied: catboost in /usr/local/lib/python3.6/dist-packages (0.24.2)\n",
            "Requirement already satisfied: graphviz in /usr/local/lib/python3.6/dist-packages (from catboost) (0.10.1)\n",
            "Requirement already satisfied: numpy>=1.16.0 in /usr/local/lib/python3.6/dist-packages (from catboost) (1.18.5)\n",
            "Requirement already satisfied: pandas>=0.24.0 in /usr/local/lib/python3.6/dist-packages (from catboost) (1.1.2)\n",
            "Requirement already satisfied: matplotlib in /usr/local/lib/python3.6/dist-packages (from catboost) (3.2.2)\n",
            "Requirement already satisfied: plotly in /usr/local/lib/python3.6/dist-packages (from catboost) (4.4.1)\n",
            "Requirement already satisfied: six in /usr/local/lib/python3.6/dist-packages (from catboost) (1.15.0)\n",
            "Requirement already satisfied: scipy in /usr/local/lib/python3.6/dist-packages (from catboost) (1.4.1)\n",
            "Requirement already satisfied: pytz>=2017.2 in /usr/local/lib/python3.6/dist-packages (from pandas>=0.24.0->catboost) (2018.9)\n",
            "Requirement already satisfied: python-dateutil>=2.7.3 in /usr/local/lib/python3.6/dist-packages (from pandas>=0.24.0->catboost) (2.8.1)\n",
            "Requirement already satisfied: pyparsing!=2.0.4,!=2.1.2,!=2.1.6,>=2.0.1 in /usr/local/lib/python3.6/dist-packages (from matplotlib->catboost) (2.4.7)\n",
            "Requirement already satisfied: cycler>=0.10 in /usr/local/lib/python3.6/dist-packages (from matplotlib->catboost) (0.10.0)\n",
            "Requirement already satisfied: kiwisolver>=1.0.1 in /usr/local/lib/python3.6/dist-packages (from matplotlib->catboost) (1.2.0)\n",
            "Requirement already satisfied: retrying>=1.3.3 in /usr/local/lib/python3.6/dist-packages (from plotly->catboost) (1.3.3)\n"
          ],
          "name": "stdout"
        }
      ]
    },
    {
      "cell_type": "code",
      "metadata": {
        "id": "XD7EAB-NcKk6"
      },
      "source": [
        "import pandas as pd\n",
        "import numpy as np\n",
        "\n",
        "import matplotlib.pyplot as plt\n",
        "\n",
        "import warnings \n",
        "warnings.filterwarnings('ignore')\n",
        "\n",
        "import shap \n",
        "\n",
        "from sklearn.model_selection import cross_val_score\n",
        "from sklearn import preprocessing\n",
        "\n",
        "from sklearn.model_selection import train_test_split, StratifiedKFold, GridSearchCV\n",
        "from sklearn.pipeline import Pipeline\n",
        "from sklearn.metrics import roc_auc_score, f1_score\n",
        "\n",
        "from sklearn.svm import SVC\n",
        "from sklearn.naive_bayes import MultinomialNB, GaussianNB, BernoulliNB\n",
        "from sklearn.linear_model import SGDClassifier\n",
        "from catboost import CatBoostClassifier\n",
        "from xgboost import XGBClassifier\n",
        "\n",
        "from hyperopt.fmin import fmin\n",
        "from hyperopt import hp, tpe\n",
        "import xgboost as xgb\n",
        "import lightgbm as lgb\n",
        "\n",
        "\n",
        "from google_drive_downloader import GoogleDriveDownloader as gdd"
      ],
      "execution_count": null,
      "outputs": []
    },
    {
      "cell_type": "code",
      "metadata": {
        "id": "DtAyBT1dlTLg",
        "colab": {
          "base_uri": "https://localhost:8080/"
        },
        "outputId": "0e202dfb-b8ca-44ec-d1ec-e19b7896f881"
      },
      "source": [
        "gdd.download_file_from_google_drive(file_id='1xRbsTu_NIrGr2-6qk-_-dm4Mrdbx25oA',\\\n",
        "                                    dest_path='/data/id_map.parquet')\n",
        "url = pd.read_parquet('/data/id_map.parquet')\n",
        "\n",
        "# выделим регион в отдельный столбик\n",
        "url['region'] = [x.split('.')[-1] for x in url.webpage]\n",
        "\n",
        "# закодируем его\n",
        "le = preprocessing.LabelEncoder()\n",
        "url['region1'] = le.fit_transform(url['region'])\n",
        "\n",
        "# выведем на печать\n",
        "url.head(3)"
      ],
      "execution_count": null,
      "outputs": [
        {
          "output_type": "execute_result",
          "data": {
            "text/html": [
              "<div>\n",
              "<style scoped>\n",
              "    .dataframe tbody tr th:only-of-type {\n",
              "        vertical-align: middle;\n",
              "    }\n",
              "\n",
              "    .dataframe tbody tr th {\n",
              "        vertical-align: top;\n",
              "    }\n",
              "\n",
              "    .dataframe thead th {\n",
              "        text-align: right;\n",
              "    }\n",
              "</style>\n",
              "<table border=\"1\" class=\"dataframe\">\n",
              "  <thead>\n",
              "    <tr style=\"text-align: right;\">\n",
              "      <th></th>\n",
              "      <th>id</th>\n",
              "      <th>webpage</th>\n",
              "      <th>region</th>\n",
              "      <th>region1</th>\n",
              "    </tr>\n",
              "  </thead>\n",
              "  <tbody>\n",
              "    <tr>\n",
              "      <th>0</th>\n",
              "      <td>326127</td>\n",
              "      <td>www.abmecatronique.com</td>\n",
              "      <td>com</td>\n",
              "      <td>104</td>\n",
              "    </tr>\n",
              "    <tr>\n",
              "      <th>1</th>\n",
              "      <td>182113</td>\n",
              "      <td>groups.live.com</td>\n",
              "      <td>com</td>\n",
              "      <td>104</td>\n",
              "    </tr>\n",
              "    <tr>\n",
              "      <th>2</th>\n",
              "      <td>551820</td>\n",
              "      <td>majeureliguefootball.wordpress.com</td>\n",
              "      <td>com</td>\n",
              "      <td>104</td>\n",
              "    </tr>\n",
              "  </tbody>\n",
              "</table>\n",
              "</div>"
            ],
            "text/plain": [
              "       id                             webpage region  region1\n",
              "0  326127              www.abmecatronique.com    com      104\n",
              "1  182113                     groups.live.com    com      104\n",
              "2  551820  majeureliguefootball.wordpress.com    com      104"
            ]
          },
          "metadata": {
            "tags": []
          },
          "execution_count": 3
        }
      ]
    },
    {
      "cell_type": "code",
      "metadata": {
        "id": "eLSX25yHcwld"
      },
      "source": [
        "gdd.download_file_from_google_drive(file_id='1ZECXtMAYo6fR8HY4eCKw9rLYzcKsgGC2',\\\n",
        "                                    dest_path='/data/train.csv')\n",
        "train = pd.read_csv('/data/train.csv', index_col=0, parse_dates=[f'time{i+1}' for i in range(10)])\n",
        "\n",
        "gdd.download_file_from_google_drive(file_id='12vPIGNYEO3y6UrtwoW8hVjY3z5uxV709',\\\n",
        "                                    dest_path='/data/test.csv')\n",
        "test = pd.read_csv('/data/test.csv', index_col=0, parse_dates=[f'time{i+1}' for i in range(10)])\n",
        "\n",
        "# создадим столбец target в test и заполним его -1.\n",
        "test['target'] = -1"
      ],
      "execution_count": null,
      "outputs": []
    },
    {
      "cell_type": "code",
      "metadata": {
        "id": "7ucip35uk_rz"
      },
      "source": [
        "# склеим train и test, чтобы дважды не проделывать одну и ту же работы по генерации фичей\n",
        "full = pd.concat([train,test], axis=0)"
      ],
      "execution_count": null,
      "outputs": []
    },
    {
      "cell_type": "markdown",
      "metadata": {
        "id": "92kgoPgVc51g"
      },
      "source": [
        "Возьмем за основу фичи, предложенные в Example Notebook.\n",
        "\n",
        "Также добавим в них свои: время, прошедшее между соседними страницами."
      ]
    },
    {
      "cell_type": "code",
      "metadata": {
        "id": "tzjTCj5xcy3X"
      },
      "source": [
        "def preproc(df):\n",
        "    return (\n",
        "        df.assign(\n",
        "            # difference between 10th page and 1st in seconds\n",
        "            first_last_diff=lambda x: (x.time10 - x.time1).dt.seconds.fillna(0),\n",
        "\n",
        "            # difference between 2th page and 1st in seconds = time on the 1st page\n",
        "            first_diff = lambda x: (x.time2 - x.time1).dt.seconds.fillna(0),\n",
        "\n",
        "            # time on the 2 page\n",
        "            second_diff=lambda x: (x.time3 - x.time2).dt.seconds.fillna(0),\n",
        "\n",
        "            # time on the 3 page\n",
        "            third_diff=lambda x: (x.time4 - x.time3).dt.seconds.fillna(0),\n",
        "\n",
        "            # time on the 4 page\n",
        "            fourth_diff=lambda x: (x.time5 - x.time4).dt.seconds.fillna(0),\n",
        "\n",
        "            # time on the 5 page\n",
        "            fifth_diff=lambda x: (x.time6 - x.time5).dt.seconds.fillna(0),\n",
        "\n",
        "            # time on the 6 page\n",
        "            sixth_diff=lambda x: (x.time7 - x.time6).dt.seconds.fillna(0),\n",
        "\n",
        "            # time on the 7 page\n",
        "            seventh_diff=lambda x: (x.time8 - x.time7).dt.seconds.fillna(0),\n",
        "\n",
        "            # time on the 8 page\n",
        "            eighth_diff=lambda x: (x.time9 - x.time8).dt.seconds.fillna(0),\n",
        "\n",
        "            # time on the 9 page\n",
        "            nineth_diff=lambda x: (x.time10 - x.time9).dt.seconds.fillna(0),\n",
        "\n",
        "            # number of missing pages (from 10 max)\n",
        "            nans_count=lambda x: x.isna().sum(axis=1).div(2),\n",
        "\n",
        "            # number of unique pages in session\n",
        "            n_unique_pages=lambda x: \n",
        "                x.filter(like='webpage').apply(lambda row: row.nunique(), axis=1) / (10 - x.nans_count),\n",
        "\n",
        "            # avg hour of day in a session\n",
        "            avg_hour=lambda x: x.filter(like='time').apply(lambda x: x.dt.hour).mean(axis=1),\n",
        "\n",
        "            # avg day of week in a session\n",
        "            avg_day=lambda x: x.filter(like='time').apply(lambda x: x.dt.dayofweek).mean(axis=1),\n",
        "        )\n",
        "        # drop time columns\n",
        "        .drop(columns=[f'time{i+1}' for i in range(10)])\n",
        "        # fill missing pages with zeros\n",
        "        .fillna(0.)\n",
        "    )"
      ],
      "execution_count": null,
      "outputs": []
    },
    {
      "cell_type": "code",
      "metadata": {
        "id": "XH225VeDcy06"
      },
      "source": [
        "full = preproc(full)"
      ],
      "execution_count": null,
      "outputs": []
    },
    {
      "cell_type": "code",
      "metadata": {
        "id": "BT9GdUCKaQM-",
        "colab": {
          "base_uri": "https://localhost:8080/"
        },
        "outputId": "b63d6008-99e7-48d5-c8fa-a568f546ee33"
      },
      "source": [
        "full.head(3)"
      ],
      "execution_count": null,
      "outputs": [
        {
          "output_type": "execute_result",
          "data": {
            "text/html": [
              "<div>\n",
              "<style scoped>\n",
              "    .dataframe tbody tr th:only-of-type {\n",
              "        vertical-align: middle;\n",
              "    }\n",
              "\n",
              "    .dataframe tbody tr th {\n",
              "        vertical-align: top;\n",
              "    }\n",
              "\n",
              "    .dataframe thead th {\n",
              "        text-align: right;\n",
              "    }\n",
              "</style>\n",
              "<table border=\"1\" class=\"dataframe\">\n",
              "  <thead>\n",
              "    <tr style=\"text-align: right;\">\n",
              "      <th></th>\n",
              "      <th>webpage1</th>\n",
              "      <th>webpage2</th>\n",
              "      <th>webpage3</th>\n",
              "      <th>webpage4</th>\n",
              "      <th>webpage5</th>\n",
              "      <th>webpage6</th>\n",
              "      <th>webpage7</th>\n",
              "      <th>webpage8</th>\n",
              "      <th>webpage9</th>\n",
              "      <th>webpage10</th>\n",
              "      <th>target</th>\n",
              "      <th>first_last_diff</th>\n",
              "      <th>first_diff</th>\n",
              "      <th>second_diff</th>\n",
              "      <th>third_diff</th>\n",
              "      <th>fourth_diff</th>\n",
              "      <th>fifth_diff</th>\n",
              "      <th>sixth_diff</th>\n",
              "      <th>seventh_diff</th>\n",
              "      <th>eighth_diff</th>\n",
              "      <th>nineth_diff</th>\n",
              "      <th>nans_count</th>\n",
              "      <th>n_unique_pages</th>\n",
              "      <th>avg_hour</th>\n",
              "      <th>avg_day</th>\n",
              "    </tr>\n",
              "    <tr>\n",
              "      <th>session_id</th>\n",
              "      <th></th>\n",
              "      <th></th>\n",
              "      <th></th>\n",
              "      <th></th>\n",
              "      <th></th>\n",
              "      <th></th>\n",
              "      <th></th>\n",
              "      <th></th>\n",
              "      <th></th>\n",
              "      <th></th>\n",
              "      <th></th>\n",
              "      <th></th>\n",
              "      <th></th>\n",
              "      <th></th>\n",
              "      <th></th>\n",
              "      <th></th>\n",
              "      <th></th>\n",
              "      <th></th>\n",
              "      <th></th>\n",
              "      <th></th>\n",
              "      <th></th>\n",
              "      <th></th>\n",
              "      <th></th>\n",
              "      <th></th>\n",
              "      <th></th>\n",
              "    </tr>\n",
              "  </thead>\n",
              "  <tbody>\n",
              "    <tr>\n",
              "      <th>0</th>\n",
              "      <td>9486</td>\n",
              "      <td>0.0</td>\n",
              "      <td>0.0</td>\n",
              "      <td>0.0</td>\n",
              "      <td>0.0</td>\n",
              "      <td>0.0</td>\n",
              "      <td>0.0</td>\n",
              "      <td>0.0</td>\n",
              "      <td>0.0</td>\n",
              "      <td>0.0</td>\n",
              "      <td>0</td>\n",
              "      <td>0.0</td>\n",
              "      <td>0.0</td>\n",
              "      <td>0.0</td>\n",
              "      <td>0.0</td>\n",
              "      <td>0.0</td>\n",
              "      <td>0.0</td>\n",
              "      <td>0.0</td>\n",
              "      <td>0.0</td>\n",
              "      <td>0.0</td>\n",
              "      <td>0.0</td>\n",
              "      <td>9.0</td>\n",
              "      <td>1.0</td>\n",
              "      <td>5.0</td>\n",
              "      <td>2.0</td>\n",
              "    </tr>\n",
              "    <tr>\n",
              "      <th>1</th>\n",
              "      <td>11722</td>\n",
              "      <td>12385.0</td>\n",
              "      <td>50163.0</td>\n",
              "      <td>12385.0</td>\n",
              "      <td>12398.0</td>\n",
              "      <td>50150.0</td>\n",
              "      <td>50163.0</td>\n",
              "      <td>50150.0</td>\n",
              "      <td>19860.0</td>\n",
              "      <td>19886.0</td>\n",
              "      <td>0</td>\n",
              "      <td>26.0</td>\n",
              "      <td>0.0</td>\n",
              "      <td>1.0</td>\n",
              "      <td>0.0</td>\n",
              "      <td>0.0</td>\n",
              "      <td>0.0</td>\n",
              "      <td>1.0</td>\n",
              "      <td>0.0</td>\n",
              "      <td>23.0</td>\n",
              "      <td>1.0</td>\n",
              "      <td>0.0</td>\n",
              "      <td>0.7</td>\n",
              "      <td>7.0</td>\n",
              "      <td>4.0</td>\n",
              "    </tr>\n",
              "    <tr>\n",
              "      <th>2</th>\n",
              "      <td>192149</td>\n",
              "      <td>659.0</td>\n",
              "      <td>192136.0</td>\n",
              "      <td>192149.0</td>\n",
              "      <td>633.0</td>\n",
              "      <td>659.0</td>\n",
              "      <td>192136.0</td>\n",
              "      <td>192136.0</td>\n",
              "      <td>192136.0</td>\n",
              "      <td>192136.0</td>\n",
              "      <td>0</td>\n",
              "      <td>7.0</td>\n",
              "      <td>1.0</td>\n",
              "      <td>1.0</td>\n",
              "      <td>0.0</td>\n",
              "      <td>0.0</td>\n",
              "      <td>0.0</td>\n",
              "      <td>1.0</td>\n",
              "      <td>1.0</td>\n",
              "      <td>1.0</td>\n",
              "      <td>2.0</td>\n",
              "      <td>0.0</td>\n",
              "      <td>0.4</td>\n",
              "      <td>12.0</td>\n",
              "      <td>6.0</td>\n",
              "    </tr>\n",
              "  </tbody>\n",
              "</table>\n",
              "</div>"
            ],
            "text/plain": [
              "            webpage1  webpage2  webpage3  ...  n_unique_pages  avg_hour  avg_day\n",
              "session_id                                ...                                   \n",
              "0               9486       0.0       0.0  ...             1.0       5.0      2.0\n",
              "1              11722   12385.0   50163.0  ...             0.7       7.0      4.0\n",
              "2             192149     659.0  192136.0  ...             0.4      12.0      6.0\n",
              "\n",
              "[3 rows x 25 columns]"
            ]
          },
          "metadata": {
            "tags": []
          },
          "execution_count": 8
        }
      ]
    },
    {
      "cell_type": "markdown",
      "metadata": {
        "id": "VPTbQArUdNw7"
      },
      "source": [
        "В файлу url представлен список всех посещенных вебстраниц. \"Откусим\" от каждого из них имя домена.\n",
        "\n"
      ]
    },
    {
      "cell_type": "code",
      "metadata": {
        "id": "dNsU2YJndsfq"
      },
      "source": [
        "keys = list(url.id)\n",
        "values = list(url.region1)\n",
        "dictionary = dict(zip(keys, values))\n",
        "dictionary[0] = 0"
      ],
      "execution_count": null,
      "outputs": []
    },
    {
      "cell_type": "code",
      "metadata": {
        "id": "hfv-Q40EdunT"
      },
      "source": [
        "full['reg1'] = [dictionary.get(x) for x in full.webpage1]\n",
        "full['reg2'] = [dictionary.get(x) for x in full.webpage2]\n",
        "full['reg3'] = [dictionary.get(x) for x in full.webpage3]\n",
        "full['reg4'] = [dictionary.get(x) for x in full.webpage4]\n",
        "full['reg5'] = [dictionary.get(x) for x in full.webpage5]\n",
        "full['reg6'] = [dictionary.get(x) for x in full.webpage6]\n",
        "full['reg7'] = [dictionary.get(x) for x in full.webpage7]\n",
        "full['reg8'] = [dictionary.get(x) for x in full.webpage8]\n",
        "full['reg9'] = [dictionary.get(x) for x in full.webpage9]\n",
        "full['reg10'] = [dictionary.get(x) for x in full.webpage10]"
      ],
      "execution_count": null,
      "outputs": []
    },
    {
      "cell_type": "markdown",
      "metadata": {
        "id": "yvyv63orFKw_"
      },
      "source": [
        "У нас есть категориальные фичи (индексы страниц), у которых формат float64.Приведем их к виду str (иначе алгоритм будет их считать числовыми переменными, которые можно упорядочить)."
      ]
    },
    {
      "cell_type": "code",
      "metadata": {
        "id": "pQVuXKWF7ecv"
      },
      "source": [
        "full['webpage1'] = [str(int(x)) for x in full.webpage1]\n",
        "full['webpage2'] = [str(int(x)) for x in full.webpage2]\n",
        "full['webpage3'] = [str(int(x)) for x in full.webpage3]\n",
        "full['webpage4'] = [str(int(x)) for x in full.webpage4]\n",
        "full['webpage5'] = [str(int(x)) for x in full.webpage5]\n",
        "full['webpage6'] = [str(int(x)) for x in full.webpage6]\n",
        "full['webpage7'] = [str(int(x)) for x in full.webpage7]\n",
        "full['webpage8'] = [str(int(x)) for x in full.webpage8]\n",
        "full['webpage9'] = [str(int(x)) for x in full.webpage9]\n",
        "full['webpage10'] = [str(int(x)) for x in full.webpage10]"
      ],
      "execution_count": null,
      "outputs": []
    },
    {
      "cell_type": "markdown",
      "metadata": {
        "id": "FvSJuR_uGvL7"
      },
      "source": [
        "Сбросим индексы, а также столбец с ними."
      ]
    },
    {
      "cell_type": "code",
      "metadata": {
        "id": "u2G8lNdS4ixZ",
        "colab": {
          "base_uri": "https://localhost:8080/"
        },
        "outputId": "c369e995-6776-4a2a-fc7b-9280cb010478"
      },
      "source": [
        "full = full.reset_index()\n",
        "full = full.drop(columns = ['session_id'])\n",
        "full"
      ],
      "execution_count": null,
      "outputs": [
        {
          "output_type": "execute_result",
          "data": {
            "text/html": [
              "<div>\n",
              "<style scoped>\n",
              "    .dataframe tbody tr th:only-of-type {\n",
              "        vertical-align: middle;\n",
              "    }\n",
              "\n",
              "    .dataframe tbody tr th {\n",
              "        vertical-align: top;\n",
              "    }\n",
              "\n",
              "    .dataframe thead th {\n",
              "        text-align: right;\n",
              "    }\n",
              "</style>\n",
              "<table border=\"1\" class=\"dataframe\">\n",
              "  <thead>\n",
              "    <tr style=\"text-align: right;\">\n",
              "      <th></th>\n",
              "      <th>webpage1</th>\n",
              "      <th>webpage2</th>\n",
              "      <th>webpage3</th>\n",
              "      <th>webpage4</th>\n",
              "      <th>webpage5</th>\n",
              "      <th>webpage6</th>\n",
              "      <th>webpage7</th>\n",
              "      <th>webpage8</th>\n",
              "      <th>webpage9</th>\n",
              "      <th>webpage10</th>\n",
              "      <th>target</th>\n",
              "      <th>first_last_diff</th>\n",
              "      <th>first_diff</th>\n",
              "      <th>second_diff</th>\n",
              "      <th>third_diff</th>\n",
              "      <th>fourth_diff</th>\n",
              "      <th>fifth_diff</th>\n",
              "      <th>sixth_diff</th>\n",
              "      <th>seventh_diff</th>\n",
              "      <th>eighth_diff</th>\n",
              "      <th>nineth_diff</th>\n",
              "      <th>nans_count</th>\n",
              "      <th>n_unique_pages</th>\n",
              "      <th>avg_hour</th>\n",
              "      <th>avg_day</th>\n",
              "      <th>reg1</th>\n",
              "      <th>reg2</th>\n",
              "      <th>reg3</th>\n",
              "      <th>reg4</th>\n",
              "      <th>reg5</th>\n",
              "      <th>reg6</th>\n",
              "      <th>reg7</th>\n",
              "      <th>reg8</th>\n",
              "      <th>reg9</th>\n",
              "      <th>reg10</th>\n",
              "    </tr>\n",
              "  </thead>\n",
              "  <tbody>\n",
              "    <tr>\n",
              "      <th>0</th>\n",
              "      <td>9486</td>\n",
              "      <td>0</td>\n",
              "      <td>0</td>\n",
              "      <td>0</td>\n",
              "      <td>0</td>\n",
              "      <td>0</td>\n",
              "      <td>0</td>\n",
              "      <td>0</td>\n",
              "      <td>0</td>\n",
              "      <td>0</td>\n",
              "      <td>0</td>\n",
              "      <td>0.0</td>\n",
              "      <td>0.0</td>\n",
              "      <td>0.0</td>\n",
              "      <td>0.0</td>\n",
              "      <td>0.0</td>\n",
              "      <td>0.0</td>\n",
              "      <td>0.0</td>\n",
              "      <td>0.0</td>\n",
              "      <td>0.0</td>\n",
              "      <td>0.0</td>\n",
              "      <td>9.0</td>\n",
              "      <td>1.000000</td>\n",
              "      <td>5.0</td>\n",
              "      <td>2.0</td>\n",
              "      <td>104</td>\n",
              "      <td>0</td>\n",
              "      <td>0</td>\n",
              "      <td>0</td>\n",
              "      <td>0</td>\n",
              "      <td>0</td>\n",
              "      <td>0</td>\n",
              "      <td>0</td>\n",
              "      <td>0</td>\n",
              "      <td>0</td>\n",
              "    </tr>\n",
              "    <tr>\n",
              "      <th>1</th>\n",
              "      <td>11722</td>\n",
              "      <td>12385</td>\n",
              "      <td>50163</td>\n",
              "      <td>12385</td>\n",
              "      <td>12398</td>\n",
              "      <td>50150</td>\n",
              "      <td>50163</td>\n",
              "      <td>50150</td>\n",
              "      <td>19860</td>\n",
              "      <td>19886</td>\n",
              "      <td>0</td>\n",
              "      <td>26.0</td>\n",
              "      <td>0.0</td>\n",
              "      <td>1.0</td>\n",
              "      <td>0.0</td>\n",
              "      <td>0.0</td>\n",
              "      <td>0.0</td>\n",
              "      <td>1.0</td>\n",
              "      <td>0.0</td>\n",
              "      <td>23.0</td>\n",
              "      <td>1.0</td>\n",
              "      <td>0.0</td>\n",
              "      <td>0.700000</td>\n",
              "      <td>7.0</td>\n",
              "      <td>4.0</td>\n",
              "      <td>104</td>\n",
              "      <td>104</td>\n",
              "      <td>104</td>\n",
              "      <td>104</td>\n",
              "      <td>104</td>\n",
              "      <td>104</td>\n",
              "      <td>104</td>\n",
              "      <td>104</td>\n",
              "      <td>51</td>\n",
              "      <td>66</td>\n",
              "    </tr>\n",
              "    <tr>\n",
              "      <th>2</th>\n",
              "      <td>192149</td>\n",
              "      <td>659</td>\n",
              "      <td>192136</td>\n",
              "      <td>192149</td>\n",
              "      <td>633</td>\n",
              "      <td>659</td>\n",
              "      <td>192136</td>\n",
              "      <td>192136</td>\n",
              "      <td>192136</td>\n",
              "      <td>192136</td>\n",
              "      <td>0</td>\n",
              "      <td>7.0</td>\n",
              "      <td>1.0</td>\n",
              "      <td>1.0</td>\n",
              "      <td>0.0</td>\n",
              "      <td>0.0</td>\n",
              "      <td>0.0</td>\n",
              "      <td>1.0</td>\n",
              "      <td>1.0</td>\n",
              "      <td>1.0</td>\n",
              "      <td>2.0</td>\n",
              "      <td>0.0</td>\n",
              "      <td>0.400000</td>\n",
              "      <td>12.0</td>\n",
              "      <td>6.0</td>\n",
              "      <td>104</td>\n",
              "      <td>104</td>\n",
              "      <td>104</td>\n",
              "      <td>104</td>\n",
              "      <td>104</td>\n",
              "      <td>104</td>\n",
              "      <td>104</td>\n",
              "      <td>104</td>\n",
              "      <td>104</td>\n",
              "      <td>104</td>\n",
              "    </tr>\n",
              "    <tr>\n",
              "      <th>3</th>\n",
              "      <td>10591</td>\n",
              "      <td>451</td>\n",
              "      <td>77580</td>\n",
              "      <td>227821</td>\n",
              "      <td>633</td>\n",
              "      <td>425</td>\n",
              "      <td>10591</td>\n",
              "      <td>227834</td>\n",
              "      <td>227834</td>\n",
              "      <td>227834</td>\n",
              "      <td>0</td>\n",
              "      <td>102.0</td>\n",
              "      <td>0.0</td>\n",
              "      <td>0.0</td>\n",
              "      <td>0.0</td>\n",
              "      <td>30.0</td>\n",
              "      <td>69.0</td>\n",
              "      <td>0.0</td>\n",
              "      <td>1.0</td>\n",
              "      <td>1.0</td>\n",
              "      <td>1.0</td>\n",
              "      <td>0.0</td>\n",
              "      <td>0.700000</td>\n",
              "      <td>12.0</td>\n",
              "      <td>2.0</td>\n",
              "      <td>104</td>\n",
              "      <td>104</td>\n",
              "      <td>104</td>\n",
              "      <td>104</td>\n",
              "      <td>104</td>\n",
              "      <td>120</td>\n",
              "      <td>104</td>\n",
              "      <td>104</td>\n",
              "      <td>104</td>\n",
              "      <td>104</td>\n",
              "    </tr>\n",
              "    <tr>\n",
              "      <th>4</th>\n",
              "      <td>438</td>\n",
              "      <td>425</td>\n",
              "      <td>529</td>\n",
              "      <td>65685</td>\n",
              "      <td>187638</td>\n",
              "      <td>451</td>\n",
              "      <td>425</td>\n",
              "      <td>65685</td>\n",
              "      <td>187625</td>\n",
              "      <td>187625</td>\n",
              "      <td>0</td>\n",
              "      <td>6.0</td>\n",
              "      <td>0.0</td>\n",
              "      <td>2.0</td>\n",
              "      <td>1.0</td>\n",
              "      <td>0.0</td>\n",
              "      <td>0.0</td>\n",
              "      <td>0.0</td>\n",
              "      <td>2.0</td>\n",
              "      <td>0.0</td>\n",
              "      <td>1.0</td>\n",
              "      <td>0.0</td>\n",
              "      <td>0.700000</td>\n",
              "      <td>6.0</td>\n",
              "      <td>3.0</td>\n",
              "      <td>104</td>\n",
              "      <td>120</td>\n",
              "      <td>104</td>\n",
              "      <td>176</td>\n",
              "      <td>120</td>\n",
              "      <td>104</td>\n",
              "      <td>120</td>\n",
              "      <td>176</td>\n",
              "      <td>176</td>\n",
              "      <td>176</td>\n",
              "    </tr>\n",
              "    <tr>\n",
              "      <th>...</th>\n",
              "      <td>...</td>\n",
              "      <td>...</td>\n",
              "      <td>...</td>\n",
              "      <td>...</td>\n",
              "      <td>...</td>\n",
              "      <td>...</td>\n",
              "      <td>...</td>\n",
              "      <td>...</td>\n",
              "      <td>...</td>\n",
              "      <td>...</td>\n",
              "      <td>...</td>\n",
              "      <td>...</td>\n",
              "      <td>...</td>\n",
              "      <td>...</td>\n",
              "      <td>...</td>\n",
              "      <td>...</td>\n",
              "      <td>...</td>\n",
              "      <td>...</td>\n",
              "      <td>...</td>\n",
              "      <td>...</td>\n",
              "      <td>...</td>\n",
              "      <td>...</td>\n",
              "      <td>...</td>\n",
              "      <td>...</td>\n",
              "      <td>...</td>\n",
              "      <td>...</td>\n",
              "      <td>...</td>\n",
              "      <td>...</td>\n",
              "      <td>...</td>\n",
              "      <td>...</td>\n",
              "      <td>...</td>\n",
              "      <td>...</td>\n",
              "      <td>...</td>\n",
              "      <td>...</td>\n",
              "      <td>...</td>\n",
              "    </tr>\n",
              "    <tr>\n",
              "      <th>253302</th>\n",
              "      <td>659</td>\n",
              "      <td>111380</td>\n",
              "      <td>13659</td>\n",
              "      <td>10708</td>\n",
              "      <td>7562</td>\n",
              "      <td>13659</td>\n",
              "      <td>10214</td>\n",
              "      <td>10708</td>\n",
              "      <td>2323</td>\n",
              "      <td>2323</td>\n",
              "      <td>-1</td>\n",
              "      <td>108.0</td>\n",
              "      <td>0.0</td>\n",
              "      <td>3.0</td>\n",
              "      <td>0.0</td>\n",
              "      <td>1.0</td>\n",
              "      <td>0.0</td>\n",
              "      <td>0.0</td>\n",
              "      <td>0.0</td>\n",
              "      <td>103.0</td>\n",
              "      <td>1.0</td>\n",
              "      <td>0.0</td>\n",
              "      <td>0.700000</td>\n",
              "      <td>10.0</td>\n",
              "      <td>2.0</td>\n",
              "      <td>104</td>\n",
              "      <td>196</td>\n",
              "      <td>104</td>\n",
              "      <td>104</td>\n",
              "      <td>104</td>\n",
              "      <td>104</td>\n",
              "      <td>104</td>\n",
              "      <td>104</td>\n",
              "      <td>104</td>\n",
              "      <td>104</td>\n",
              "    </tr>\n",
              "    <tr>\n",
              "      <th>253303</th>\n",
              "      <td>1153</td>\n",
              "      <td>1127</td>\n",
              "      <td>1153</td>\n",
              "      <td>1127</td>\n",
              "      <td>867</td>\n",
              "      <td>880</td>\n",
              "      <td>867</td>\n",
              "      <td>1140</td>\n",
              "      <td>1127</td>\n",
              "      <td>1192</td>\n",
              "      <td>-1</td>\n",
              "      <td>14.0</td>\n",
              "      <td>0.0</td>\n",
              "      <td>2.0</td>\n",
              "      <td>3.0</td>\n",
              "      <td>6.0</td>\n",
              "      <td>0.0</td>\n",
              "      <td>1.0</td>\n",
              "      <td>2.0</td>\n",
              "      <td>0.0</td>\n",
              "      <td>0.0</td>\n",
              "      <td>0.0</td>\n",
              "      <td>0.600000</td>\n",
              "      <td>7.0</td>\n",
              "      <td>6.0</td>\n",
              "      <td>104</td>\n",
              "      <td>104</td>\n",
              "      <td>104</td>\n",
              "      <td>104</td>\n",
              "      <td>104</td>\n",
              "      <td>104</td>\n",
              "      <td>104</td>\n",
              "      <td>104</td>\n",
              "      <td>104</td>\n",
              "      <td>104</td>\n",
              "    </tr>\n",
              "    <tr>\n",
              "      <th>253304</th>\n",
              "      <td>13659</td>\n",
              "      <td>10708</td>\n",
              "      <td>13659</td>\n",
              "      <td>10214</td>\n",
              "      <td>13659</td>\n",
              "      <td>10214</td>\n",
              "      <td>13659</td>\n",
              "      <td>10214</td>\n",
              "      <td>13659</td>\n",
              "      <td>0</td>\n",
              "      <td>-1</td>\n",
              "      <td>0.0</td>\n",
              "      <td>575.0</td>\n",
              "      <td>160.0</td>\n",
              "      <td>80.0</td>\n",
              "      <td>160.0</td>\n",
              "      <td>463.0</td>\n",
              "      <td>2.0</td>\n",
              "      <td>239.0</td>\n",
              "      <td>1.0</td>\n",
              "      <td>0.0</td>\n",
              "      <td>1.0</td>\n",
              "      <td>0.333333</td>\n",
              "      <td>10.0</td>\n",
              "      <td>1.0</td>\n",
              "      <td>104</td>\n",
              "      <td>104</td>\n",
              "      <td>104</td>\n",
              "      <td>104</td>\n",
              "      <td>104</td>\n",
              "      <td>104</td>\n",
              "      <td>104</td>\n",
              "      <td>104</td>\n",
              "      <td>104</td>\n",
              "      <td>0</td>\n",
              "    </tr>\n",
              "    <tr>\n",
              "      <th>253305</th>\n",
              "      <td>309513</td>\n",
              "      <td>15375</td>\n",
              "      <td>191</td>\n",
              "      <td>191</td>\n",
              "      <td>256</td>\n",
              "      <td>256</td>\n",
              "      <td>191</td>\n",
              "      <td>334538</td>\n",
              "      <td>334551</td>\n",
              "      <td>204</td>\n",
              "      <td>-1</td>\n",
              "      <td>26.0</td>\n",
              "      <td>2.0</td>\n",
              "      <td>1.0</td>\n",
              "      <td>2.0</td>\n",
              "      <td>1.0</td>\n",
              "      <td>12.0</td>\n",
              "      <td>2.0</td>\n",
              "      <td>2.0</td>\n",
              "      <td>1.0</td>\n",
              "      <td>3.0</td>\n",
              "      <td>0.0</td>\n",
              "      <td>0.700000</td>\n",
              "      <td>9.0</td>\n",
              "      <td>0.0</td>\n",
              "      <td>176</td>\n",
              "      <td>104</td>\n",
              "      <td>104</td>\n",
              "      <td>104</td>\n",
              "      <td>176</td>\n",
              "      <td>176</td>\n",
              "      <td>104</td>\n",
              "      <td>120</td>\n",
              "      <td>104</td>\n",
              "      <td>104</td>\n",
              "    </tr>\n",
              "    <tr>\n",
              "      <th>253306</th>\n",
              "      <td>454398</td>\n",
              "      <td>18729</td>\n",
              "      <td>454398</td>\n",
              "      <td>529</td>\n",
              "      <td>542</td>\n",
              "      <td>454398</td>\n",
              "      <td>75279</td>\n",
              "      <td>542</td>\n",
              "      <td>607</td>\n",
              "      <td>581</td>\n",
              "      <td>-1</td>\n",
              "      <td>3.0</td>\n",
              "      <td>1.0</td>\n",
              "      <td>0.0</td>\n",
              "      <td>1.0</td>\n",
              "      <td>0.0</td>\n",
              "      <td>0.0</td>\n",
              "      <td>0.0</td>\n",
              "      <td>1.0</td>\n",
              "      <td>0.0</td>\n",
              "      <td>0.0</td>\n",
              "      <td>0.0</td>\n",
              "      <td>0.700000</td>\n",
              "      <td>5.0</td>\n",
              "      <td>3.0</td>\n",
              "      <td>104</td>\n",
              "      <td>120</td>\n",
              "      <td>104</td>\n",
              "      <td>104</td>\n",
              "      <td>104</td>\n",
              "      <td>104</td>\n",
              "      <td>104</td>\n",
              "      <td>104</td>\n",
              "      <td>104</td>\n",
              "      <td>104</td>\n",
              "    </tr>\n",
              "  </tbody>\n",
              "</table>\n",
              "<p>253307 rows × 35 columns</p>\n",
              "</div>"
            ],
            "text/plain": [
              "       webpage1 webpage2 webpage3 webpage4  ... reg7 reg8 reg9 reg10\n",
              "0          9486        0        0        0  ...    0    0    0     0\n",
              "1         11722    12385    50163    12385  ...  104  104   51    66\n",
              "2        192149      659   192136   192149  ...  104  104  104   104\n",
              "3         10591      451    77580   227821  ...  104  104  104   104\n",
              "4           438      425      529    65685  ...  120  176  176   176\n",
              "...         ...      ...      ...      ...  ...  ...  ...  ...   ...\n",
              "253302      659   111380    13659    10708  ...  104  104  104   104\n",
              "253303     1153     1127     1153     1127  ...  104  104  104   104\n",
              "253304    13659    10708    13659    10214  ...  104  104  104     0\n",
              "253305   309513    15375      191      191  ...  104  120  104   104\n",
              "253306   454398    18729   454398      529  ...  104  104  104   104\n",
              "\n",
              "[253307 rows x 35 columns]"
            ]
          },
          "metadata": {
            "tags": []
          },
          "execution_count": 12
        }
      ]
    },
    {
      "cell_type": "markdown",
      "metadata": {
        "id": "Qr0vz4GSw1zA"
      },
      "source": [
        "## Forming train and test sets"
      ]
    },
    {
      "cell_type": "code",
      "metadata": {
        "id": "kSExAieGmBMW"
      },
      "source": [
        "# разделим на train и test\n",
        "train = full.loc[full.target != -1]\n",
        "test = full.loc[full.target == -1]\n",
        "\n",
        "# отделим target\n",
        "target = train.target\n",
        "train = train.drop(columns='target')\n",
        "test = test.drop(columns='target')"
      ],
      "execution_count": null,
      "outputs": []
    },
    {
      "cell_type": "markdown",
      "metadata": {
        "id": "EAEPWeaKxIm8"
      },
      "source": [
        "## Predictions"
      ]
    },
    {
      "cell_type": "markdown",
      "metadata": {
        "id": "WoQVbO6nxRPi"
      },
      "source": [
        "### CatBoost"
      ]
    },
    {
      "cell_type": "markdown",
      "metadata": {
        "id": "_kaOrPKW6LMb"
      },
      "source": [
        "**Model**"
      ]
    },
    {
      "cell_type": "code",
      "metadata": {
        "id": "w6VcgwdFxH8O"
      },
      "source": [
        "cat_clf = CatBoostClassifier(verbose=False, random_state=42, iterations = 1500)\n",
        "cat_model = cat_clf.fit(train, target) \n",
        "cat_pred = cat_model.predict_proba(test)"
      ],
      "execution_count": null,
      "outputs": []
    },
    {
      "cell_type": "code",
      "metadata": {
        "id": "T2Pfe6EAxfGx",
        "colab": {
          "base_uri": "https://localhost:8080/",
          "height": 68
        },
        "outputId": "98068113-f679-4bf3-eb0b-ba0bbf9b5b0b"
      },
      "source": [
        "skf = StratifiedKFold(n_splits=5)\n",
        "np.mean(cross_val_score(cat_model, train, target, cv=skf, n_jobs=-1, verbose=1, scoring='roc_auc'))"
      ],
      "execution_count": null,
      "outputs": [
        {
          "output_type": "stream",
          "text": [
            "[Parallel(n_jobs=-1)]: Using backend LokyBackend with 2 concurrent workers.\n",
            "[Parallel(n_jobs=-1)]: Done   5 out of   5 | elapsed:  8.3min finished\n"
          ],
          "name": "stderr"
        },
        {
          "output_type": "execute_result",
          "data": {
            "text/plain": [
              "0.9853536732380469"
            ]
          },
          "metadata": {
            "tags": []
          },
          "execution_count": 15
        }
      ]
    },
    {
      "cell_type": "markdown",
      "metadata": {
        "id": "k6KjFP3I6tyx"
      },
      "source": [
        "Оценим значимость фичей"
      ]
    },
    {
      "cell_type": "code",
      "metadata": {
        "id": "rPm88hH5x9BI",
        "colab": {
          "base_uri": "https://localhost:8080/",
          "height": 585
        },
        "outputId": "b906498e-fc5f-40a0-b458-4bdf852c81a3"
      },
      "source": [
        "explainer = shap.TreeExplainer(cat_model)\n",
        "shap_values = explainer.shap_values(test)\n",
        "shap.summary_plot(shap_values, test)"
      ],
      "execution_count": null,
      "outputs": [
        {
          "output_type": "display_data",
          "data": {
            "image/png": "[encoded data removed]",
            "text/plain": [
              "<Figure size 576x684 with 2 Axes>"
            ]
          },
          "metadata": {
            "tags": [],
            "needs_background": "light"
          }
        }
      ]
    },
    {
      "cell_type": "markdown",
      "metadata": {
        "id": "BC3VoOJ0CiR6"
      },
      "source": [
        "Как мы видим, категориальные фичи оказались очень важны. Но наиболее \"сильными\" являются фичи \"avg_hour\" и \"avg_day\"."
      ]
    },
    {
      "cell_type": "markdown",
      "metadata": {
        "id": "APJIOFFnBgPc"
      },
      "source": [
        "Перед тем, как начнем работать с двумя оставшимися методами, уберем из них категориальные фичи."
      ]
    },
    {
      "cell_type": "code",
      "metadata": {
        "id": "mbIQJHK8BxeZ"
      },
      "source": [
        "train1 = train.drop(columns = ['webpage1', 'webpage2', 'webpage3', 'webpage4', 'webpage5', 'webpage6', 'webpage7', 'webpage8', 'webpage9', 'webpage10'])\n",
        "test1 = test.drop(columns = ['webpage1', 'webpage2', 'webpage3', 'webpage4', 'webpage5', 'webpage6', 'webpage7', 'webpage8', 'webpage9', 'webpage10'])"
      ],
      "execution_count": null,
      "outputs": []
    },
    {
      "cell_type": "markdown",
      "metadata": {
        "id": "wmbdl5DvxVlJ"
      },
      "source": [
        "### LGMB"
      ]
    },
    {
      "cell_type": "markdown",
      "metadata": {
        "id": "Vu80KEb-0HHV"
      },
      "source": [
        "**Hyperparameters tunning**\n",
        "\n",
        "Приведенные ниже параметры были подобраны ранее с помощью hyperopt. Приведу результат, иначе слишком долго все прогонять"
      ]
    },
    {
      "cell_type": "code",
      "metadata": {
        "id": "2_eBvx7NAqz8"
      },
      "source": [
        "best_params = {'random_state':42,'boosting_type': 'gbdt', 'colsample_bytree': 1, 'lambda_l1': 0, 'lambda_l2': 0, 'learning_rate': 0.1, 'max_depth': -1, 'min_child_samples': 35,\n",
        " 'min_child_weight': 0.001, 'min_split_gain': 0.0613, 'n_estimators': 200, 'num_leaves': 88, 'subsample_for_bin': 200000}"
      ],
      "execution_count": null,
      "outputs": []
    },
    {
      "cell_type": "markdown",
      "metadata": {
        "id": "uaOMVmSc6QMK"
      },
      "source": [
        "**Model**"
      ]
    },
    {
      "cell_type": "code",
      "metadata": {
        "id": "nTYF9zZtxXcL"
      },
      "source": [
        "lgb_clf = lgb.LGBMClassifier(**best_params)\n",
        "lgb_model = lgb_clf.fit(train1, target) \n",
        "lgb_pred = lgb_model.predict_proba(test1)"
      ],
      "execution_count": null,
      "outputs": []
    },
    {
      "cell_type": "code",
      "metadata": {
        "id": "cpz6O5waxjcU",
        "colab": {
          "base_uri": "https://localhost:8080/",
          "height": 68
        },
        "outputId": "1646ca6b-7639-445c-cd89-80bcebf299b2"
      },
      "source": [
        "skf = StratifiedKFold(n_splits=5)\n",
        "np.mean(cross_val_score(lgb_model, train1, target, cv=skf, n_jobs=-1, verbose=1, scoring='roc_auc'))"
      ],
      "execution_count": null,
      "outputs": [
        {
          "output_type": "stream",
          "text": [
            "[Parallel(n_jobs=-1)]: Using backend LokyBackend with 2 concurrent workers.\n",
            "[Parallel(n_jobs=-1)]: Done   5 out of   5 | elapsed:   31.7s finished\n"
          ],
          "name": "stderr"
        },
        {
          "output_type": "execute_result",
          "data": {
            "text/plain": [
              "0.9610203069983418"
            ]
          },
          "metadata": {
            "tags": []
          },
          "execution_count": 20
        }
      ]
    },
    {
      "cell_type": "markdown",
      "metadata": {
        "id": "sqPrfY9JKIZL"
      },
      "source": [
        "Обратим внимание, что результат CatBoost выше. "
      ]
    },
    {
      "cell_type": "markdown",
      "metadata": {
        "id": "4hvYvTNexYDp"
      },
      "source": [
        "### XGBoost"
      ]
    },
    {
      "cell_type": "markdown",
      "metadata": {
        "id": "ijhoSD5o6UOu"
      },
      "source": [
        "**Model**"
      ]
    },
    {
      "cell_type": "code",
      "metadata": {
        "id": "w22_q9HGxxFs"
      },
      "source": [
        "xgb_clf = xgb.XGBClassifier()\n",
        "xgb_model = xgb_clf.fit(train1, target) \n",
        "xgb_pred = xgb_model.predict_proba(test1)"
      ],
      "execution_count": null,
      "outputs": []
    },
    {
      "cell_type": "code",
      "metadata": {
        "id": "czKpaB85xaZS",
        "colab": {
          "base_uri": "https://localhost:8080/",
          "height": 68
        },
        "outputId": "4038bcb5-5de4-4003-d928-c66d0cb03384"
      },
      "source": [
        "skf = StratifiedKFold(n_splits=5)\n",
        "np.mean(cross_val_score(xgb_model, train1, target, cv=skf, n_jobs=-1, verbose=1, scoring='roc_auc'))"
      ],
      "execution_count": null,
      "outputs": [
        {
          "output_type": "stream",
          "text": [
            "[Parallel(n_jobs=-1)]: Using backend LokyBackend with 2 concurrent workers.\n",
            "[Parallel(n_jobs=-1)]: Done   5 out of   5 | elapsed:   45.5s finished\n"
          ],
          "name": "stderr"
        },
        {
          "output_type": "execute_result",
          "data": {
            "text/plain": [
              "0.9447099010644378"
            ]
          },
          "metadata": {
            "tags": []
          },
          "execution_count": 22
        }
      ]
    },
    {
      "cell_type": "markdown",
      "metadata": {
        "id": "Of4mQornM6q5"
      },
      "source": [
        "Слишком низкий score. Этот метод мы использовать не будем."
      ]
    },
    {
      "cell_type": "markdown",
      "metadata": {
        "id": "JtEGyM0v6vKR"
      },
      "source": [
        "Оценим значимость фичей"
      ]
    },
    {
      "cell_type": "code",
      "metadata": {
        "id": "y6Gglubux-JL",
        "colab": {
          "base_uri": "https://localhost:8080/",
          "height": 585
        },
        "outputId": "9e148a66-c675-428f-931a-718e074765df"
      },
      "source": [
        "explainer = shap.TreeExplainer(xgb_model)\n",
        "shap_values = explainer.shap_values(test1)\n",
        "shap.summary_plot(shap_values, test1)"
      ],
      "execution_count": null,
      "outputs": [
        {
          "output_type": "display_data",
          "data": {
            "image/png": "[encoded data removed]",
            "text/plain": [
              "<Figure size 576x684 with 2 Axes>"
            ]
          },
          "metadata": {
            "tags": [],
            "needs_background": "light"
          }
        }
      ]
    },
    {
      "cell_type": "markdown",
      "metadata": {
        "id": "-RUQsuuyJa9A"
      },
      "source": [
        "Все так же ключевыми являются две первые фичи."
      ]
    },
    {
      "cell_type": "markdown",
      "metadata": {
        "id": "ng5pIRGazVJc"
      },
      "source": [
        "### Saving submission"
      ]
    },
    {
      "cell_type": "code",
      "metadata": {
        "id": "LUUMCevzzUaz"
      },
      "source": [
        "def save_submission(pred):\n",
        "    pd.Series(\n",
        "        pred, name='target', index=pd.Index(range(len(pred)), name='session_id')\n",
        "    ).to_csv('notebook_submission5.csv')"
      ],
      "execution_count": null,
      "outputs": []
    },
    {
      "cell_type": "code",
      "metadata": {
        "id": "UQQbJTwtDrQD"
      },
      "source": [
        "# Используем голосование\n",
        "save_submission((cat_pred[:,1] + lgb_pred[:,1])/2)"
      ],
      "execution_count": null,
      "outputs": []
    },
    {
      "cell_type": "markdown",
      "metadata": {
        "id": "9T8mkheZdkjf"
      },
      "source": [
        "# Еще вариант - работать как с тестом:"
      ]
    },
    {
      "cell_type": "markdown",
      "metadata": {
        "id": "BrAkAXV_n4mS"
      },
      "source": [
        "В начале работы с задачей мне показалась интересной идея посмотреть на поседовательность индексов как на последовательность слов. То есть попробовать поработать с ними методами анализа текстов.\n",
        "\n",
        "К сожалению, данный подход не оправдал себя: кроссвалидация давала низкие значения. А при сабмите - 0.64"
      ]
    },
    {
      "cell_type": "markdown",
      "metadata": {
        "id": "Hrs1hJQdcV9Q"
      },
      "source": [
        "## Imports"
      ]
    },
    {
      "cell_type": "code",
      "metadata": {
        "id": "d36NEPulWjdx"
      },
      "source": [
        "import pandas as pd\n",
        "import numpy as np\n",
        "\n",
        "import matplotlib.pyplot as plt\n",
        "\n",
        "import warnings \n",
        "warnings.filterwarnings('ignore')\n",
        "\n",
        "from sklearn.feature_extraction.text import TfidfVectorizer\n",
        "from sklearn.feature_selection import SelectKBest, f_classif\n",
        "\n",
        "from sklearn.model_selection import train_test_split, StratifiedKFold, GridSearchCV\n",
        "from sklearn.linear_model import LogisticRegression\n",
        "from sklearn.metrics import classification_report\n",
        "\n",
        "from sklearn.metrics import roc_auc_score, f1_score\n",
        "\n",
        "from sklearn.svm import SVC\n",
        "from sklearn.naive_bayes import MultinomialNB, GaussianNB, BernoulliNB\n",
        "from sklearn.linear_model import SGDClassifier\n",
        "\n",
        "from google_drive_downloader import GoogleDriveDownloader as gdd"
      ],
      "execution_count": null,
      "outputs": []
    },
    {
      "cell_type": "markdown",
      "metadata": {
        "id": "z34y4Pizbg4I"
      },
      "source": [
        "## Download"
      ]
    },
    {
      "cell_type": "code",
      "metadata": {
        "id": "ZsW3sulXW5uh"
      },
      "source": [
        "gdd.download_file_from_google_drive(file_id='1ZECXtMAYo6fR8HY4eCKw9rLYzcKsgGC2',\\\n",
        "                                    dest_path='/data/train.csv')\n",
        "train = pd.read_csv('/data/train.csv', sep=',')"
      ],
      "execution_count": null,
      "outputs": []
    },
    {
      "cell_type": "markdown",
      "metadata": {
        "id": "B_PS5eetpLsn"
      },
      "source": [
        "## Функция preprocessing"
      ]
    },
    {
      "cell_type": "code",
      "metadata": {
        "id": "hgJzzFg6pR0X"
      },
      "source": [
        "def prepro (df):\n",
        "\n",
        "      webpages = [n for n in df.columns if df[n].dtype == 'float64']\n",
        "      webpages.append('webpage1')\n",
        "\n",
        "      # Все Nan заменим на -1\n",
        "      df.fillna(-1, inplace=True)\n",
        "\n",
        "      # Переведем содержимое всех вебстраниц из float 64 в string\n",
        "      for i in df.columns:\n",
        "\n",
        "            if i in webpages:\n",
        "                  transformation = lambda x: str(int(x))\n",
        "                  df[i] = list(map(transformation, df[i]))\n",
        "\n",
        "       # Сделаем фичу, где все эти названия будут в одной строчке. Чтобы в дальнейшем работать с этим как со строчкой\n",
        "      df['List'] = ''\n",
        "\n",
        "      for i in webpages:\n",
        "              df['List'] = df['List'] + ' '+ df[i]\n",
        "\n",
        "        # Много -1, который обозначают отсутствующие данные. Удалим их\n",
        "      df.List = [x.replace('-1','') for x in df.List]\n",
        "      df.List = [x.split() for x in df.List]\n",
        "      df.List = [' '.join(x) for x in df.List]\n",
        "\n",
        "      return df.List"
      ],
      "execution_count": null,
      "outputs": []
    },
    {
      "cell_type": "markdown",
      "metadata": {
        "id": "ME6mesfB4eLV"
      },
      "source": [
        "## Tf"
      ]
    },
    {
      "cell_type": "code",
      "metadata": {
        "id": "iMyPGxNRLRS6"
      },
      "source": [
        "y = train.target"
      ],
      "execution_count": null,
      "outputs": []
    },
    {
      "cell_type": "code",
      "metadata": {
        "id": "r9ZQZ45VLSh_"
      },
      "source": [
        "train = prepro (train)"
      ],
      "execution_count": null,
      "outputs": []
    },
    {
      "cell_type": "code",
      "metadata": {
        "id": "2MiftQnAK0ns"
      },
      "source": [
        "tfidf_vectorizer = TfidfVectorizer(analyzer='word', \n",
        "                                  decode_error = 'replace', \n",
        "                                  ngram_range = (1, 2),\n",
        "                                  min_df = 3, \n",
        "                                  use_idf=True)"
      ],
      "execution_count": null,
      "outputs": []
    },
    {
      "cell_type": "code",
      "metadata": {
        "id": "RVzCceiaLIqe"
      },
      "source": [
        "transformed_texts = tfidf_vectorizer.fit_transform(train)\n",
        "feature_names = np.array(tfidf_vectorizer.get_feature_names())\n",
        "  "
      ],
      "execution_count": null,
      "outputs": []
    },
    {
      "cell_type": "markdown",
      "metadata": {
        "id": "VEYLGD5tsqXq"
      },
      "source": [
        "Отберем лучшие 10 тысяч. На больше количестве вылетает ОЗУ."
      ]
    },
    {
      "cell_type": "code",
      "metadata": {
        "id": "LN58jaGOLIhE"
      },
      "source": [
        "# Feature best selection\n",
        "\n",
        "selection = SelectKBest(f_classif, \n",
        "                          k=min(10000, \n",
        "                          transformed_texts.shape[1]))\n",
        "selection.fit(transformed_texts, y)\n",
        "transformed_texts = selection.transform(transformed_texts).astype('float32') \n",
        "feature_names = feature_names[selection.get_support()]"
      ],
      "execution_count": null,
      "outputs": []
    },
    {
      "cell_type": "code",
      "metadata": {
        "id": "nY6grG6eMDwS"
      },
      "source": [
        "train = transformed_texts"
      ],
      "execution_count": null,
      "outputs": []
    },
    {
      "cell_type": "code",
      "metadata": {
        "id": "R0PfeK3qMMl4"
      },
      "source": [
        "X_train, X_test, y_train, y_test = train_test_split(train.toarray(), (np.array(y)), test_size=0.2, random_state=42)\n",
        "print(\"Train dataset shape: {0}, \\nTest dataset shape: {1}\".format(X_train.shape, X_test.shape))"
      ],
      "execution_count": null,
      "outputs": []
    },
    {
      "cell_type": "markdown",
      "metadata": {
        "id": "IKKcizEODQ3r"
      },
      "source": [
        "## GaussianNB"
      ]
    },
    {
      "cell_type": "code",
      "metadata": {
        "id": "uZAwTSTArINa",
        "colab": {
          "base_uri": "https://localhost:8080/",
          "height": 67
        },
        "outputId": "82cc5cfc-4350-4d38-d20f-80b7bbfdcd47"
      },
      "source": [
        "%%time\n",
        "gnb = GaussianNB()\n",
        "gnb_clf = gnb.fit(X_train,y_train)\n",
        "gnb_predict = gnb.predict(X_test)\n",
        "print(gnb_predict)"
      ],
      "execution_count": null,
      "outputs": [
        {
          "output_type": "stream",
          "text": [
            "[1 0 0 ... 1 0 0]\n",
            "CPU times: user 12.8 s, sys: 1.28 s, total: 14.1 s\n",
            "Wall time: 14.1 s\n"
          ],
          "name": "stdout"
        }
      ]
    },
    {
      "cell_type": "code",
      "metadata": {
        "id": "3BmLhIdtrIuJ",
        "colab": {
          "base_uri": "https://localhost:8080/",
          "height": 33
        },
        "outputId": "70145cb4-5875-43e2-ab80-3351459ac03e"
      },
      "source": [
        "gnb_score = roc_auc_score(y_test, gnb_predict)\n",
        "print(\"gnb score :\", gnb_score)"
      ],
      "execution_count": null,
      "outputs": [
        {
          "output_type": "stream",
          "text": [
            "gnb score : 0.7597942716006176\n"
          ],
          "name": "stdout"
        }
      ]
    },
    {
      "cell_type": "markdown",
      "metadata": {
        "id": "8GPfVJ9TrDuP"
      },
      "source": [
        "Очевидно, что это не очень продуктивный путь"
      ]
    },
    {
      "cell_type": "markdown",
      "metadata": {
        "id": "jIIRIy90V0MV"
      },
      "source": [
        "## Test"
      ]
    },
    {
      "cell_type": "code",
      "metadata": {
        "id": "Bf4kEgHAAjqg"
      },
      "source": [
        "gdd.download_file_from_google_drive(file_id='12vPIGNYEO3y6UrtwoW8hVjY3z5uxV709',\\\n",
        "                                    dest_path='/data/test.csv')\n",
        "test = pd.read_csv('/data/test.csv', sep=',')"
      ],
      "execution_count": null,
      "outputs": []
    },
    {
      "cell_type": "code",
      "metadata": {
        "id": "L7Adng0OqtAK"
      },
      "source": [
        "test = prepro(test)"
      ],
      "execution_count": null,
      "outputs": []
    },
    {
      "cell_type": "code",
      "metadata": {
        "id": "gJmbr7YFUd8_"
      },
      "source": [
        "test = test.toarray()"
      ],
      "execution_count": null,
      "outputs": []
    },
    {
      "cell_type": "code",
      "metadata": {
        "id": "zsyEkNplU3mT"
      },
      "source": [
        "gnb_predict = gnb.predict(test)"
      ],
      "execution_count": null,
      "outputs": []
    },
    {
      "cell_type": "code",
      "metadata": {
        "id": "kINRDgh1b6U4"
      },
      "source": [
        "def save_submission(pred):\n",
        "    pd.Series(\n",
        "        pred, name='target', index=pd.Index(range(len(pred)), name='session_id')\n",
        "    ).to_csv('notebook_submission_gnb.csv')"
      ],
      "execution_count": null,
      "outputs": []
    },
    {
      "cell_type": "code",
      "metadata": {
        "id": "R2c1ClNLb7OS"
      },
      "source": [
        "save_submission(gnb_predict)"
      ],
      "execution_count": null,
      "outputs": []
    }
  ]
}