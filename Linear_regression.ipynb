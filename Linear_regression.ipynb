{
  "nbformat": 4,
  "nbformat_minor": 0,
  "metadata": {
    "kernelspec": {
      "display_name": "Python 3",
      "language": "python",
      "name": "python3"
    },
    "language_info": {
      "codemirror_mode": {
        "name": "ipython",
        "version": 3
      },
      "file_extension": ".py",
      "mimetype": "text/x-python",
      "name": "python",
      "nbconvert_exporter": "python",
      "pygments_lexer": "ipython3",
      "version": "3.8.3"
    },
    "colab": {
      "name": "Homework_4_local (1).ipynb",
      "provenance": [],
      "toc_visible": true
    }
  },
  "cells": [
    {
      "cell_type": "markdown",
      "metadata": {
        "id": "1THLKAsC9jtN"
      },
      "source": [
        "#                      Classification - 1"
      ]
    },
    {
      "cell_type": "markdown",
      "metadata": {
        "id": "kWXYeDLv9jtO"
      },
      "source": [
        "Evaluation Criteria\n",
        "\n",
        "Scoring (15 max):\n",
        "\n",
        "●\tEDA: exploration of variables and properties of data with conclusions: 1\n",
        "\n",
        "●\tData preprocessing if needed: 2\n",
        "\n",
        "    ○\tHandling missing values\n",
        "    \n",
        "    ○\tDropping unimportant features\n",
        "    \n",
        "    ○\tData normalization\n",
        "    \n",
        "    ○\tCategorical encoding\n",
        "    \n",
        "●\tMetrics and cross-validation have been chosen based on target distribution as well as reasoning behind: 3\n",
        "\n",
        "●\tFeature importance and hyperparameters tuning (http://scikit-learn.org/stable/modules/classes.html#hyper-parameter-optimizers): 1\n",
        "\n",
        "●\tModels\n",
        "\n",
        "    ○\tLogistic Regression w\\wo regularization: 2\n",
        "    \n",
        "    ○\tK-nearest neighbours: 1\n",
        "    \n",
        "●\tQuality of delivered work:\n",
        "\n",
        "    ○\tAnalytical comments provided: 1\n",
        "    \n",
        "    ○\tThe experiment is structured (file is readable, pictures have titles): 1\n",
        "    \n",
        "    ○\t Code is clear (reusable code in functions, comments, code is easy readable): 1\n",
        "    \n",
        "●\tExtra points for improvements not considered in the criteria: 2\n"
      ]
    },
    {
      "cell_type": "markdown",
      "metadata": {
        "id": "B4F_1Mho9jtP"
      },
      "source": [
        "Target variable: \"Class\""
      ]
    },
    {
      "cell_type": "markdown",
      "metadata": {
        "id": "1APjwplR9jtP"
      },
      "source": [
        "### Оглавление"
      ]
    },
    {
      "cell_type": "markdown",
      "metadata": {
        "id": "BQMgNwUs9jtQ"
      },
      "source": [
        "1. Preluminaries\n",
        "\n",
        "    a. Auxiliary functions\n",
        "\n",
        "    b. Download & Overview\n",
        "    \n",
        "\n",
        "2. EDA & Data preprocessing: with conclusions¶\n",
        "\n",
        "    a. Starting working with missing values\n",
        "    \n",
        "    b. Categorical encoding\n",
        "    \n",
        "    c. Different plots.\n",
        "    \n",
        "    d. Handling missing values\n",
        "    \n",
        "    e. Outliers\n",
        "    \n",
        "    f. Data normalization\n",
        "\n",
        "    g. Conclusion\n",
        "    \n",
        "    \n",
        "3. Models\n",
        "\n",
        "    a. Auxiliary functions¶\n",
        "    \n",
        "    b. Metrics and cross-validation have been chosen based on target distribution as well as reasoning behind\n",
        "    \n",
        "    c. Logistic Regression with regularization\n",
        "    \n",
        "    d. Logistic Regression without regularization\n",
        "    \n",
        "    e. K-nearest neighbours\n",
        "    \n",
        "    f. Conclusion\n"
      ]
    },
    {
      "cell_type": "code",
      "metadata": {
        "id": "gWFrFYSo9jtQ"
      },
      "source": [
        "import pandas as pd\n",
        "import numpy as np\n",
        "\n",
        "import matplotlib.pyplot as plt\n",
        "import seaborn as sns\n",
        "import scipy\n",
        "\n",
        "from sklearn_pandas import DataFrameMapper, gen_features\n",
        "from sklearn.ensemble import IsolationForest\n",
        "from sklearn.impute import KNNImputer\n",
        "from sklearn.linear_model import LogisticRegression\n",
        "from sklearn.metrics import make_scorer, mean_squared_error, r2_score, f1_score, classification_report, confusion_matrix\n",
        "from sklearn.metrics import mean_squared_error, r2_score, mean_absolute_error, explained_variance_score\n",
        "from sklearn.model_selection import train_test_split, cross_val_score, GridSearchCV, KFold, StratifiedKFold\n",
        "from sklearn.neighbors import KNeighborsClassifier\n",
        "from sklearn.pipeline import Pipeline, make_pipeline\n",
        "from sklearn.preprocessing import MinMaxScaler, MaxAbsScaler, LabelEncoder\n",
        "\n",
        "plt.rcParams['figure.figsize'] = 12, 12\n",
        "\n",
        "import warnings\n",
        "warnings.filterwarnings('ignore')\n",
        "\n",
        "from google_drive_downloader import GoogleDriveDownloader as gdd\n",
        "\n",
        "%matplotlib inline"
      ],
      "execution_count": null,
      "outputs": []
    },
    {
      "cell_type": "markdown",
      "metadata": {
        "id": "ZFqyEWJG9jtT"
      },
      "source": [
        "### Preliminaries"
      ]
    },
    {
      "cell_type": "markdown",
      "metadata": {
        "id": "wZ2uI1ee9jtU"
      },
      "source": [
        "#### Auxiliary functions"
      ]
    },
    {
      "cell_type": "code",
      "metadata": {
        "id": "coMB3jGs9jtU"
      },
      "source": [
        "# Подсчет встречаемости категорий в переменных\n",
        "def count_value(X):\n",
        "    \n",
        "    for column in X:\n",
        "    \n",
        "        print (column)\n",
        "        print (df[column].value_counts())\n",
        "        print ()"
      ],
      "execution_count": null,
      "outputs": []
    },
    {
      "cell_type": "markdown",
      "metadata": {
        "id": "ZUDBCGYY9jtX"
      },
      "source": [
        "#### Download & Overview"
      ]
    },
    {
      "cell_type": "code",
      "metadata": {
        "id": "Jp7-gZsy9jtX"
      },
      "source": [
        "# loading dataset\n",
        "gdd.download_file_from_google_drive(file_id='15_Lb9vACQd2IBAEpNRkXP-1e0EXzozPF',\\\n",
        "                                    dest_path='/data/dataset_57_hypothyroid.csv')\n",
        "df = pd.read_csv('/data/dataset_57_hypothyroid.csv', sep=',')"
      ],
      "execution_count": null,
      "outputs": []
    },
    {
      "cell_type": "code",
      "metadata": {
        "id": "hnWX0MOl9jtZ",
        "colab": {
          "base_uri": "https://localhost:8080/"
        },
        "outputId": "cda8c230-4f2c-4923-fc0e-d6336d9e4f55"
      },
      "source": [
        "df.sample(5).T"
      ],
      "execution_count": null,
      "outputs": [
        {
          "output_type": "execute_result",
          "data": {
            "text/html": [
              "<div>\n",
              "<style scoped>\n",
              "    .dataframe tbody tr th:only-of-type {\n",
              "        vertical-align: middle;\n",
              "    }\n",
              "\n",
              "    .dataframe tbody tr th {\n",
              "        vertical-align: top;\n",
              "    }\n",
              "\n",
              "    .dataframe thead th {\n",
              "        text-align: right;\n",
              "    }\n",
              "</style>\n",
              "<table border=\"1\" class=\"dataframe\">\n",
              "  <thead>\n",
              "    <tr style=\"text-align: right;\">\n",
              "      <th></th>\n",
              "      <th>995</th>\n",
              "      <th>1560</th>\n",
              "      <th>3185</th>\n",
              "      <th>2650</th>\n",
              "      <th>1703</th>\n",
              "    </tr>\n",
              "  </thead>\n",
              "  <tbody>\n",
              "    <tr>\n",
              "      <th>age</th>\n",
              "      <td>34</td>\n",
              "      <td>71</td>\n",
              "      <td>62</td>\n",
              "      <td>68</td>\n",
              "      <td>56</td>\n",
              "    </tr>\n",
              "    <tr>\n",
              "      <th>sex</th>\n",
              "      <td>F</td>\n",
              "      <td>M</td>\n",
              "      <td>F</td>\n",
              "      <td>F</td>\n",
              "      <td>M</td>\n",
              "    </tr>\n",
              "    <tr>\n",
              "      <th>on_thyroxine</th>\n",
              "      <td>f</td>\n",
              "      <td>f</td>\n",
              "      <td>f</td>\n",
              "      <td>f</td>\n",
              "      <td>f</td>\n",
              "    </tr>\n",
              "    <tr>\n",
              "      <th>query_on_thyroxine</th>\n",
              "      <td>f</td>\n",
              "      <td>f</td>\n",
              "      <td>f</td>\n",
              "      <td>f</td>\n",
              "      <td>f</td>\n",
              "    </tr>\n",
              "    <tr>\n",
              "      <th>on_antithyroid_medication</th>\n",
              "      <td>t</td>\n",
              "      <td>f</td>\n",
              "      <td>f</td>\n",
              "      <td>f</td>\n",
              "      <td>f</td>\n",
              "    </tr>\n",
              "    <tr>\n",
              "      <th>sick</th>\n",
              "      <td>f</td>\n",
              "      <td>f</td>\n",
              "      <td>f</td>\n",
              "      <td>f</td>\n",
              "      <td>f</td>\n",
              "    </tr>\n",
              "    <tr>\n",
              "      <th>pregnant</th>\n",
              "      <td>t</td>\n",
              "      <td>f</td>\n",
              "      <td>f</td>\n",
              "      <td>f</td>\n",
              "      <td>f</td>\n",
              "    </tr>\n",
              "    <tr>\n",
              "      <th>thyroid_surgery</th>\n",
              "      <td>f</td>\n",
              "      <td>f</td>\n",
              "      <td>f</td>\n",
              "      <td>f</td>\n",
              "      <td>f</td>\n",
              "    </tr>\n",
              "    <tr>\n",
              "      <th>I131_treatment</th>\n",
              "      <td>f</td>\n",
              "      <td>f</td>\n",
              "      <td>f</td>\n",
              "      <td>f</td>\n",
              "      <td>f</td>\n",
              "    </tr>\n",
              "    <tr>\n",
              "      <th>query_hypothyroid</th>\n",
              "      <td>f</td>\n",
              "      <td>f</td>\n",
              "      <td>f</td>\n",
              "      <td>f</td>\n",
              "      <td>f</td>\n",
              "    </tr>\n",
              "    <tr>\n",
              "      <th>query_hyperthyroid</th>\n",
              "      <td>t</td>\n",
              "      <td>f</td>\n",
              "      <td>f</td>\n",
              "      <td>f</td>\n",
              "      <td>f</td>\n",
              "    </tr>\n",
              "    <tr>\n",
              "      <th>lithium</th>\n",
              "      <td>f</td>\n",
              "      <td>f</td>\n",
              "      <td>f</td>\n",
              "      <td>f</td>\n",
              "      <td>f</td>\n",
              "    </tr>\n",
              "    <tr>\n",
              "      <th>goitre</th>\n",
              "      <td>f</td>\n",
              "      <td>f</td>\n",
              "      <td>f</td>\n",
              "      <td>f</td>\n",
              "      <td>f</td>\n",
              "    </tr>\n",
              "    <tr>\n",
              "      <th>tumor</th>\n",
              "      <td>f</td>\n",
              "      <td>f</td>\n",
              "      <td>f</td>\n",
              "      <td>f</td>\n",
              "      <td>f</td>\n",
              "    </tr>\n",
              "    <tr>\n",
              "      <th>hypopituitary</th>\n",
              "      <td>f</td>\n",
              "      <td>f</td>\n",
              "      <td>f</td>\n",
              "      <td>f</td>\n",
              "      <td>f</td>\n",
              "    </tr>\n",
              "    <tr>\n",
              "      <th>psych</th>\n",
              "      <td>f</td>\n",
              "      <td>f</td>\n",
              "      <td>f</td>\n",
              "      <td>f</td>\n",
              "      <td>f</td>\n",
              "    </tr>\n",
              "    <tr>\n",
              "      <th>TSH_measured</th>\n",
              "      <td>t</td>\n",
              "      <td>t</td>\n",
              "      <td>t</td>\n",
              "      <td>t</td>\n",
              "      <td>f</td>\n",
              "    </tr>\n",
              "    <tr>\n",
              "      <th>TSH</th>\n",
              "      <td>0.01</td>\n",
              "      <td>0.005</td>\n",
              "      <td>1.9</td>\n",
              "      <td>1.2</td>\n",
              "      <td>?</td>\n",
              "    </tr>\n",
              "    <tr>\n",
              "      <th>T3_measured</th>\n",
              "      <td>t</td>\n",
              "      <td>t</td>\n",
              "      <td>f</td>\n",
              "      <td>f</td>\n",
              "      <td>t</td>\n",
              "    </tr>\n",
              "    <tr>\n",
              "      <th>T3</th>\n",
              "      <td>3.8</td>\n",
              "      <td>2.2</td>\n",
              "      <td>?</td>\n",
              "      <td>?</td>\n",
              "      <td>2.3</td>\n",
              "    </tr>\n",
              "    <tr>\n",
              "      <th>TT4_measured</th>\n",
              "      <td>t</td>\n",
              "      <td>t</td>\n",
              "      <td>t</td>\n",
              "      <td>t</td>\n",
              "      <td>t</td>\n",
              "    </tr>\n",
              "    <tr>\n",
              "      <th>TT4</th>\n",
              "      <td>205</td>\n",
              "      <td>93</td>\n",
              "      <td>68</td>\n",
              "      <td>125</td>\n",
              "      <td>98</td>\n",
              "    </tr>\n",
              "    <tr>\n",
              "      <th>T4U_measured</th>\n",
              "      <td>t</td>\n",
              "      <td>t</td>\n",
              "      <td>t</td>\n",
              "      <td>t</td>\n",
              "      <td>t</td>\n",
              "    </tr>\n",
              "    <tr>\n",
              "      <th>T4U</th>\n",
              "      <td>1.84</td>\n",
              "      <td>0.87</td>\n",
              "      <td>0.64</td>\n",
              "      <td>1.11</td>\n",
              "      <td>1.07</td>\n",
              "    </tr>\n",
              "    <tr>\n",
              "      <th>FTI_measured</th>\n",
              "      <td>t</td>\n",
              "      <td>t</td>\n",
              "      <td>t</td>\n",
              "      <td>t</td>\n",
              "      <td>t</td>\n",
              "    </tr>\n",
              "    <tr>\n",
              "      <th>FTI</th>\n",
              "      <td>111</td>\n",
              "      <td>107</td>\n",
              "      <td>106</td>\n",
              "      <td>113</td>\n",
              "      <td>92</td>\n",
              "    </tr>\n",
              "    <tr>\n",
              "      <th>TBG_measured</th>\n",
              "      <td>f</td>\n",
              "      <td>f</td>\n",
              "      <td>f</td>\n",
              "      <td>f</td>\n",
              "      <td>f</td>\n",
              "    </tr>\n",
              "    <tr>\n",
              "      <th>TBG</th>\n",
              "      <td>?</td>\n",
              "      <td>?</td>\n",
              "      <td>?</td>\n",
              "      <td>?</td>\n",
              "      <td>?</td>\n",
              "    </tr>\n",
              "    <tr>\n",
              "      <th>referral_source</th>\n",
              "      <td>STMW</td>\n",
              "      <td>other</td>\n",
              "      <td>other</td>\n",
              "      <td>SVI</td>\n",
              "      <td>other</td>\n",
              "    </tr>\n",
              "    <tr>\n",
              "      <th>Class</th>\n",
              "      <td>negative</td>\n",
              "      <td>negative</td>\n",
              "      <td>negative</td>\n",
              "      <td>negative</td>\n",
              "      <td>negative</td>\n",
              "    </tr>\n",
              "  </tbody>\n",
              "</table>\n",
              "</div>"
            ],
            "text/plain": [
              "                               995       1560      3185      2650      1703\n",
              "age                              34        71        62        68        56\n",
              "sex                               F         M         F         F         M\n",
              "on_thyroxine                      f         f         f         f         f\n",
              "query_on_thyroxine                f         f         f         f         f\n",
              "on_antithyroid_medication         t         f         f         f         f\n",
              "sick                              f         f         f         f         f\n",
              "pregnant                          t         f         f         f         f\n",
              "thyroid_surgery                   f         f         f         f         f\n",
              "I131_treatment                    f         f         f         f         f\n",
              "query_hypothyroid                 f         f         f         f         f\n",
              "query_hyperthyroid                t         f         f         f         f\n",
              "lithium                           f         f         f         f         f\n",
              "goitre                            f         f         f         f         f\n",
              "tumor                             f         f         f         f         f\n",
              "hypopituitary                     f         f         f         f         f\n",
              "psych                             f         f         f         f         f\n",
              "TSH_measured                      t         t         t         t         f\n",
              "TSH                            0.01     0.005       1.9       1.2         ?\n",
              "T3_measured                       t         t         f         f         t\n",
              "T3                              3.8       2.2         ?         ?       2.3\n",
              "TT4_measured                      t         t         t         t         t\n",
              "TT4                             205        93        68       125        98\n",
              "T4U_measured                      t         t         t         t         t\n",
              "T4U                            1.84      0.87      0.64      1.11      1.07\n",
              "FTI_measured                      t         t         t         t         t\n",
              "FTI                             111       107       106       113        92\n",
              "TBG_measured                      f         f         f         f         f\n",
              "TBG                               ?         ?         ?         ?         ?\n",
              "referral_source                STMW     other     other       SVI     other\n",
              "Class                      negative  negative  negative  negative  negative"
            ]
          },
          "metadata": {
            "tags": []
          },
          "execution_count": 9
        }
      ]
    },
    {
      "cell_type": "markdown",
      "metadata": {
        "id": "sT7fi6Zw9jtc"
      },
      "source": [
        "### EDA & Data preprocessing: with conclusions"
      ]
    },
    {
      "cell_type": "code",
      "metadata": {
        "id": "7krZw1JV9jtd",
        "colab": {
          "base_uri": "https://localhost:8080/"
        },
        "outputId": "9a38b0d1-36de-4cb9-80e1-f45ad7956bb0"
      },
      "source": [
        "#Info about the data types and numerical values of the features in our data set.\n",
        "df.info()"
      ],
      "execution_count": null,
      "outputs": [
        {
          "output_type": "stream",
          "text": [
            "<class 'pandas.core.frame.DataFrame'>\n",
            "RangeIndex: 3772 entries, 0 to 3771\n",
            "Data columns (total 30 columns):\n",
            " #   Column                     Non-Null Count  Dtype \n",
            "---  ------                     --------------  ----- \n",
            " 0   age                        3772 non-null   object\n",
            " 1   sex                        3772 non-null   object\n",
            " 2   on_thyroxine               3772 non-null   object\n",
            " 3   query_on_thyroxine         3772 non-null   object\n",
            " 4   on_antithyroid_medication  3772 non-null   object\n",
            " 5   sick                       3772 non-null   object\n",
            " 6   pregnant                   3772 non-null   object\n",
            " 7   thyroid_surgery            3772 non-null   object\n",
            " 8   I131_treatment             3772 non-null   object\n",
            " 9   query_hypothyroid          3772 non-null   object\n",
            " 10  query_hyperthyroid         3772 non-null   object\n",
            " 11  lithium                    3772 non-null   object\n",
            " 12  goitre                     3772 non-null   object\n",
            " 13  tumor                      3772 non-null   object\n",
            " 14  hypopituitary              3772 non-null   object\n",
            " 15  psych                      3772 non-null   object\n",
            " 16  TSH_measured               3772 non-null   object\n",
            " 17  TSH                        3772 non-null   object\n",
            " 18  T3_measured                3772 non-null   object\n",
            " 19  T3                         3772 non-null   object\n",
            " 20  TT4_measured               3772 non-null   object\n",
            " 21  TT4                        3772 non-null   object\n",
            " 22  T4U_measured               3772 non-null   object\n",
            " 23  T4U                        3772 non-null   object\n",
            " 24  FTI_measured               3772 non-null   object\n",
            " 25  FTI                        3772 non-null   object\n",
            " 26  TBG_measured               3772 non-null   object\n",
            " 27  TBG                        3772 non-null   object\n",
            " 28  referral_source            3772 non-null   object\n",
            " 29  Class                      3772 non-null   object\n",
            "dtypes: object(30)\n",
            "memory usage: 884.2+ KB\n"
          ],
          "name": "stdout"
        }
      ]
    },
    {
      "cell_type": "code",
      "metadata": {
        "id": "RYtDNyt79jtf",
        "colab": {
          "base_uri": "https://localhost:8080/"
        },
        "outputId": "9528060e-d8f5-4f95-fce3-fabdfd9b60c5"
      },
      "source": [
        "df.shape"
      ],
      "execution_count": null,
      "outputs": [
        {
          "output_type": "execute_result",
          "data": {
            "text/plain": [
              "(3772, 30)"
            ]
          },
          "metadata": {
            "tags": []
          },
          "execution_count": 11
        }
      ]
    },
    {
      "cell_type": "markdown",
      "metadata": {
        "id": "B61adY7T9jti"
      },
      "source": [
        "#### Starting working with missing values"
      ]
    },
    {
      "cell_type": "code",
      "metadata": {
        "id": "PzMN5SgR9jtj",
        "colab": {
          "base_uri": "https://localhost:8080/",
          "height": 979
        },
        "outputId": "91ef19c9-571c-4577-c20d-2e6904c80690"
      },
      "source": [
        "df.describe().T"
      ],
      "execution_count": null,
      "outputs": [
        {
          "output_type": "execute_result",
          "data": {
            "text/html": [
              "<div>\n",
              "<style scoped>\n",
              "    .dataframe tbody tr th:only-of-type {\n",
              "        vertical-align: middle;\n",
              "    }\n",
              "\n",
              "    .dataframe tbody tr th {\n",
              "        vertical-align: top;\n",
              "    }\n",
              "\n",
              "    .dataframe thead th {\n",
              "        text-align: right;\n",
              "    }\n",
              "</style>\n",
              "<table border=\"1\" class=\"dataframe\">\n",
              "  <thead>\n",
              "    <tr style=\"text-align: right;\">\n",
              "      <th></th>\n",
              "      <th>count</th>\n",
              "      <th>unique</th>\n",
              "      <th>top</th>\n",
              "      <th>freq</th>\n",
              "    </tr>\n",
              "  </thead>\n",
              "  <tbody>\n",
              "    <tr>\n",
              "      <th>age</th>\n",
              "      <td>3772</td>\n",
              "      <td>94</td>\n",
              "      <td>59</td>\n",
              "      <td>95</td>\n",
              "    </tr>\n",
              "    <tr>\n",
              "      <th>sex</th>\n",
              "      <td>3772</td>\n",
              "      <td>3</td>\n",
              "      <td>F</td>\n",
              "      <td>2480</td>\n",
              "    </tr>\n",
              "    <tr>\n",
              "      <th>on_thyroxine</th>\n",
              "      <td>3772</td>\n",
              "      <td>2</td>\n",
              "      <td>f</td>\n",
              "      <td>3308</td>\n",
              "    </tr>\n",
              "    <tr>\n",
              "      <th>query_on_thyroxine</th>\n",
              "      <td>3772</td>\n",
              "      <td>2</td>\n",
              "      <td>f</td>\n",
              "      <td>3722</td>\n",
              "    </tr>\n",
              "    <tr>\n",
              "      <th>on_antithyroid_medication</th>\n",
              "      <td>3772</td>\n",
              "      <td>2</td>\n",
              "      <td>f</td>\n",
              "      <td>3729</td>\n",
              "    </tr>\n",
              "    <tr>\n",
              "      <th>sick</th>\n",
              "      <td>3772</td>\n",
              "      <td>2</td>\n",
              "      <td>f</td>\n",
              "      <td>3625</td>\n",
              "    </tr>\n",
              "    <tr>\n",
              "      <th>pregnant</th>\n",
              "      <td>3772</td>\n",
              "      <td>2</td>\n",
              "      <td>f</td>\n",
              "      <td>3719</td>\n",
              "    </tr>\n",
              "    <tr>\n",
              "      <th>thyroid_surgery</th>\n",
              "      <td>3772</td>\n",
              "      <td>2</td>\n",
              "      <td>f</td>\n",
              "      <td>3719</td>\n",
              "    </tr>\n",
              "    <tr>\n",
              "      <th>I131_treatment</th>\n",
              "      <td>3772</td>\n",
              "      <td>2</td>\n",
              "      <td>f</td>\n",
              "      <td>3713</td>\n",
              "    </tr>\n",
              "    <tr>\n",
              "      <th>query_hypothyroid</th>\n",
              "      <td>3772</td>\n",
              "      <td>2</td>\n",
              "      <td>f</td>\n",
              "      <td>3538</td>\n",
              "    </tr>\n",
              "    <tr>\n",
              "      <th>query_hyperthyroid</th>\n",
              "      <td>3772</td>\n",
              "      <td>2</td>\n",
              "      <td>f</td>\n",
              "      <td>3535</td>\n",
              "    </tr>\n",
              "    <tr>\n",
              "      <th>lithium</th>\n",
              "      <td>3772</td>\n",
              "      <td>2</td>\n",
              "      <td>f</td>\n",
              "      <td>3754</td>\n",
              "    </tr>\n",
              "    <tr>\n",
              "      <th>goitre</th>\n",
              "      <td>3772</td>\n",
              "      <td>2</td>\n",
              "      <td>f</td>\n",
              "      <td>3738</td>\n",
              "    </tr>\n",
              "    <tr>\n",
              "      <th>tumor</th>\n",
              "      <td>3772</td>\n",
              "      <td>2</td>\n",
              "      <td>f</td>\n",
              "      <td>3676</td>\n",
              "    </tr>\n",
              "    <tr>\n",
              "      <th>hypopituitary</th>\n",
              "      <td>3772</td>\n",
              "      <td>2</td>\n",
              "      <td>f</td>\n",
              "      <td>3771</td>\n",
              "    </tr>\n",
              "    <tr>\n",
              "      <th>psych</th>\n",
              "      <td>3772</td>\n",
              "      <td>2</td>\n",
              "      <td>f</td>\n",
              "      <td>3588</td>\n",
              "    </tr>\n",
              "    <tr>\n",
              "      <th>TSH_measured</th>\n",
              "      <td>3772</td>\n",
              "      <td>2</td>\n",
              "      <td>t</td>\n",
              "      <td>3403</td>\n",
              "    </tr>\n",
              "    <tr>\n",
              "      <th>TSH</th>\n",
              "      <td>3772</td>\n",
              "      <td>288</td>\n",
              "      <td>?</td>\n",
              "      <td>369</td>\n",
              "    </tr>\n",
              "    <tr>\n",
              "      <th>T3_measured</th>\n",
              "      <td>3772</td>\n",
              "      <td>2</td>\n",
              "      <td>t</td>\n",
              "      <td>3003</td>\n",
              "    </tr>\n",
              "    <tr>\n",
              "      <th>T3</th>\n",
              "      <td>3772</td>\n",
              "      <td>70</td>\n",
              "      <td>?</td>\n",
              "      <td>769</td>\n",
              "    </tr>\n",
              "    <tr>\n",
              "      <th>TT4_measured</th>\n",
              "      <td>3772</td>\n",
              "      <td>2</td>\n",
              "      <td>t</td>\n",
              "      <td>3541</td>\n",
              "    </tr>\n",
              "    <tr>\n",
              "      <th>TT4</th>\n",
              "      <td>3772</td>\n",
              "      <td>242</td>\n",
              "      <td>?</td>\n",
              "      <td>231</td>\n",
              "    </tr>\n",
              "    <tr>\n",
              "      <th>T4U_measured</th>\n",
              "      <td>3772</td>\n",
              "      <td>2</td>\n",
              "      <td>t</td>\n",
              "      <td>3385</td>\n",
              "    </tr>\n",
              "    <tr>\n",
              "      <th>T4U</th>\n",
              "      <td>3772</td>\n",
              "      <td>147</td>\n",
              "      <td>?</td>\n",
              "      <td>387</td>\n",
              "    </tr>\n",
              "    <tr>\n",
              "      <th>FTI_measured</th>\n",
              "      <td>3772</td>\n",
              "      <td>2</td>\n",
              "      <td>t</td>\n",
              "      <td>3387</td>\n",
              "    </tr>\n",
              "    <tr>\n",
              "      <th>FTI</th>\n",
              "      <td>3772</td>\n",
              "      <td>235</td>\n",
              "      <td>?</td>\n",
              "      <td>385</td>\n",
              "    </tr>\n",
              "    <tr>\n",
              "      <th>TBG_measured</th>\n",
              "      <td>3772</td>\n",
              "      <td>1</td>\n",
              "      <td>f</td>\n",
              "      <td>3772</td>\n",
              "    </tr>\n",
              "    <tr>\n",
              "      <th>TBG</th>\n",
              "      <td>3772</td>\n",
              "      <td>1</td>\n",
              "      <td>?</td>\n",
              "      <td>3772</td>\n",
              "    </tr>\n",
              "    <tr>\n",
              "      <th>referral_source</th>\n",
              "      <td>3772</td>\n",
              "      <td>5</td>\n",
              "      <td>other</td>\n",
              "      <td>2201</td>\n",
              "    </tr>\n",
              "    <tr>\n",
              "      <th>Class</th>\n",
              "      <td>3772</td>\n",
              "      <td>4</td>\n",
              "      <td>negative</td>\n",
              "      <td>3481</td>\n",
              "    </tr>\n",
              "  </tbody>\n",
              "</table>\n",
              "</div>"
            ],
            "text/plain": [
              "                          count unique       top  freq\n",
              "age                        3772     94        59    95\n",
              "sex                        3772      3         F  2480\n",
              "on_thyroxine               3772      2         f  3308\n",
              "query_on_thyroxine         3772      2         f  3722\n",
              "on_antithyroid_medication  3772      2         f  3729\n",
              "sick                       3772      2         f  3625\n",
              "pregnant                   3772      2         f  3719\n",
              "thyroid_surgery            3772      2         f  3719\n",
              "I131_treatment             3772      2         f  3713\n",
              "query_hypothyroid          3772      2         f  3538\n",
              "query_hyperthyroid         3772      2         f  3535\n",
              "lithium                    3772      2         f  3754\n",
              "goitre                     3772      2         f  3738\n",
              "tumor                      3772      2         f  3676\n",
              "hypopituitary              3772      2         f  3771\n",
              "psych                      3772      2         f  3588\n",
              "TSH_measured               3772      2         t  3403\n",
              "TSH                        3772    288         ?   369\n",
              "T3_measured                3772      2         t  3003\n",
              "T3                         3772     70         ?   769\n",
              "TT4_measured               3772      2         t  3541\n",
              "TT4                        3772    242         ?   231\n",
              "T4U_measured               3772      2         t  3385\n",
              "T4U                        3772    147         ?   387\n",
              "FTI_measured               3772      2         t  3387\n",
              "FTI                        3772    235         ?   385\n",
              "TBG_measured               3772      1         f  3772\n",
              "TBG                        3772      1         ?  3772\n",
              "referral_source            3772      5     other  2201\n",
              "Class                      3772      4  negative  3481"
            ]
          },
          "metadata": {
            "tags": []
          },
          "execution_count": 12
        }
      ]
    },
    {
      "cell_type": "code",
      "metadata": {
        "id": "oqqMuwbC9jtl",
        "colab": {
          "base_uri": "https://localhost:8080/"
        },
        "outputId": "c4c764d9-3695-4e8d-d797-6de1e2ef2a24"
      },
      "source": [
        "# Посчитаем, а сколько всего Nan\n",
        "df.isna().sum()"
      ],
      "execution_count": null,
      "outputs": [
        {
          "output_type": "execute_result",
          "data": {
            "text/plain": [
              "age                          0\n",
              "sex                          0\n",
              "on_thyroxine                 0\n",
              "query_on_thyroxine           0\n",
              "on_antithyroid_medication    0\n",
              "sick                         0\n",
              "pregnant                     0\n",
              "thyroid_surgery              0\n",
              "I131_treatment               0\n",
              "query_hypothyroid            0\n",
              "query_hyperthyroid           0\n",
              "lithium                      0\n",
              "goitre                       0\n",
              "tumor                        0\n",
              "hypopituitary                0\n",
              "psych                        0\n",
              "TSH_measured                 0\n",
              "TSH                          0\n",
              "T3_measured                  0\n",
              "T3                           0\n",
              "TT4_measured                 0\n",
              "TT4                          0\n",
              "T4U_measured                 0\n",
              "T4U                          0\n",
              "FTI_measured                 0\n",
              "FTI                          0\n",
              "TBG_measured                 0\n",
              "TBG                          0\n",
              "referral_source              0\n",
              "Class                        0\n",
              "dtype: int64"
            ]
          },
          "metadata": {
            "tags": []
          },
          "execution_count": 13
        }
      ]
    },
    {
      "cell_type": "markdown",
      "metadata": {
        "id": "oXqozzi-9jtn"
      },
      "source": [
        "Nanoв нет. Но из таблицы describe видно, что есть пропущенные значения ('?'). Их достаточно много. Попытаемся выработать тактику, что с ними делать."
      ]
    },
    {
      "cell_type": "code",
      "metadata": {
        "id": "sqlFlLZ39jto",
        "colab": {
          "base_uri": "https://localhost:8080/"
        },
        "outputId": "faa3bd7b-2072-4921-fd93-ca1b519aa824"
      },
      "source": [
        "count_value(df)"
      ],
      "execution_count": null,
      "outputs": [
        {
          "output_type": "stream",
          "text": [
            "age\n",
            "59     95\n",
            "60     91\n",
            "70     90\n",
            "73     81\n",
            "55     81\n",
            "       ..\n",
            "?       1\n",
            "4       1\n",
            "455     1\n",
            "6       1\n",
            "5       1\n",
            "Name: age, Length: 94, dtype: int64\n",
            "\n",
            "sex\n",
            "F    2480\n",
            "M    1142\n",
            "?     150\n",
            "Name: sex, dtype: int64\n",
            "\n",
            "on_thyroxine\n",
            "f    3308\n",
            "t     464\n",
            "Name: on_thyroxine, dtype: int64\n",
            "\n",
            "query_on_thyroxine\n",
            "f    3722\n",
            "t      50\n",
            "Name: query_on_thyroxine, dtype: int64\n",
            "\n",
            "on_antithyroid_medication\n",
            "f    3729\n",
            "t      43\n",
            "Name: on_antithyroid_medication, dtype: int64\n",
            "\n",
            "sick\n",
            "f    3625\n",
            "t     147\n",
            "Name: sick, dtype: int64\n",
            "\n",
            "pregnant\n",
            "f    3719\n",
            "t      53\n",
            "Name: pregnant, dtype: int64\n",
            "\n",
            "thyroid_surgery\n",
            "f    3719\n",
            "t      53\n",
            "Name: thyroid_surgery, dtype: int64\n",
            "\n",
            "I131_treatment\n",
            "f    3713\n",
            "t      59\n",
            "Name: I131_treatment, dtype: int64\n",
            "\n",
            "query_hypothyroid\n",
            "f    3538\n",
            "t     234\n",
            "Name: query_hypothyroid, dtype: int64\n",
            "\n",
            "query_hyperthyroid\n",
            "f    3535\n",
            "t     237\n",
            "Name: query_hyperthyroid, dtype: int64\n",
            "\n",
            "lithium\n",
            "f    3754\n",
            "t      18\n",
            "Name: lithium, dtype: int64\n",
            "\n",
            "goitre\n",
            "f    3738\n",
            "t      34\n",
            "Name: goitre, dtype: int64\n",
            "\n",
            "tumor\n",
            "f    3676\n",
            "t      96\n",
            "Name: tumor, dtype: int64\n",
            "\n",
            "hypopituitary\n",
            "f    3771\n",
            "t       1\n",
            "Name: hypopituitary, dtype: int64\n",
            "\n",
            "psych\n",
            "f    3588\n",
            "t     184\n",
            "Name: psych, dtype: int64\n",
            "\n",
            "TSH_measured\n",
            "t    3403\n",
            "f     369\n",
            "Name: TSH_measured, dtype: int64\n",
            "\n",
            "TSH\n",
            "?       369\n",
            "0.2     116\n",
            "1.3     105\n",
            "1.1      97\n",
            "1.4      91\n",
            "       ... \n",
            "39        1\n",
            "1.01      1\n",
            "11.1      1\n",
            "440       1\n",
            "12.1      1\n",
            "Name: TSH, Length: 288, dtype: int64\n",
            "\n",
            "T3_measured\n",
            "t    3003\n",
            "f     769\n",
            "Name: T3_measured, dtype: int64\n",
            "\n",
            "T3\n",
            "?       769\n",
            "2       238\n",
            "1.8     207\n",
            "2.2     201\n",
            "1.9     189\n",
            "       ... \n",
            "8.5       1\n",
            "6.2       1\n",
            "4.6       1\n",
            "1.44      1\n",
            "6.6       1\n",
            "Name: T3, Length: 70, dtype: int64\n",
            "\n",
            "TT4_measured\n",
            "t    3541\n",
            "f     231\n",
            "Name: TT4_measured, dtype: int64\n",
            "\n",
            "TT4\n",
            "?      231\n",
            "101     71\n",
            "93      67\n",
            "98      63\n",
            "103     63\n",
            "      ... \n",
            "206      1\n",
            "34       1\n",
            "47       1\n",
            "207      1\n",
            "261      1\n",
            "Name: TT4, Length: 242, dtype: int64\n",
            "\n",
            "T4U_measured\n",
            "t    3385\n",
            "f     387\n",
            "Name: T4U_measured, dtype: int64\n",
            "\n",
            "T4U\n",
            "?        387\n",
            "0.99      95\n",
            "0.9       93\n",
            "1.01      91\n",
            "1         90\n",
            "        ... \n",
            "1.76       1\n",
            "1.93       1\n",
            "0.47       1\n",
            "2.03       1\n",
            "0.944      1\n",
            "Name: T4U, Length: 147, dtype: int64\n",
            "\n",
            "FTI_measured\n",
            "t    3387\n",
            "f     385\n",
            "Name: FTI_measured, dtype: int64\n",
            "\n",
            "FTI\n",
            "?      385\n",
            "100     73\n",
            "93      70\n",
            "114     65\n",
            "107     64\n",
            "      ... \n",
            "224      1\n",
            "16       1\n",
            "27       1\n",
            "201      1\n",
            "312      1\n",
            "Name: FTI, Length: 235, dtype: int64\n",
            "\n",
            "TBG_measured\n",
            "f    3772\n",
            "Name: TBG_measured, dtype: int64\n",
            "\n",
            "TBG\n",
            "?    3772\n",
            "Name: TBG, dtype: int64\n",
            "\n",
            "referral_source\n",
            "other    2201\n",
            "SVI      1034\n",
            "SVHC      386\n",
            "STMW      112\n",
            "SVHD       39\n",
            "Name: referral_source, dtype: int64\n",
            "\n",
            "Class\n",
            "negative                   3481\n",
            "compensated_hypothyroid     194\n",
            "primary_hypothyroid          95\n",
            "secondary_hypothyroid         2\n",
            "Name: Class, dtype: int64\n",
            "\n"
          ],
          "name": "stdout"
        }
      ]
    },
    {
      "cell_type": "markdown",
      "metadata": {
        "id": "dn4V6cp59jtq"
      },
      "source": [
        "Очень много всего. Глаза разбегаются. Надо как-то попроще все сделать. Поэтому создадим таблицу для подсчета пропусков в каждом столбце.\n",
        "\n",
        "Хочется написать процентное соотношение, сколько процентов занимает '?' от общего количества значений 3772. И выделить сразу же те, в которых больше 0.7. Такие столбцы мы удалим.\n",
        "\n",
        "Зададим pandasdataframe для этого. "
      ]
    },
    {
      "cell_type": "code",
      "metadata": {
        "id": "KuUO0Gy89jtr"
      },
      "source": [
        "a = []\n",
        "for column in df.columns:\n",
        "    b = (df[column]==\"?\").sum()/df.shape[0]\n",
        "    b = round (b, 2)\n",
        "    a.append(b)"
      ],
      "execution_count": null,
      "outputs": []
    },
    {
      "cell_type": "code",
      "metadata": {
        "id": "Ygqa03fy9jtt",
        "colab": {
          "base_uri": "https://localhost:8080/",
          "height": 979
        },
        "outputId": "97e8760f-9b33-4b5b-cd7e-ea5e17cfab4d"
      },
      "source": [
        "pf = pd.DataFrame({\"Column\": df.columns, \"Percentage\": a})\n",
        "pf"
      ],
      "execution_count": null,
      "outputs": [
        {
          "output_type": "execute_result",
          "data": {
            "text/html": [
              "<div>\n",
              "<style scoped>\n",
              "    .dataframe tbody tr th:only-of-type {\n",
              "        vertical-align: middle;\n",
              "    }\n",
              "\n",
              "    .dataframe tbody tr th {\n",
              "        vertical-align: top;\n",
              "    }\n",
              "\n",
              "    .dataframe thead th {\n",
              "        text-align: right;\n",
              "    }\n",
              "</style>\n",
              "<table border=\"1\" class=\"dataframe\">\n",
              "  <thead>\n",
              "    <tr style=\"text-align: right;\">\n",
              "      <th></th>\n",
              "      <th>Column</th>\n",
              "      <th>Percentage</th>\n",
              "    </tr>\n",
              "  </thead>\n",
              "  <tbody>\n",
              "    <tr>\n",
              "      <th>0</th>\n",
              "      <td>age</td>\n",
              "      <td>0.00</td>\n",
              "    </tr>\n",
              "    <tr>\n",
              "      <th>1</th>\n",
              "      <td>sex</td>\n",
              "      <td>0.04</td>\n",
              "    </tr>\n",
              "    <tr>\n",
              "      <th>2</th>\n",
              "      <td>on_thyroxine</td>\n",
              "      <td>0.00</td>\n",
              "    </tr>\n",
              "    <tr>\n",
              "      <th>3</th>\n",
              "      <td>query_on_thyroxine</td>\n",
              "      <td>0.00</td>\n",
              "    </tr>\n",
              "    <tr>\n",
              "      <th>4</th>\n",
              "      <td>on_antithyroid_medication</td>\n",
              "      <td>0.00</td>\n",
              "    </tr>\n",
              "    <tr>\n",
              "      <th>5</th>\n",
              "      <td>sick</td>\n",
              "      <td>0.00</td>\n",
              "    </tr>\n",
              "    <tr>\n",
              "      <th>6</th>\n",
              "      <td>pregnant</td>\n",
              "      <td>0.00</td>\n",
              "    </tr>\n",
              "    <tr>\n",
              "      <th>7</th>\n",
              "      <td>thyroid_surgery</td>\n",
              "      <td>0.00</td>\n",
              "    </tr>\n",
              "    <tr>\n",
              "      <th>8</th>\n",
              "      <td>I131_treatment</td>\n",
              "      <td>0.00</td>\n",
              "    </tr>\n",
              "    <tr>\n",
              "      <th>9</th>\n",
              "      <td>query_hypothyroid</td>\n",
              "      <td>0.00</td>\n",
              "    </tr>\n",
              "    <tr>\n",
              "      <th>10</th>\n",
              "      <td>query_hyperthyroid</td>\n",
              "      <td>0.00</td>\n",
              "    </tr>\n",
              "    <tr>\n",
              "      <th>11</th>\n",
              "      <td>lithium</td>\n",
              "      <td>0.00</td>\n",
              "    </tr>\n",
              "    <tr>\n",
              "      <th>12</th>\n",
              "      <td>goitre</td>\n",
              "      <td>0.00</td>\n",
              "    </tr>\n",
              "    <tr>\n",
              "      <th>13</th>\n",
              "      <td>tumor</td>\n",
              "      <td>0.00</td>\n",
              "    </tr>\n",
              "    <tr>\n",
              "      <th>14</th>\n",
              "      <td>hypopituitary</td>\n",
              "      <td>0.00</td>\n",
              "    </tr>\n",
              "    <tr>\n",
              "      <th>15</th>\n",
              "      <td>psych</td>\n",
              "      <td>0.00</td>\n",
              "    </tr>\n",
              "    <tr>\n",
              "      <th>16</th>\n",
              "      <td>TSH_measured</td>\n",
              "      <td>0.00</td>\n",
              "    </tr>\n",
              "    <tr>\n",
              "      <th>17</th>\n",
              "      <td>TSH</td>\n",
              "      <td>0.10</td>\n",
              "    </tr>\n",
              "    <tr>\n",
              "      <th>18</th>\n",
              "      <td>T3_measured</td>\n",
              "      <td>0.00</td>\n",
              "    </tr>\n",
              "    <tr>\n",
              "      <th>19</th>\n",
              "      <td>T3</td>\n",
              "      <td>0.20</td>\n",
              "    </tr>\n",
              "    <tr>\n",
              "      <th>20</th>\n",
              "      <td>TT4_measured</td>\n",
              "      <td>0.00</td>\n",
              "    </tr>\n",
              "    <tr>\n",
              "      <th>21</th>\n",
              "      <td>TT4</td>\n",
              "      <td>0.06</td>\n",
              "    </tr>\n",
              "    <tr>\n",
              "      <th>22</th>\n",
              "      <td>T4U_measured</td>\n",
              "      <td>0.00</td>\n",
              "    </tr>\n",
              "    <tr>\n",
              "      <th>23</th>\n",
              "      <td>T4U</td>\n",
              "      <td>0.10</td>\n",
              "    </tr>\n",
              "    <tr>\n",
              "      <th>24</th>\n",
              "      <td>FTI_measured</td>\n",
              "      <td>0.00</td>\n",
              "    </tr>\n",
              "    <tr>\n",
              "      <th>25</th>\n",
              "      <td>FTI</td>\n",
              "      <td>0.10</td>\n",
              "    </tr>\n",
              "    <tr>\n",
              "      <th>26</th>\n",
              "      <td>TBG_measured</td>\n",
              "      <td>0.00</td>\n",
              "    </tr>\n",
              "    <tr>\n",
              "      <th>27</th>\n",
              "      <td>TBG</td>\n",
              "      <td>1.00</td>\n",
              "    </tr>\n",
              "    <tr>\n",
              "      <th>28</th>\n",
              "      <td>referral_source</td>\n",
              "      <td>0.00</td>\n",
              "    </tr>\n",
              "    <tr>\n",
              "      <th>29</th>\n",
              "      <td>Class</td>\n",
              "      <td>0.00</td>\n",
              "    </tr>\n",
              "  </tbody>\n",
              "</table>\n",
              "</div>"
            ],
            "text/plain": [
              "                       Column  Percentage\n",
              "0                         age        0.00\n",
              "1                         sex        0.04\n",
              "2                on_thyroxine        0.00\n",
              "3          query_on_thyroxine        0.00\n",
              "4   on_antithyroid_medication        0.00\n",
              "5                        sick        0.00\n",
              "6                    pregnant        0.00\n",
              "7             thyroid_surgery        0.00\n",
              "8              I131_treatment        0.00\n",
              "9           query_hypothyroid        0.00\n",
              "10         query_hyperthyroid        0.00\n",
              "11                    lithium        0.00\n",
              "12                     goitre        0.00\n",
              "13                      tumor        0.00\n",
              "14              hypopituitary        0.00\n",
              "15                      psych        0.00\n",
              "16               TSH_measured        0.00\n",
              "17                        TSH        0.10\n",
              "18                T3_measured        0.00\n",
              "19                         T3        0.20\n",
              "20               TT4_measured        0.00\n",
              "21                        TT4        0.06\n",
              "22               T4U_measured        0.00\n",
              "23                        T4U        0.10\n",
              "24               FTI_measured        0.00\n",
              "25                        FTI        0.10\n",
              "26               TBG_measured        0.00\n",
              "27                        TBG        1.00\n",
              "28            referral_source        0.00\n",
              "29                      Class        0.00"
            ]
          },
          "metadata": {
            "tags": []
          },
          "execution_count": 16
        }
      ]
    },
    {
      "cell_type": "code",
      "metadata": {
        "id": "IOa_X0U89jtw",
        "colab": {
          "base_uri": "https://localhost:8080/",
          "height": 80
        },
        "outputId": "ed6262c2-bd6f-4209-d476-47e2c8d3cbe8"
      },
      "source": [
        "pf[pf.Percentage >= 0.5]"
      ],
      "execution_count": null,
      "outputs": [
        {
          "output_type": "execute_result",
          "data": {
            "text/html": [
              "<div>\n",
              "<style scoped>\n",
              "    .dataframe tbody tr th:only-of-type {\n",
              "        vertical-align: middle;\n",
              "    }\n",
              "\n",
              "    .dataframe tbody tr th {\n",
              "        vertical-align: top;\n",
              "    }\n",
              "\n",
              "    .dataframe thead th {\n",
              "        text-align: right;\n",
              "    }\n",
              "</style>\n",
              "<table border=\"1\" class=\"dataframe\">\n",
              "  <thead>\n",
              "    <tr style=\"text-align: right;\">\n",
              "      <th></th>\n",
              "      <th>Column</th>\n",
              "      <th>Percentage</th>\n",
              "    </tr>\n",
              "  </thead>\n",
              "  <tbody>\n",
              "    <tr>\n",
              "      <th>27</th>\n",
              "      <td>TBG</td>\n",
              "      <td>1.0</td>\n",
              "    </tr>\n",
              "  </tbody>\n",
              "</table>\n",
              "</div>"
            ],
            "text/plain": [
              "   Column  Percentage\n",
              "27    TBG         1.0"
            ]
          },
          "metadata": {
            "tags": []
          },
          "execution_count": 17
        }
      ]
    },
    {
      "cell_type": "markdown",
      "metadata": {
        "id": "ZrIFfJeO9jt1"
      },
      "source": [
        "Есть колонка, состоящая только из '?' - 'TBG'. Удалим его. Так как соотношение у других меньше, то оставим их. \n",
        "\n",
        "Заметим, что пропуск в неком столбце i означает, что измерение не было проведено, а значит и результат неизвестен. Также, мы выяснили, что TBG не был замерен ни у кого, поэтому его можно удалить вместе с TBG_measured."
      ]
    },
    {
      "cell_type": "code",
      "metadata": {
        "id": "-n3_Rpg89jt1"
      },
      "source": [
        "df.drop(columns=['TBG','TBG_measured'],inplace=True)"
      ],
      "execution_count": null,
      "outputs": []
    },
    {
      "cell_type": "code",
      "metadata": {
        "id": "Nc84BO5a9jt3",
        "colab": {
          "base_uri": "https://localhost:8080/",
          "height": 917
        },
        "outputId": "af3cca47-55af-4ddb-a3f1-ef7214323e5e"
      },
      "source": [
        "df.head().T"
      ],
      "execution_count": null,
      "outputs": [
        {
          "output_type": "execute_result",
          "data": {
            "text/html": [
              "<div>\n",
              "<style scoped>\n",
              "    .dataframe tbody tr th:only-of-type {\n",
              "        vertical-align: middle;\n",
              "    }\n",
              "\n",
              "    .dataframe tbody tr th {\n",
              "        vertical-align: top;\n",
              "    }\n",
              "\n",
              "    .dataframe thead th {\n",
              "        text-align: right;\n",
              "    }\n",
              "</style>\n",
              "<table border=\"1\" class=\"dataframe\">\n",
              "  <thead>\n",
              "    <tr style=\"text-align: right;\">\n",
              "      <th></th>\n",
              "      <th>0</th>\n",
              "      <th>1</th>\n",
              "      <th>2</th>\n",
              "      <th>3</th>\n",
              "      <th>4</th>\n",
              "    </tr>\n",
              "  </thead>\n",
              "  <tbody>\n",
              "    <tr>\n",
              "      <th>age</th>\n",
              "      <td>41</td>\n",
              "      <td>23</td>\n",
              "      <td>46</td>\n",
              "      <td>70</td>\n",
              "      <td>70</td>\n",
              "    </tr>\n",
              "    <tr>\n",
              "      <th>sex</th>\n",
              "      <td>F</td>\n",
              "      <td>F</td>\n",
              "      <td>M</td>\n",
              "      <td>F</td>\n",
              "      <td>F</td>\n",
              "    </tr>\n",
              "    <tr>\n",
              "      <th>on_thyroxine</th>\n",
              "      <td>f</td>\n",
              "      <td>f</td>\n",
              "      <td>f</td>\n",
              "      <td>t</td>\n",
              "      <td>f</td>\n",
              "    </tr>\n",
              "    <tr>\n",
              "      <th>query_on_thyroxine</th>\n",
              "      <td>f</td>\n",
              "      <td>f</td>\n",
              "      <td>f</td>\n",
              "      <td>f</td>\n",
              "      <td>f</td>\n",
              "    </tr>\n",
              "    <tr>\n",
              "      <th>on_antithyroid_medication</th>\n",
              "      <td>f</td>\n",
              "      <td>f</td>\n",
              "      <td>f</td>\n",
              "      <td>f</td>\n",
              "      <td>f</td>\n",
              "    </tr>\n",
              "    <tr>\n",
              "      <th>sick</th>\n",
              "      <td>f</td>\n",
              "      <td>f</td>\n",
              "      <td>f</td>\n",
              "      <td>f</td>\n",
              "      <td>f</td>\n",
              "    </tr>\n",
              "    <tr>\n",
              "      <th>pregnant</th>\n",
              "      <td>f</td>\n",
              "      <td>f</td>\n",
              "      <td>f</td>\n",
              "      <td>f</td>\n",
              "      <td>f</td>\n",
              "    </tr>\n",
              "    <tr>\n",
              "      <th>thyroid_surgery</th>\n",
              "      <td>f</td>\n",
              "      <td>f</td>\n",
              "      <td>f</td>\n",
              "      <td>f</td>\n",
              "      <td>f</td>\n",
              "    </tr>\n",
              "    <tr>\n",
              "      <th>I131_treatment</th>\n",
              "      <td>f</td>\n",
              "      <td>f</td>\n",
              "      <td>f</td>\n",
              "      <td>f</td>\n",
              "      <td>f</td>\n",
              "    </tr>\n",
              "    <tr>\n",
              "      <th>query_hypothyroid</th>\n",
              "      <td>f</td>\n",
              "      <td>f</td>\n",
              "      <td>f</td>\n",
              "      <td>f</td>\n",
              "      <td>f</td>\n",
              "    </tr>\n",
              "    <tr>\n",
              "      <th>query_hyperthyroid</th>\n",
              "      <td>f</td>\n",
              "      <td>f</td>\n",
              "      <td>f</td>\n",
              "      <td>f</td>\n",
              "      <td>f</td>\n",
              "    </tr>\n",
              "    <tr>\n",
              "      <th>lithium</th>\n",
              "      <td>f</td>\n",
              "      <td>f</td>\n",
              "      <td>f</td>\n",
              "      <td>f</td>\n",
              "      <td>f</td>\n",
              "    </tr>\n",
              "    <tr>\n",
              "      <th>goitre</th>\n",
              "      <td>f</td>\n",
              "      <td>f</td>\n",
              "      <td>f</td>\n",
              "      <td>f</td>\n",
              "      <td>f</td>\n",
              "    </tr>\n",
              "    <tr>\n",
              "      <th>tumor</th>\n",
              "      <td>f</td>\n",
              "      <td>f</td>\n",
              "      <td>f</td>\n",
              "      <td>f</td>\n",
              "      <td>f</td>\n",
              "    </tr>\n",
              "    <tr>\n",
              "      <th>hypopituitary</th>\n",
              "      <td>f</td>\n",
              "      <td>f</td>\n",
              "      <td>f</td>\n",
              "      <td>f</td>\n",
              "      <td>f</td>\n",
              "    </tr>\n",
              "    <tr>\n",
              "      <th>psych</th>\n",
              "      <td>f</td>\n",
              "      <td>f</td>\n",
              "      <td>f</td>\n",
              "      <td>f</td>\n",
              "      <td>f</td>\n",
              "    </tr>\n",
              "    <tr>\n",
              "      <th>TSH_measured</th>\n",
              "      <td>t</td>\n",
              "      <td>t</td>\n",
              "      <td>t</td>\n",
              "      <td>t</td>\n",
              "      <td>t</td>\n",
              "    </tr>\n",
              "    <tr>\n",
              "      <th>TSH</th>\n",
              "      <td>1.3</td>\n",
              "      <td>4.1</td>\n",
              "      <td>0.98</td>\n",
              "      <td>0.16</td>\n",
              "      <td>0.72</td>\n",
              "    </tr>\n",
              "    <tr>\n",
              "      <th>T3_measured</th>\n",
              "      <td>t</td>\n",
              "      <td>t</td>\n",
              "      <td>f</td>\n",
              "      <td>t</td>\n",
              "      <td>t</td>\n",
              "    </tr>\n",
              "    <tr>\n",
              "      <th>T3</th>\n",
              "      <td>2.5</td>\n",
              "      <td>2</td>\n",
              "      <td>?</td>\n",
              "      <td>1.9</td>\n",
              "      <td>1.2</td>\n",
              "    </tr>\n",
              "    <tr>\n",
              "      <th>TT4_measured</th>\n",
              "      <td>t</td>\n",
              "      <td>t</td>\n",
              "      <td>t</td>\n",
              "      <td>t</td>\n",
              "      <td>t</td>\n",
              "    </tr>\n",
              "    <tr>\n",
              "      <th>TT4</th>\n",
              "      <td>125</td>\n",
              "      <td>102</td>\n",
              "      <td>109</td>\n",
              "      <td>175</td>\n",
              "      <td>61</td>\n",
              "    </tr>\n",
              "    <tr>\n",
              "      <th>T4U_measured</th>\n",
              "      <td>t</td>\n",
              "      <td>f</td>\n",
              "      <td>t</td>\n",
              "      <td>f</td>\n",
              "      <td>t</td>\n",
              "    </tr>\n",
              "    <tr>\n",
              "      <th>T4U</th>\n",
              "      <td>1.14</td>\n",
              "      <td>?</td>\n",
              "      <td>0.91</td>\n",
              "      <td>?</td>\n",
              "      <td>0.87</td>\n",
              "    </tr>\n",
              "    <tr>\n",
              "      <th>FTI_measured</th>\n",
              "      <td>t</td>\n",
              "      <td>f</td>\n",
              "      <td>t</td>\n",
              "      <td>f</td>\n",
              "      <td>t</td>\n",
              "    </tr>\n",
              "    <tr>\n",
              "      <th>FTI</th>\n",
              "      <td>109</td>\n",
              "      <td>?</td>\n",
              "      <td>120</td>\n",
              "      <td>?</td>\n",
              "      <td>70</td>\n",
              "    </tr>\n",
              "    <tr>\n",
              "      <th>referral_source</th>\n",
              "      <td>SVHC</td>\n",
              "      <td>other</td>\n",
              "      <td>other</td>\n",
              "      <td>other</td>\n",
              "      <td>SVI</td>\n",
              "    </tr>\n",
              "    <tr>\n",
              "      <th>Class</th>\n",
              "      <td>negative</td>\n",
              "      <td>negative</td>\n",
              "      <td>negative</td>\n",
              "      <td>negative</td>\n",
              "      <td>negative</td>\n",
              "    </tr>\n",
              "  </tbody>\n",
              "</table>\n",
              "</div>"
            ],
            "text/plain": [
              "                                  0         1         2         3         4\n",
              "age                              41        23        46        70        70\n",
              "sex                               F         F         M         F         F\n",
              "on_thyroxine                      f         f         f         t         f\n",
              "query_on_thyroxine                f         f         f         f         f\n",
              "on_antithyroid_medication         f         f         f         f         f\n",
              "sick                              f         f         f         f         f\n",
              "pregnant                          f         f         f         f         f\n",
              "thyroid_surgery                   f         f         f         f         f\n",
              "I131_treatment                    f         f         f         f         f\n",
              "query_hypothyroid                 f         f         f         f         f\n",
              "query_hyperthyroid                f         f         f         f         f\n",
              "lithium                           f         f         f         f         f\n",
              "goitre                            f         f         f         f         f\n",
              "tumor                             f         f         f         f         f\n",
              "hypopituitary                     f         f         f         f         f\n",
              "psych                             f         f         f         f         f\n",
              "TSH_measured                      t         t         t         t         t\n",
              "TSH                             1.3       4.1      0.98      0.16      0.72\n",
              "T3_measured                       t         t         f         t         t\n",
              "T3                              2.5         2         ?       1.9       1.2\n",
              "TT4_measured                      t         t         t         t         t\n",
              "TT4                             125       102       109       175        61\n",
              "T4U_measured                      t         f         t         f         t\n",
              "T4U                            1.14         ?      0.91         ?      0.87\n",
              "FTI_measured                      t         f         t         f         t\n",
              "FTI                             109         ?       120         ?        70\n",
              "referral_source                SVHC     other     other     other       SVI\n",
              "Class                      negative  negative  negative  negative  negative"
            ]
          },
          "metadata": {
            "tags": []
          },
          "execution_count": 19
        }
      ]
    },
    {
      "cell_type": "markdown",
      "metadata": {
        "id": "_C4NJ3C19jt8"
      },
      "source": [
        "'?' стало значительно меньше. Но с ними неудобно работать. Сделаем замену \"?\" на NaN."
      ]
    },
    {
      "cell_type": "code",
      "metadata": {
        "id": "E4JhoJVw9jt8"
      },
      "source": [
        "df.replace(to_replace='?', value = np.NaN, inplace = True)"
      ],
      "execution_count": null,
      "outputs": []
    },
    {
      "cell_type": "markdown",
      "metadata": {
        "id": "D52tYJJo9jt-"
      },
      "source": [
        "Вот теперь, когда убрали совсем все явно лишнее, посмотрим, как ведут себя наши переменные. Отметим, что оставшиеся NaNы будут заполнены в дальнейшем с помощью недавно освоенного алгоритма KNN."
      ]
    },
    {
      "cell_type": "markdown",
      "metadata": {
        "id": "Z_YV7Bnq9jt_"
      },
      "source": [
        "Теперь хочется посмотреть на какие-нибудь распределения фичей."
      ]
    },
    {
      "cell_type": "code",
      "metadata": {
        "id": "hiuXt4oK9jt_",
        "colab": {
          "base_uri": "https://localhost:8080/"
        },
        "outputId": "6e3dfe9c-1f37-406a-b77d-43db5ef5dfd9"
      },
      "source": [
        "df.shape"
      ],
      "execution_count": null,
      "outputs": [
        {
          "output_type": "execute_result",
          "data": {
            "text/plain": [
              "(3772, 28)"
            ]
          },
          "metadata": {
            "tags": []
          },
          "execution_count": 22
        }
      ]
    },
    {
      "cell_type": "code",
      "metadata": {
        "id": "1_UAz0mv9juB",
        "colab": {
          "base_uri": "https://localhost:8080/"
        },
        "outputId": "22ce6087-6c01-445d-c83e-910a27004696"
      },
      "source": [
        "count_value(df)"
      ],
      "execution_count": null,
      "outputs": [
        {
          "output_type": "stream",
          "text": [
            "age\n",
            "59     95\n",
            "60     91\n",
            "70     90\n",
            "73     81\n",
            "55     81\n",
            "       ..\n",
            "4       1\n",
            "10      1\n",
            "455     1\n",
            "6       1\n",
            "5       1\n",
            "Name: age, Length: 93, dtype: int64\n",
            "\n",
            "sex\n",
            "F    2480\n",
            "M    1142\n",
            "Name: sex, dtype: int64\n",
            "\n",
            "on_thyroxine\n",
            "f    3308\n",
            "t     464\n",
            "Name: on_thyroxine, dtype: int64\n",
            "\n",
            "query_on_thyroxine\n",
            "f    3722\n",
            "t      50\n",
            "Name: query_on_thyroxine, dtype: int64\n",
            "\n",
            "on_antithyroid_medication\n",
            "f    3729\n",
            "t      43\n",
            "Name: on_antithyroid_medication, dtype: int64\n",
            "\n",
            "sick\n",
            "f    3625\n",
            "t     147\n",
            "Name: sick, dtype: int64\n",
            "\n",
            "pregnant\n",
            "f    3719\n",
            "t      53\n",
            "Name: pregnant, dtype: int64\n",
            "\n",
            "thyroid_surgery\n",
            "f    3719\n",
            "t      53\n",
            "Name: thyroid_surgery, dtype: int64\n",
            "\n",
            "I131_treatment\n",
            "f    3713\n",
            "t      59\n",
            "Name: I131_treatment, dtype: int64\n",
            "\n",
            "query_hypothyroid\n",
            "f    3538\n",
            "t     234\n",
            "Name: query_hypothyroid, dtype: int64\n",
            "\n",
            "query_hyperthyroid\n",
            "f    3535\n",
            "t     237\n",
            "Name: query_hyperthyroid, dtype: int64\n",
            "\n",
            "lithium\n",
            "f    3754\n",
            "t      18\n",
            "Name: lithium, dtype: int64\n",
            "\n",
            "goitre\n",
            "f    3738\n",
            "t      34\n",
            "Name: goitre, dtype: int64\n",
            "\n",
            "tumor\n",
            "f    3676\n",
            "t      96\n",
            "Name: tumor, dtype: int64\n",
            "\n",
            "hypopituitary\n",
            "f    3771\n",
            "t       1\n",
            "Name: hypopituitary, dtype: int64\n",
            "\n",
            "psych\n",
            "f    3588\n",
            "t     184\n",
            "Name: psych, dtype: int64\n",
            "\n",
            "TSH_measured\n",
            "t    3403\n",
            "f     369\n",
            "Name: TSH_measured, dtype: int64\n",
            "\n",
            "TSH\n",
            "0.2     116\n",
            "1.3     105\n",
            "1.1      97\n",
            "1.4      91\n",
            "1.5      80\n",
            "       ... \n",
            "78        1\n",
            "14.4      1\n",
            "5.73      1\n",
            "530       1\n",
            "12.1      1\n",
            "Name: TSH, Length: 287, dtype: int64\n",
            "\n",
            "T3_measured\n",
            "t    3003\n",
            "f     769\n",
            "Name: T3_measured, dtype: int64\n",
            "\n",
            "T3\n",
            "2       238\n",
            "1.8     207\n",
            "2.2     201\n",
            "1.9     189\n",
            "2.1     184\n",
            "       ... \n",
            "10.6      1\n",
            "6         1\n",
            "6.2       1\n",
            "5.2       1\n",
            "8.5       1\n",
            "Name: T3, Length: 69, dtype: int64\n",
            "\n",
            "TT4_measured\n",
            "t    3541\n",
            "f     231\n",
            "Name: TT4_measured, dtype: int64\n",
            "\n",
            "TT4\n",
            "101    71\n",
            "93     67\n",
            "103    63\n",
            "98     63\n",
            "87     59\n",
            "       ..\n",
            "34      1\n",
            "217     1\n",
            "258     1\n",
            "55      1\n",
            "4.8     1\n",
            "Name: TT4, Length: 241, dtype: int64\n",
            "\n",
            "T4U_measured\n",
            "t    3385\n",
            "f     387\n",
            "Name: T4U_measured, dtype: int64\n",
            "\n",
            "T4U\n",
            "0.99     95\n",
            "0.9      93\n",
            "1.01     91\n",
            "1        90\n",
            "0.92     89\n",
            "         ..\n",
            "1.93      1\n",
            "0.47      1\n",
            "2.03      1\n",
            "2.01      1\n",
            "0.944     1\n",
            "Name: T4U, Length: 146, dtype: int64\n",
            "\n",
            "FTI_measured\n",
            "t    3387\n",
            "f     385\n",
            "Name: FTI_measured, dtype: int64\n",
            "\n",
            "FTI\n",
            "100    73\n",
            "93     70\n",
            "114    65\n",
            "107    64\n",
            "98     64\n",
            "       ..\n",
            "291     1\n",
            "280     1\n",
            "265     1\n",
            "242     1\n",
            "312     1\n",
            "Name: FTI, Length: 234, dtype: int64\n",
            "\n",
            "referral_source\n",
            "other    2201\n",
            "SVI      1034\n",
            "SVHC      386\n",
            "STMW      112\n",
            "SVHD       39\n",
            "Name: referral_source, dtype: int64\n",
            "\n",
            "Class\n",
            "negative                   3481\n",
            "compensated_hypothyroid     194\n",
            "primary_hypothyroid          95\n",
            "secondary_hypothyroid         2\n",
            "Name: Class, dtype: int64\n",
            "\n"
          ],
          "name": "stdout"
        }
      ]
    },
    {
      "cell_type": "code",
      "metadata": {
        "id": "1UtXhXaZ9juD"
      },
      "source": [
        "a = []\n",
        "c = []\n",
        "for column in df.columns:\n",
        "    \n",
        "    b = len(df[column].unique())\n",
        "    a.append(b)\n",
        "    \n",
        "    d = df[column].isna().sum()\n",
        "    c.append(d)"
      ],
      "execution_count": null,
      "outputs": []
    },
    {
      "cell_type": "code",
      "metadata": {
        "id": "OHXbtwvV9juF",
        "colab": {
          "base_uri": "https://localhost:8080/",
          "height": 917
        },
        "outputId": "d9deec97-44aa-4036-cf1a-fa2cb1343589"
      },
      "source": [
        "sf = pd.DataFrame({\"Column\": df.columns, \"Unique\": a, 'Nan': c})\n",
        "sf"
      ],
      "execution_count": null,
      "outputs": [
        {
          "output_type": "execute_result",
          "data": {
            "text/html": [
              "<div>\n",
              "<style scoped>\n",
              "    .dataframe tbody tr th:only-of-type {\n",
              "        vertical-align: middle;\n",
              "    }\n",
              "\n",
              "    .dataframe tbody tr th {\n",
              "        vertical-align: top;\n",
              "    }\n",
              "\n",
              "    .dataframe thead th {\n",
              "        text-align: right;\n",
              "    }\n",
              "</style>\n",
              "<table border=\"1\" class=\"dataframe\">\n",
              "  <thead>\n",
              "    <tr style=\"text-align: right;\">\n",
              "      <th></th>\n",
              "      <th>Column</th>\n",
              "      <th>Unique</th>\n",
              "      <th>Nan</th>\n",
              "    </tr>\n",
              "  </thead>\n",
              "  <tbody>\n",
              "    <tr>\n",
              "      <th>0</th>\n",
              "      <td>age</td>\n",
              "      <td>94</td>\n",
              "      <td>1</td>\n",
              "    </tr>\n",
              "    <tr>\n",
              "      <th>1</th>\n",
              "      <td>sex</td>\n",
              "      <td>3</td>\n",
              "      <td>150</td>\n",
              "    </tr>\n",
              "    <tr>\n",
              "      <th>2</th>\n",
              "      <td>on_thyroxine</td>\n",
              "      <td>2</td>\n",
              "      <td>0</td>\n",
              "    </tr>\n",
              "    <tr>\n",
              "      <th>3</th>\n",
              "      <td>query_on_thyroxine</td>\n",
              "      <td>2</td>\n",
              "      <td>0</td>\n",
              "    </tr>\n",
              "    <tr>\n",
              "      <th>4</th>\n",
              "      <td>on_antithyroid_medication</td>\n",
              "      <td>2</td>\n",
              "      <td>0</td>\n",
              "    </tr>\n",
              "    <tr>\n",
              "      <th>5</th>\n",
              "      <td>sick</td>\n",
              "      <td>2</td>\n",
              "      <td>0</td>\n",
              "    </tr>\n",
              "    <tr>\n",
              "      <th>6</th>\n",
              "      <td>pregnant</td>\n",
              "      <td>2</td>\n",
              "      <td>0</td>\n",
              "    </tr>\n",
              "    <tr>\n",
              "      <th>7</th>\n",
              "      <td>thyroid_surgery</td>\n",
              "      <td>2</td>\n",
              "      <td>0</td>\n",
              "    </tr>\n",
              "    <tr>\n",
              "      <th>8</th>\n",
              "      <td>I131_treatment</td>\n",
              "      <td>2</td>\n",
              "      <td>0</td>\n",
              "    </tr>\n",
              "    <tr>\n",
              "      <th>9</th>\n",
              "      <td>query_hypothyroid</td>\n",
              "      <td>2</td>\n",
              "      <td>0</td>\n",
              "    </tr>\n",
              "    <tr>\n",
              "      <th>10</th>\n",
              "      <td>query_hyperthyroid</td>\n",
              "      <td>2</td>\n",
              "      <td>0</td>\n",
              "    </tr>\n",
              "    <tr>\n",
              "      <th>11</th>\n",
              "      <td>lithium</td>\n",
              "      <td>2</td>\n",
              "      <td>0</td>\n",
              "    </tr>\n",
              "    <tr>\n",
              "      <th>12</th>\n",
              "      <td>goitre</td>\n",
              "      <td>2</td>\n",
              "      <td>0</td>\n",
              "    </tr>\n",
              "    <tr>\n",
              "      <th>13</th>\n",
              "      <td>tumor</td>\n",
              "      <td>2</td>\n",
              "      <td>0</td>\n",
              "    </tr>\n",
              "    <tr>\n",
              "      <th>14</th>\n",
              "      <td>hypopituitary</td>\n",
              "      <td>2</td>\n",
              "      <td>0</td>\n",
              "    </tr>\n",
              "    <tr>\n",
              "      <th>15</th>\n",
              "      <td>psych</td>\n",
              "      <td>2</td>\n",
              "      <td>0</td>\n",
              "    </tr>\n",
              "    <tr>\n",
              "      <th>16</th>\n",
              "      <td>TSH_measured</td>\n",
              "      <td>2</td>\n",
              "      <td>0</td>\n",
              "    </tr>\n",
              "    <tr>\n",
              "      <th>17</th>\n",
              "      <td>TSH</td>\n",
              "      <td>288</td>\n",
              "      <td>369</td>\n",
              "    </tr>\n",
              "    <tr>\n",
              "      <th>18</th>\n",
              "      <td>T3_measured</td>\n",
              "      <td>2</td>\n",
              "      <td>0</td>\n",
              "    </tr>\n",
              "    <tr>\n",
              "      <th>19</th>\n",
              "      <td>T3</td>\n",
              "      <td>70</td>\n",
              "      <td>769</td>\n",
              "    </tr>\n",
              "    <tr>\n",
              "      <th>20</th>\n",
              "      <td>TT4_measured</td>\n",
              "      <td>2</td>\n",
              "      <td>0</td>\n",
              "    </tr>\n",
              "    <tr>\n",
              "      <th>21</th>\n",
              "      <td>TT4</td>\n",
              "      <td>242</td>\n",
              "      <td>231</td>\n",
              "    </tr>\n",
              "    <tr>\n",
              "      <th>22</th>\n",
              "      <td>T4U_measured</td>\n",
              "      <td>2</td>\n",
              "      <td>0</td>\n",
              "    </tr>\n",
              "    <tr>\n",
              "      <th>23</th>\n",
              "      <td>T4U</td>\n",
              "      <td>147</td>\n",
              "      <td>387</td>\n",
              "    </tr>\n",
              "    <tr>\n",
              "      <th>24</th>\n",
              "      <td>FTI_measured</td>\n",
              "      <td>2</td>\n",
              "      <td>0</td>\n",
              "    </tr>\n",
              "    <tr>\n",
              "      <th>25</th>\n",
              "      <td>FTI</td>\n",
              "      <td>235</td>\n",
              "      <td>385</td>\n",
              "    </tr>\n",
              "    <tr>\n",
              "      <th>26</th>\n",
              "      <td>referral_source</td>\n",
              "      <td>5</td>\n",
              "      <td>0</td>\n",
              "    </tr>\n",
              "    <tr>\n",
              "      <th>27</th>\n",
              "      <td>Class</td>\n",
              "      <td>4</td>\n",
              "      <td>0</td>\n",
              "    </tr>\n",
              "  </tbody>\n",
              "</table>\n",
              "</div>"
            ],
            "text/plain": [
              "                       Column  Unique  Nan\n",
              "0                         age      94    1\n",
              "1                         sex       3  150\n",
              "2                on_thyroxine       2    0\n",
              "3          query_on_thyroxine       2    0\n",
              "4   on_antithyroid_medication       2    0\n",
              "5                        sick       2    0\n",
              "6                    pregnant       2    0\n",
              "7             thyroid_surgery       2    0\n",
              "8              I131_treatment       2    0\n",
              "9           query_hypothyroid       2    0\n",
              "10         query_hyperthyroid       2    0\n",
              "11                    lithium       2    0\n",
              "12                     goitre       2    0\n",
              "13                      tumor       2    0\n",
              "14              hypopituitary       2    0\n",
              "15                      psych       2    0\n",
              "16               TSH_measured       2    0\n",
              "17                        TSH     288  369\n",
              "18                T3_measured       2    0\n",
              "19                         T3      70  769\n",
              "20               TT4_measured       2    0\n",
              "21                        TT4     242  231\n",
              "22               T4U_measured       2    0\n",
              "23                        T4U     147  387\n",
              "24               FTI_measured       2    0\n",
              "25                        FTI     235  385\n",
              "26            referral_source       5    0\n",
              "27                      Class       4    0"
            ]
          },
          "metadata": {
            "tags": []
          },
          "execution_count": 25
        }
      ]
    },
    {
      "cell_type": "markdown",
      "metadata": {
        "id": "lvaVEQvu9juH"
      },
      "source": [
        "Теперь внимательно смотрим две имеющиеся таблицы, и пытаемся понять, что будем делать дальше.\n",
        "\n",
        "У нас в переменной \"Class\" одно из значений встречается лишь дважды.\n",
        "\n",
        "Class\n",
        "\n",
        "negative                   3302\n",
        "\n",
        "compensated_hypothyroid     194\n",
        "\n",
        "primary_hypothyroid          95\n",
        "\n",
        "secondary_hypothyroid         2\n",
        "\n",
        "Отметим, что имею лишь два объекта, сделать предсказание очень сложно. Так как для этого нам требуется провести разбиение на train и test со стратификацией, а так же сделать кросс валидацию, следовательно мы просто не сможем предсказывать данный класс. Удалим строчки с данными значениями.\n",
        "\n",
        "А в еще одной фиче все значения, кроме одного - f.  \n",
        "\n",
        "hypopituitary\n",
        "\n",
        "f    3592\n",
        "\n",
        "t       1\n",
        "\n",
        "Ситуация аналогична уже рассмотренной. Можно вообще удалить этот столбец."
      ]
    },
    {
      "cell_type": "code",
      "metadata": {
        "id": "GALQdMf39juH"
      },
      "source": [
        "df = df.loc[df.Class != 'secondary_hypothyroid']\n",
        "df.drop(columns=['hypopituitary'],inplace=True)"
      ],
      "execution_count": null,
      "outputs": []
    },
    {
      "cell_type": "markdown",
      "metadata": {
        "id": "mKlzjYnJ9juK"
      },
      "source": [
        "Удалим строку 'hypopituitary' и из sf."
      ]
    },
    {
      "cell_type": "code",
      "metadata": {
        "id": "IVPqRayG9juK",
        "colab": {
          "base_uri": "https://localhost:8080/",
          "height": 886
        },
        "outputId": "fcd32109-6f86-4098-b8a7-bda227ad64af"
      },
      "source": [
        "sf.drop([14], inplace=True)\n",
        "sf.reset_index(drop = True, inplace = True)\n",
        "sf"
      ],
      "execution_count": null,
      "outputs": [
        {
          "output_type": "execute_result",
          "data": {
            "text/html": [
              "<div>\n",
              "<style scoped>\n",
              "    .dataframe tbody tr th:only-of-type {\n",
              "        vertical-align: middle;\n",
              "    }\n",
              "\n",
              "    .dataframe tbody tr th {\n",
              "        vertical-align: top;\n",
              "    }\n",
              "\n",
              "    .dataframe thead th {\n",
              "        text-align: right;\n",
              "    }\n",
              "</style>\n",
              "<table border=\"1\" class=\"dataframe\">\n",
              "  <thead>\n",
              "    <tr style=\"text-align: right;\">\n",
              "      <th></th>\n",
              "      <th>Column</th>\n",
              "      <th>Unique</th>\n",
              "      <th>Nan</th>\n",
              "    </tr>\n",
              "  </thead>\n",
              "  <tbody>\n",
              "    <tr>\n",
              "      <th>0</th>\n",
              "      <td>age</td>\n",
              "      <td>94</td>\n",
              "      <td>1</td>\n",
              "    </tr>\n",
              "    <tr>\n",
              "      <th>1</th>\n",
              "      <td>sex</td>\n",
              "      <td>3</td>\n",
              "      <td>150</td>\n",
              "    </tr>\n",
              "    <tr>\n",
              "      <th>2</th>\n",
              "      <td>on_thyroxine</td>\n",
              "      <td>2</td>\n",
              "      <td>0</td>\n",
              "    </tr>\n",
              "    <tr>\n",
              "      <th>3</th>\n",
              "      <td>query_on_thyroxine</td>\n",
              "      <td>2</td>\n",
              "      <td>0</td>\n",
              "    </tr>\n",
              "    <tr>\n",
              "      <th>4</th>\n",
              "      <td>on_antithyroid_medication</td>\n",
              "      <td>2</td>\n",
              "      <td>0</td>\n",
              "    </tr>\n",
              "    <tr>\n",
              "      <th>5</th>\n",
              "      <td>sick</td>\n",
              "      <td>2</td>\n",
              "      <td>0</td>\n",
              "    </tr>\n",
              "    <tr>\n",
              "      <th>6</th>\n",
              "      <td>pregnant</td>\n",
              "      <td>2</td>\n",
              "      <td>0</td>\n",
              "    </tr>\n",
              "    <tr>\n",
              "      <th>7</th>\n",
              "      <td>thyroid_surgery</td>\n",
              "      <td>2</td>\n",
              "      <td>0</td>\n",
              "    </tr>\n",
              "    <tr>\n",
              "      <th>8</th>\n",
              "      <td>I131_treatment</td>\n",
              "      <td>2</td>\n",
              "      <td>0</td>\n",
              "    </tr>\n",
              "    <tr>\n",
              "      <th>9</th>\n",
              "      <td>query_hypothyroid</td>\n",
              "      <td>2</td>\n",
              "      <td>0</td>\n",
              "    </tr>\n",
              "    <tr>\n",
              "      <th>10</th>\n",
              "      <td>query_hyperthyroid</td>\n",
              "      <td>2</td>\n",
              "      <td>0</td>\n",
              "    </tr>\n",
              "    <tr>\n",
              "      <th>11</th>\n",
              "      <td>lithium</td>\n",
              "      <td>2</td>\n",
              "      <td>0</td>\n",
              "    </tr>\n",
              "    <tr>\n",
              "      <th>12</th>\n",
              "      <td>goitre</td>\n",
              "      <td>2</td>\n",
              "      <td>0</td>\n",
              "    </tr>\n",
              "    <tr>\n",
              "      <th>13</th>\n",
              "      <td>tumor</td>\n",
              "      <td>2</td>\n",
              "      <td>0</td>\n",
              "    </tr>\n",
              "    <tr>\n",
              "      <th>14</th>\n",
              "      <td>psych</td>\n",
              "      <td>2</td>\n",
              "      <td>0</td>\n",
              "    </tr>\n",
              "    <tr>\n",
              "      <th>15</th>\n",
              "      <td>TSH_measured</td>\n",
              "      <td>2</td>\n",
              "      <td>0</td>\n",
              "    </tr>\n",
              "    <tr>\n",
              "      <th>16</th>\n",
              "      <td>TSH</td>\n",
              "      <td>288</td>\n",
              "      <td>369</td>\n",
              "    </tr>\n",
              "    <tr>\n",
              "      <th>17</th>\n",
              "      <td>T3_measured</td>\n",
              "      <td>2</td>\n",
              "      <td>0</td>\n",
              "    </tr>\n",
              "    <tr>\n",
              "      <th>18</th>\n",
              "      <td>T3</td>\n",
              "      <td>70</td>\n",
              "      <td>769</td>\n",
              "    </tr>\n",
              "    <tr>\n",
              "      <th>19</th>\n",
              "      <td>TT4_measured</td>\n",
              "      <td>2</td>\n",
              "      <td>0</td>\n",
              "    </tr>\n",
              "    <tr>\n",
              "      <th>20</th>\n",
              "      <td>TT4</td>\n",
              "      <td>242</td>\n",
              "      <td>231</td>\n",
              "    </tr>\n",
              "    <tr>\n",
              "      <th>21</th>\n",
              "      <td>T4U_measured</td>\n",
              "      <td>2</td>\n",
              "      <td>0</td>\n",
              "    </tr>\n",
              "    <tr>\n",
              "      <th>22</th>\n",
              "      <td>T4U</td>\n",
              "      <td>147</td>\n",
              "      <td>387</td>\n",
              "    </tr>\n",
              "    <tr>\n",
              "      <th>23</th>\n",
              "      <td>FTI_measured</td>\n",
              "      <td>2</td>\n",
              "      <td>0</td>\n",
              "    </tr>\n",
              "    <tr>\n",
              "      <th>24</th>\n",
              "      <td>FTI</td>\n",
              "      <td>235</td>\n",
              "      <td>385</td>\n",
              "    </tr>\n",
              "    <tr>\n",
              "      <th>25</th>\n",
              "      <td>referral_source</td>\n",
              "      <td>5</td>\n",
              "      <td>0</td>\n",
              "    </tr>\n",
              "    <tr>\n",
              "      <th>26</th>\n",
              "      <td>Class</td>\n",
              "      <td>4</td>\n",
              "      <td>0</td>\n",
              "    </tr>\n",
              "  </tbody>\n",
              "</table>\n",
              "</div>"
            ],
            "text/plain": [
              "                       Column  Unique  Nan\n",
              "0                         age      94    1\n",
              "1                         sex       3  150\n",
              "2                on_thyroxine       2    0\n",
              "3          query_on_thyroxine       2    0\n",
              "4   on_antithyroid_medication       2    0\n",
              "5                        sick       2    0\n",
              "6                    pregnant       2    0\n",
              "7             thyroid_surgery       2    0\n",
              "8              I131_treatment       2    0\n",
              "9           query_hypothyroid       2    0\n",
              "10         query_hyperthyroid       2    0\n",
              "11                    lithium       2    0\n",
              "12                     goitre       2    0\n",
              "13                      tumor       2    0\n",
              "14                      psych       2    0\n",
              "15               TSH_measured       2    0\n",
              "16                        TSH     288  369\n",
              "17                T3_measured       2    0\n",
              "18                         T3      70  769\n",
              "19               TT4_measured       2    0\n",
              "20                        TT4     242  231\n",
              "21               T4U_measured       2    0\n",
              "22                        T4U     147  387\n",
              "23               FTI_measured       2    0\n",
              "24                        FTI     235  385\n",
              "25            referral_source       5    0\n",
              "26                      Class       4    0"
            ]
          },
          "metadata": {
            "tags": []
          },
          "execution_count": 27
        }
      ]
    },
    {
      "cell_type": "markdown",
      "metadata": {
        "id": "K3ItGr_b9juM"
      },
      "source": [
        "#### Categorical encoding"
      ]
    },
    {
      "cell_type": "code",
      "metadata": {
        "id": "vJ7msbpY9juM",
        "colab": {
          "base_uri": "https://localhost:8080/"
        },
        "outputId": "d8e9a3b6-f0be-448c-97e1-ee101734ca93"
      },
      "source": [
        "sf [sf.Unique == 2]['Column'].unique()"
      ],
      "execution_count": null,
      "outputs": [
        {
          "output_type": "execute_result",
          "data": {
            "text/plain": [
              "array(['on_thyroxine', 'query_on_thyroxine', 'on_antithyroid_medication',\n",
              "       'sick', 'pregnant', 'thyroid_surgery', 'I131_treatment',\n",
              "       'query_hypothyroid', 'query_hyperthyroid', 'lithium', 'goitre',\n",
              "       'tumor', 'psych', 'TSH_measured', 'T3_measured', 'TT4_measured',\n",
              "       'T4U_measured', 'FTI_measured'], dtype=object)"
            ]
          },
          "metadata": {
            "tags": []
          },
          "execution_count": 28
        }
      ]
    },
    {
      "cell_type": "markdown",
      "metadata": {
        "id": "WFwIaf109juO"
      },
      "source": [
        "В колонках с двумя вариантами ответа ('f' и 't') проведем бинарную замену."
      ]
    },
    {
      "cell_type": "code",
      "metadata": {
        "id": "Pq2Op3Tf9juP"
      },
      "source": [
        "for column in sf [sf.Unique == 2]['Column'].unique():\n",
        "    df[column].replace({'f': 0, 't': 1}, inplace = True)"
      ],
      "execution_count": null,
      "outputs": []
    },
    {
      "cell_type": "code",
      "metadata": {
        "id": "1r1vELPJ9juR",
        "colab": {
          "base_uri": "https://localhost:8080/",
          "height": 886
        },
        "outputId": "a504840b-775d-4c68-9b34-ad3af9ce850f"
      },
      "source": [
        "df.head(5).T"
      ],
      "execution_count": null,
      "outputs": [
        {
          "output_type": "execute_result",
          "data": {
            "text/html": [
              "<div>\n",
              "<style scoped>\n",
              "    .dataframe tbody tr th:only-of-type {\n",
              "        vertical-align: middle;\n",
              "    }\n",
              "\n",
              "    .dataframe tbody tr th {\n",
              "        vertical-align: top;\n",
              "    }\n",
              "\n",
              "    .dataframe thead th {\n",
              "        text-align: right;\n",
              "    }\n",
              "</style>\n",
              "<table border=\"1\" class=\"dataframe\">\n",
              "  <thead>\n",
              "    <tr style=\"text-align: right;\">\n",
              "      <th></th>\n",
              "      <th>0</th>\n",
              "      <th>1</th>\n",
              "      <th>2</th>\n",
              "      <th>3</th>\n",
              "      <th>4</th>\n",
              "    </tr>\n",
              "  </thead>\n",
              "  <tbody>\n",
              "    <tr>\n",
              "      <th>age</th>\n",
              "      <td>41</td>\n",
              "      <td>23</td>\n",
              "      <td>46</td>\n",
              "      <td>70</td>\n",
              "      <td>70</td>\n",
              "    </tr>\n",
              "    <tr>\n",
              "      <th>sex</th>\n",
              "      <td>F</td>\n",
              "      <td>F</td>\n",
              "      <td>M</td>\n",
              "      <td>F</td>\n",
              "      <td>F</td>\n",
              "    </tr>\n",
              "    <tr>\n",
              "      <th>on_thyroxine</th>\n",
              "      <td>0</td>\n",
              "      <td>0</td>\n",
              "      <td>0</td>\n",
              "      <td>1</td>\n",
              "      <td>0</td>\n",
              "    </tr>\n",
              "    <tr>\n",
              "      <th>query_on_thyroxine</th>\n",
              "      <td>0</td>\n",
              "      <td>0</td>\n",
              "      <td>0</td>\n",
              "      <td>0</td>\n",
              "      <td>0</td>\n",
              "    </tr>\n",
              "    <tr>\n",
              "      <th>on_antithyroid_medication</th>\n",
              "      <td>0</td>\n",
              "      <td>0</td>\n",
              "      <td>0</td>\n",
              "      <td>0</td>\n",
              "      <td>0</td>\n",
              "    </tr>\n",
              "    <tr>\n",
              "      <th>sick</th>\n",
              "      <td>0</td>\n",
              "      <td>0</td>\n",
              "      <td>0</td>\n",
              "      <td>0</td>\n",
              "      <td>0</td>\n",
              "    </tr>\n",
              "    <tr>\n",
              "      <th>pregnant</th>\n",
              "      <td>0</td>\n",
              "      <td>0</td>\n",
              "      <td>0</td>\n",
              "      <td>0</td>\n",
              "      <td>0</td>\n",
              "    </tr>\n",
              "    <tr>\n",
              "      <th>thyroid_surgery</th>\n",
              "      <td>0</td>\n",
              "      <td>0</td>\n",
              "      <td>0</td>\n",
              "      <td>0</td>\n",
              "      <td>0</td>\n",
              "    </tr>\n",
              "    <tr>\n",
              "      <th>I131_treatment</th>\n",
              "      <td>0</td>\n",
              "      <td>0</td>\n",
              "      <td>0</td>\n",
              "      <td>0</td>\n",
              "      <td>0</td>\n",
              "    </tr>\n",
              "    <tr>\n",
              "      <th>query_hypothyroid</th>\n",
              "      <td>0</td>\n",
              "      <td>0</td>\n",
              "      <td>0</td>\n",
              "      <td>0</td>\n",
              "      <td>0</td>\n",
              "    </tr>\n",
              "    <tr>\n",
              "      <th>query_hyperthyroid</th>\n",
              "      <td>0</td>\n",
              "      <td>0</td>\n",
              "      <td>0</td>\n",
              "      <td>0</td>\n",
              "      <td>0</td>\n",
              "    </tr>\n",
              "    <tr>\n",
              "      <th>lithium</th>\n",
              "      <td>0</td>\n",
              "      <td>0</td>\n",
              "      <td>0</td>\n",
              "      <td>0</td>\n",
              "      <td>0</td>\n",
              "    </tr>\n",
              "    <tr>\n",
              "      <th>goitre</th>\n",
              "      <td>0</td>\n",
              "      <td>0</td>\n",
              "      <td>0</td>\n",
              "      <td>0</td>\n",
              "      <td>0</td>\n",
              "    </tr>\n",
              "    <tr>\n",
              "      <th>tumor</th>\n",
              "      <td>0</td>\n",
              "      <td>0</td>\n",
              "      <td>0</td>\n",
              "      <td>0</td>\n",
              "      <td>0</td>\n",
              "    </tr>\n",
              "    <tr>\n",
              "      <th>psych</th>\n",
              "      <td>0</td>\n",
              "      <td>0</td>\n",
              "      <td>0</td>\n",
              "      <td>0</td>\n",
              "      <td>0</td>\n",
              "    </tr>\n",
              "    <tr>\n",
              "      <th>TSH_measured</th>\n",
              "      <td>1</td>\n",
              "      <td>1</td>\n",
              "      <td>1</td>\n",
              "      <td>1</td>\n",
              "      <td>1</td>\n",
              "    </tr>\n",
              "    <tr>\n",
              "      <th>TSH</th>\n",
              "      <td>1.3</td>\n",
              "      <td>4.1</td>\n",
              "      <td>0.98</td>\n",
              "      <td>0.16</td>\n",
              "      <td>0.72</td>\n",
              "    </tr>\n",
              "    <tr>\n",
              "      <th>T3_measured</th>\n",
              "      <td>1</td>\n",
              "      <td>1</td>\n",
              "      <td>0</td>\n",
              "      <td>1</td>\n",
              "      <td>1</td>\n",
              "    </tr>\n",
              "    <tr>\n",
              "      <th>T3</th>\n",
              "      <td>2.5</td>\n",
              "      <td>2</td>\n",
              "      <td>NaN</td>\n",
              "      <td>1.9</td>\n",
              "      <td>1.2</td>\n",
              "    </tr>\n",
              "    <tr>\n",
              "      <th>TT4_measured</th>\n",
              "      <td>1</td>\n",
              "      <td>1</td>\n",
              "      <td>1</td>\n",
              "      <td>1</td>\n",
              "      <td>1</td>\n",
              "    </tr>\n",
              "    <tr>\n",
              "      <th>TT4</th>\n",
              "      <td>125</td>\n",
              "      <td>102</td>\n",
              "      <td>109</td>\n",
              "      <td>175</td>\n",
              "      <td>61</td>\n",
              "    </tr>\n",
              "    <tr>\n",
              "      <th>T4U_measured</th>\n",
              "      <td>1</td>\n",
              "      <td>0</td>\n",
              "      <td>1</td>\n",
              "      <td>0</td>\n",
              "      <td>1</td>\n",
              "    </tr>\n",
              "    <tr>\n",
              "      <th>T4U</th>\n",
              "      <td>1.14</td>\n",
              "      <td>NaN</td>\n",
              "      <td>0.91</td>\n",
              "      <td>NaN</td>\n",
              "      <td>0.87</td>\n",
              "    </tr>\n",
              "    <tr>\n",
              "      <th>FTI_measured</th>\n",
              "      <td>1</td>\n",
              "      <td>0</td>\n",
              "      <td>1</td>\n",
              "      <td>0</td>\n",
              "      <td>1</td>\n",
              "    </tr>\n",
              "    <tr>\n",
              "      <th>FTI</th>\n",
              "      <td>109</td>\n",
              "      <td>NaN</td>\n",
              "      <td>120</td>\n",
              "      <td>NaN</td>\n",
              "      <td>70</td>\n",
              "    </tr>\n",
              "    <tr>\n",
              "      <th>referral_source</th>\n",
              "      <td>SVHC</td>\n",
              "      <td>other</td>\n",
              "      <td>other</td>\n",
              "      <td>other</td>\n",
              "      <td>SVI</td>\n",
              "    </tr>\n",
              "    <tr>\n",
              "      <th>Class</th>\n",
              "      <td>negative</td>\n",
              "      <td>negative</td>\n",
              "      <td>negative</td>\n",
              "      <td>negative</td>\n",
              "      <td>negative</td>\n",
              "    </tr>\n",
              "  </tbody>\n",
              "</table>\n",
              "</div>"
            ],
            "text/plain": [
              "                                  0         1         2         3         4\n",
              "age                              41        23        46        70        70\n",
              "sex                               F         F         M         F         F\n",
              "on_thyroxine                      0         0         0         1         0\n",
              "query_on_thyroxine                0         0         0         0         0\n",
              "on_antithyroid_medication         0         0         0         0         0\n",
              "sick                              0         0         0         0         0\n",
              "pregnant                          0         0         0         0         0\n",
              "thyroid_surgery                   0         0         0         0         0\n",
              "I131_treatment                    0         0         0         0         0\n",
              "query_hypothyroid                 0         0         0         0         0\n",
              "query_hyperthyroid                0         0         0         0         0\n",
              "lithium                           0         0         0         0         0\n",
              "goitre                            0         0         0         0         0\n",
              "tumor                             0         0         0         0         0\n",
              "psych                             0         0         0         0         0\n",
              "TSH_measured                      1         1         1         1         1\n",
              "TSH                             1.3       4.1      0.98      0.16      0.72\n",
              "T3_measured                       1         1         0         1         1\n",
              "T3                              2.5         2       NaN       1.9       1.2\n",
              "TT4_measured                      1         1         1         1         1\n",
              "TT4                             125       102       109       175        61\n",
              "T4U_measured                      1         0         1         0         1\n",
              "T4U                            1.14       NaN      0.91       NaN      0.87\n",
              "FTI_measured                      1         0         1         0         1\n",
              "FTI                             109       NaN       120       NaN        70\n",
              "referral_source                SVHC     other     other     other       SVI\n",
              "Class                      negative  negative  negative  negative  negative"
            ]
          },
          "metadata": {
            "tags": []
          },
          "execution_count": 30
        }
      ]
    },
    {
      "cell_type": "markdown",
      "metadata": {
        "id": "phw8SlfJ9juS"
      },
      "source": [
        "В колонках с тремя вариантами ответа, один из которых NaN, проведем бинарную замену."
      ]
    },
    {
      "cell_type": "code",
      "metadata": {
        "id": "9ZauzAxi9juT",
        "colab": {
          "base_uri": "https://localhost:8080/",
          "height": 80
        },
        "outputId": "9e48b354-d913-47cb-b665-4063dd7f005b"
      },
      "source": [
        "sf [(sf.Unique == 3) & (sf.Nan > 0)]"
      ],
      "execution_count": null,
      "outputs": [
        {
          "output_type": "execute_result",
          "data": {
            "text/html": [
              "<div>\n",
              "<style scoped>\n",
              "    .dataframe tbody tr th:only-of-type {\n",
              "        vertical-align: middle;\n",
              "    }\n",
              "\n",
              "    .dataframe tbody tr th {\n",
              "        vertical-align: top;\n",
              "    }\n",
              "\n",
              "    .dataframe thead th {\n",
              "        text-align: right;\n",
              "    }\n",
              "</style>\n",
              "<table border=\"1\" class=\"dataframe\">\n",
              "  <thead>\n",
              "    <tr style=\"text-align: right;\">\n",
              "      <th></th>\n",
              "      <th>Column</th>\n",
              "      <th>Unique</th>\n",
              "      <th>Nan</th>\n",
              "    </tr>\n",
              "  </thead>\n",
              "  <tbody>\n",
              "    <tr>\n",
              "      <th>1</th>\n",
              "      <td>sex</td>\n",
              "      <td>3</td>\n",
              "      <td>150</td>\n",
              "    </tr>\n",
              "  </tbody>\n",
              "</table>\n",
              "</div>"
            ],
            "text/plain": [
              "  Column  Unique  Nan\n",
              "1    sex       3  150"
            ]
          },
          "metadata": {
            "tags": []
          },
          "execution_count": 31
        }
      ]
    },
    {
      "cell_type": "code",
      "metadata": {
        "id": "uzkZsyrE9juV"
      },
      "source": [
        "df['sex'].replace({'F': 0, 'M': 1}, inplace = True)"
      ],
      "execution_count": null,
      "outputs": []
    },
    {
      "cell_type": "markdown",
      "metadata": {
        "id": "5qYZhnAQ9juX"
      },
      "source": [
        "Отлично. Заменять больше в таком стиле ничего не нужно."
      ]
    },
    {
      "cell_type": "code",
      "metadata": {
        "id": "WKkblEIs9juX",
        "colab": {
          "base_uri": "https://localhost:8080/"
        },
        "outputId": "b1de30df-b8d5-4201-fd47-962f65c09b6b"
      },
      "source": [
        "df.dtypes"
      ],
      "execution_count": null,
      "outputs": [
        {
          "output_type": "execute_result",
          "data": {
            "text/plain": [
              "age                           object\n",
              "sex                          float64\n",
              "on_thyroxine                   int64\n",
              "query_on_thyroxine             int64\n",
              "on_antithyroid_medication      int64\n",
              "sick                           int64\n",
              "pregnant                       int64\n",
              "thyroid_surgery                int64\n",
              "I131_treatment                 int64\n",
              "query_hypothyroid              int64\n",
              "query_hyperthyroid             int64\n",
              "lithium                        int64\n",
              "goitre                         int64\n",
              "tumor                          int64\n",
              "psych                          int64\n",
              "TSH_measured                   int64\n",
              "TSH                           object\n",
              "T3_measured                    int64\n",
              "T3                            object\n",
              "TT4_measured                   int64\n",
              "TT4                           object\n",
              "T4U_measured                   int64\n",
              "T4U                           object\n",
              "FTI_measured                   int64\n",
              "FTI                           object\n",
              "referral_source               object\n",
              "Class                         object\n",
              "dtype: object"
            ]
          },
          "metadata": {
            "tags": []
          },
          "execution_count": 33
        }
      ]
    },
    {
      "cell_type": "code",
      "metadata": {
        "id": "0qyT7h4Z9juZ",
        "colab": {
          "base_uri": "https://localhost:8080/"
        },
        "outputId": "28b719c4-42e8-455f-fcd0-7820f7b47cf6"
      },
      "source": [
        "df.Class.value_counts()"
      ],
      "execution_count": null,
      "outputs": [
        {
          "output_type": "execute_result",
          "data": {
            "text/plain": [
              "negative                   3481\n",
              "compensated_hypothyroid     194\n",
              "primary_hypothyroid          95\n",
              "Name: Class, dtype: int64"
            ]
          },
          "metadata": {
            "tags": []
          },
          "execution_count": 34
        }
      ]
    },
    {
      "cell_type": "code",
      "metadata": {
        "id": "HT6XpecE9jub",
        "colab": {
          "base_uri": "https://localhost:8080/"
        },
        "outputId": "5795c95a-bff0-4d38-b8f2-f195834757a7"
      },
      "source": [
        "df.referral_source.value_counts()"
      ],
      "execution_count": null,
      "outputs": [
        {
          "output_type": "execute_result",
          "data": {
            "text/plain": [
              "other    2199\n",
              "SVI      1034\n",
              "SVHC      386\n",
              "STMW      112\n",
              "SVHD       39\n",
              "Name: referral_source, dtype: int64"
            ]
          },
          "metadata": {
            "tags": []
          },
          "execution_count": 35
        }
      ]
    },
    {
      "cell_type": "markdown",
      "metadata": {
        "id": "vKHp3eet9jud"
      },
      "source": [
        "Сделаем с этими двумя классами label encoding"
      ]
    },
    {
      "cell_type": "code",
      "metadata": {
        "id": "eYoYvJp79jud"
      },
      "source": [
        "label_enc = LabelEncoder()\n",
        "\n",
        "for x in ['Class', 'referral_source']:\n",
        "    df[x] = label_enc.fit_transform(df[x])"
      ],
      "execution_count": null,
      "outputs": []
    },
    {
      "cell_type": "markdown",
      "metadata": {
        "id": "4Cai6fQD9juf"
      },
      "source": [
        "Все оставшиеся колонки - можно перевести в numeric. Сделаем это."
      ]
    },
    {
      "cell_type": "code",
      "metadata": {
        "id": "IJE3Jl129juf"
      },
      "source": [
        "for column in df.columns:\n",
        "    if df[column].dtype == 'object':\n",
        "        df[column] = pd.to_numeric(df[column], errors='coerce')"
      ],
      "execution_count": null,
      "outputs": []
    },
    {
      "cell_type": "code",
      "metadata": {
        "id": "4wEfP2eK9juh",
        "colab": {
          "base_uri": "https://localhost:8080/"
        },
        "outputId": "2b8cd73a-8f6c-428a-d8e9-efa9e0de9c10"
      },
      "source": [
        "df.dtypes"
      ],
      "execution_count": null,
      "outputs": [
        {
          "output_type": "execute_result",
          "data": {
            "text/plain": [
              "age                          float64\n",
              "sex                          float64\n",
              "on_thyroxine                   int64\n",
              "query_on_thyroxine             int64\n",
              "on_antithyroid_medication      int64\n",
              "sick                           int64\n",
              "pregnant                       int64\n",
              "thyroid_surgery                int64\n",
              "I131_treatment                 int64\n",
              "query_hypothyroid              int64\n",
              "query_hyperthyroid             int64\n",
              "lithium                        int64\n",
              "goitre                         int64\n",
              "tumor                          int64\n",
              "psych                          int64\n",
              "TSH_measured                   int64\n",
              "TSH                          float64\n",
              "T3_measured                    int64\n",
              "T3                           float64\n",
              "TT4_measured                   int64\n",
              "TT4                          float64\n",
              "T4U_measured                   int64\n",
              "T4U                          float64\n",
              "FTI_measured                   int64\n",
              "FTI                          float64\n",
              "referral_source                int64\n",
              "Class                          int64\n",
              "dtype: object"
            ]
          },
          "metadata": {
            "tags": []
          },
          "execution_count": 42
        }
      ]
    },
    {
      "cell_type": "code",
      "metadata": {
        "id": "BzGPRcpc9juj",
        "colab": {
          "base_uri": "https://localhost:8080/",
          "height": 886
        },
        "outputId": "ff0cbb4e-c36d-4387-baab-6c47ce4230db"
      },
      "source": [
        "df.sample(5).T"
      ],
      "execution_count": null,
      "outputs": [
        {
          "output_type": "execute_result",
          "data": {
            "text/html": [
              "<div>\n",
              "<style scoped>\n",
              "    .dataframe tbody tr th:only-of-type {\n",
              "        vertical-align: middle;\n",
              "    }\n",
              "\n",
              "    .dataframe tbody tr th {\n",
              "        vertical-align: top;\n",
              "    }\n",
              "\n",
              "    .dataframe thead th {\n",
              "        text-align: right;\n",
              "    }\n",
              "</style>\n",
              "<table border=\"1\" class=\"dataframe\">\n",
              "  <thead>\n",
              "    <tr style=\"text-align: right;\">\n",
              "      <th></th>\n",
              "      <th>658</th>\n",
              "      <th>3768</th>\n",
              "      <th>2595</th>\n",
              "      <th>3396</th>\n",
              "      <th>1229</th>\n",
              "    </tr>\n",
              "  </thead>\n",
              "  <tbody>\n",
              "    <tr>\n",
              "      <th>age</th>\n",
              "      <td>57.00</td>\n",
              "      <td>68.00</td>\n",
              "      <td>35.00</td>\n",
              "      <td>56.00</td>\n",
              "      <td>45.00</td>\n",
              "    </tr>\n",
              "    <tr>\n",
              "      <th>sex</th>\n",
              "      <td>1.00</td>\n",
              "      <td>0.00</td>\n",
              "      <td>0.00</td>\n",
              "      <td>0.00</td>\n",
              "      <td>0.00</td>\n",
              "    </tr>\n",
              "    <tr>\n",
              "      <th>on_thyroxine</th>\n",
              "      <td>0.00</td>\n",
              "      <td>0.00</td>\n",
              "      <td>0.00</td>\n",
              "      <td>0.00</td>\n",
              "      <td>0.00</td>\n",
              "    </tr>\n",
              "    <tr>\n",
              "      <th>query_on_thyroxine</th>\n",
              "      <td>0.00</td>\n",
              "      <td>0.00</td>\n",
              "      <td>0.00</td>\n",
              "      <td>0.00</td>\n",
              "      <td>0.00</td>\n",
              "    </tr>\n",
              "    <tr>\n",
              "      <th>on_antithyroid_medication</th>\n",
              "      <td>0.00</td>\n",
              "      <td>0.00</td>\n",
              "      <td>0.00</td>\n",
              "      <td>0.00</td>\n",
              "      <td>0.00</td>\n",
              "    </tr>\n",
              "    <tr>\n",
              "      <th>sick</th>\n",
              "      <td>0.00</td>\n",
              "      <td>0.00</td>\n",
              "      <td>0.00</td>\n",
              "      <td>0.00</td>\n",
              "      <td>0.00</td>\n",
              "    </tr>\n",
              "    <tr>\n",
              "      <th>pregnant</th>\n",
              "      <td>0.00</td>\n",
              "      <td>0.00</td>\n",
              "      <td>0.00</td>\n",
              "      <td>0.00</td>\n",
              "      <td>0.00</td>\n",
              "    </tr>\n",
              "    <tr>\n",
              "      <th>thyroid_surgery</th>\n",
              "      <td>0.00</td>\n",
              "      <td>0.00</td>\n",
              "      <td>0.00</td>\n",
              "      <td>0.00</td>\n",
              "      <td>0.00</td>\n",
              "    </tr>\n",
              "    <tr>\n",
              "      <th>I131_treatment</th>\n",
              "      <td>0.00</td>\n",
              "      <td>0.00</td>\n",
              "      <td>0.00</td>\n",
              "      <td>0.00</td>\n",
              "      <td>0.00</td>\n",
              "    </tr>\n",
              "    <tr>\n",
              "      <th>query_hypothyroid</th>\n",
              "      <td>0.00</td>\n",
              "      <td>0.00</td>\n",
              "      <td>0.00</td>\n",
              "      <td>0.00</td>\n",
              "      <td>0.00</td>\n",
              "    </tr>\n",
              "    <tr>\n",
              "      <th>query_hyperthyroid</th>\n",
              "      <td>0.00</td>\n",
              "      <td>0.00</td>\n",
              "      <td>0.00</td>\n",
              "      <td>0.00</td>\n",
              "      <td>0.00</td>\n",
              "    </tr>\n",
              "    <tr>\n",
              "      <th>lithium</th>\n",
              "      <td>0.00</td>\n",
              "      <td>0.00</td>\n",
              "      <td>0.00</td>\n",
              "      <td>0.00</td>\n",
              "      <td>0.00</td>\n",
              "    </tr>\n",
              "    <tr>\n",
              "      <th>goitre</th>\n",
              "      <td>1.00</td>\n",
              "      <td>0.00</td>\n",
              "      <td>0.00</td>\n",
              "      <td>0.00</td>\n",
              "      <td>0.00</td>\n",
              "    </tr>\n",
              "    <tr>\n",
              "      <th>tumor</th>\n",
              "      <td>0.00</td>\n",
              "      <td>0.00</td>\n",
              "      <td>0.00</td>\n",
              "      <td>0.00</td>\n",
              "      <td>0.00</td>\n",
              "    </tr>\n",
              "    <tr>\n",
              "      <th>psych</th>\n",
              "      <td>0.00</td>\n",
              "      <td>0.00</td>\n",
              "      <td>1.00</td>\n",
              "      <td>0.00</td>\n",
              "      <td>0.00</td>\n",
              "    </tr>\n",
              "    <tr>\n",
              "      <th>TSH_measured</th>\n",
              "      <td>0.00</td>\n",
              "      <td>1.00</td>\n",
              "      <td>1.00</td>\n",
              "      <td>1.00</td>\n",
              "      <td>1.00</td>\n",
              "    </tr>\n",
              "    <tr>\n",
              "      <th>TSH</th>\n",
              "      <td>NaN</td>\n",
              "      <td>1.00</td>\n",
              "      <td>0.93</td>\n",
              "      <td>0.60</td>\n",
              "      <td>1.10</td>\n",
              "    </tr>\n",
              "    <tr>\n",
              "      <th>T3_measured</th>\n",
              "      <td>0.00</td>\n",
              "      <td>1.00</td>\n",
              "      <td>1.00</td>\n",
              "      <td>1.00</td>\n",
              "      <td>1.00</td>\n",
              "    </tr>\n",
              "    <tr>\n",
              "      <th>T3</th>\n",
              "      <td>NaN</td>\n",
              "      <td>2.10</td>\n",
              "      <td>2.80</td>\n",
              "      <td>2.40</td>\n",
              "      <td>1.60</td>\n",
              "    </tr>\n",
              "    <tr>\n",
              "      <th>TT4_measured</th>\n",
              "      <td>1.00</td>\n",
              "      <td>1.00</td>\n",
              "      <td>1.00</td>\n",
              "      <td>1.00</td>\n",
              "      <td>1.00</td>\n",
              "    </tr>\n",
              "    <tr>\n",
              "      <th>TT4</th>\n",
              "      <td>88.00</td>\n",
              "      <td>124.00</td>\n",
              "      <td>155.00</td>\n",
              "      <td>142.00</td>\n",
              "      <td>84.00</td>\n",
              "    </tr>\n",
              "    <tr>\n",
              "      <th>T4U_measured</th>\n",
              "      <td>1.00</td>\n",
              "      <td>1.00</td>\n",
              "      <td>1.00</td>\n",
              "      <td>1.00</td>\n",
              "      <td>1.00</td>\n",
              "    </tr>\n",
              "    <tr>\n",
              "      <th>T4U</th>\n",
              "      <td>0.86</td>\n",
              "      <td>1.08</td>\n",
              "      <td>1.01</td>\n",
              "      <td>1.12</td>\n",
              "      <td>0.96</td>\n",
              "    </tr>\n",
              "    <tr>\n",
              "      <th>FTI_measured</th>\n",
              "      <td>1.00</td>\n",
              "      <td>1.00</td>\n",
              "      <td>1.00</td>\n",
              "      <td>1.00</td>\n",
              "      <td>1.00</td>\n",
              "    </tr>\n",
              "    <tr>\n",
              "      <th>FTI</th>\n",
              "      <td>102.00</td>\n",
              "      <td>114.00</td>\n",
              "      <td>153.00</td>\n",
              "      <td>127.00</td>\n",
              "      <td>87.00</td>\n",
              "    </tr>\n",
              "    <tr>\n",
              "      <th>referral_source</th>\n",
              "      <td>4.00</td>\n",
              "      <td>3.00</td>\n",
              "      <td>1.00</td>\n",
              "      <td>4.00</td>\n",
              "      <td>3.00</td>\n",
              "    </tr>\n",
              "    <tr>\n",
              "      <th>Class</th>\n",
              "      <td>1.00</td>\n",
              "      <td>1.00</td>\n",
              "      <td>1.00</td>\n",
              "      <td>1.00</td>\n",
              "      <td>1.00</td>\n",
              "    </tr>\n",
              "  </tbody>\n",
              "</table>\n",
              "</div>"
            ],
            "text/plain": [
              "                             658     3768    2595    3396   1229\n",
              "age                         57.00   68.00   35.00   56.00  45.00\n",
              "sex                          1.00    0.00    0.00    0.00   0.00\n",
              "on_thyroxine                 0.00    0.00    0.00    0.00   0.00\n",
              "query_on_thyroxine           0.00    0.00    0.00    0.00   0.00\n",
              "on_antithyroid_medication    0.00    0.00    0.00    0.00   0.00\n",
              "sick                         0.00    0.00    0.00    0.00   0.00\n",
              "pregnant                     0.00    0.00    0.00    0.00   0.00\n",
              "thyroid_surgery              0.00    0.00    0.00    0.00   0.00\n",
              "I131_treatment               0.00    0.00    0.00    0.00   0.00\n",
              "query_hypothyroid            0.00    0.00    0.00    0.00   0.00\n",
              "query_hyperthyroid           0.00    0.00    0.00    0.00   0.00\n",
              "lithium                      0.00    0.00    0.00    0.00   0.00\n",
              "goitre                       1.00    0.00    0.00    0.00   0.00\n",
              "tumor                        0.00    0.00    0.00    0.00   0.00\n",
              "psych                        0.00    0.00    1.00    0.00   0.00\n",
              "TSH_measured                 0.00    1.00    1.00    1.00   1.00\n",
              "TSH                           NaN    1.00    0.93    0.60   1.10\n",
              "T3_measured                  0.00    1.00    1.00    1.00   1.00\n",
              "T3                            NaN    2.10    2.80    2.40   1.60\n",
              "TT4_measured                 1.00    1.00    1.00    1.00   1.00\n",
              "TT4                         88.00  124.00  155.00  142.00  84.00\n",
              "T4U_measured                 1.00    1.00    1.00    1.00   1.00\n",
              "T4U                          0.86    1.08    1.01    1.12   0.96\n",
              "FTI_measured                 1.00    1.00    1.00    1.00   1.00\n",
              "FTI                        102.00  114.00  153.00  127.00  87.00\n",
              "referral_source              4.00    3.00    1.00    4.00   3.00\n",
              "Class                        1.00    1.00    1.00    1.00   1.00"
            ]
          },
          "metadata": {
            "tags": []
          },
          "execution_count": 43
        }
      ]
    },
    {
      "cell_type": "code",
      "metadata": {
        "id": "lm87caLo9jul",
        "colab": {
          "base_uri": "https://localhost:8080/"
        },
        "outputId": "720e22e6-d3d7-4d22-a391-8498b11b94dd"
      },
      "source": [
        "count_value(df)"
      ],
      "execution_count": null,
      "outputs": [
        {
          "output_type": "stream",
          "text": [
            "age\n",
            "59.0     95\n",
            "60.0     91\n",
            "70.0     90\n",
            "55.0     81\n",
            "73.0     81\n",
            "         ..\n",
            "455.0     1\n",
            "6.0       1\n",
            "4.0       1\n",
            "10.0      1\n",
            "5.0       1\n",
            "Name: age, Length: 93, dtype: int64\n",
            "\n",
            "sex\n",
            "0.0    2479\n",
            "1.0    1141\n",
            "Name: sex, dtype: int64\n",
            "\n",
            "on_thyroxine\n",
            "0    3306\n",
            "1     464\n",
            "Name: on_thyroxine, dtype: int64\n",
            "\n",
            "query_on_thyroxine\n",
            "0    3720\n",
            "1      50\n",
            "Name: query_on_thyroxine, dtype: int64\n",
            "\n",
            "on_antithyroid_medication\n",
            "0    3727\n",
            "1      43\n",
            "Name: on_antithyroid_medication, dtype: int64\n",
            "\n",
            "sick\n",
            "0    3623\n",
            "1     147\n",
            "Name: sick, dtype: int64\n",
            "\n",
            "pregnant\n",
            "0    3717\n",
            "1      53\n",
            "Name: pregnant, dtype: int64\n",
            "\n",
            "thyroid_surgery\n",
            "0    3717\n",
            "1      53\n",
            "Name: thyroid_surgery, dtype: int64\n",
            "\n",
            "I131_treatment\n",
            "0    3711\n",
            "1      59\n",
            "Name: I131_treatment, dtype: int64\n",
            "\n",
            "query_hypothyroid\n",
            "0    3537\n",
            "1     233\n",
            "Name: query_hypothyroid, dtype: int64\n",
            "\n",
            "query_hyperthyroid\n",
            "0    3533\n",
            "1     237\n",
            "Name: query_hyperthyroid, dtype: int64\n",
            "\n",
            "lithium\n",
            "0    3752\n",
            "1      18\n",
            "Name: lithium, dtype: int64\n",
            "\n",
            "goitre\n",
            "0    3736\n",
            "1      34\n",
            "Name: goitre, dtype: int64\n",
            "\n",
            "tumor\n",
            "0    3674\n",
            "1      96\n",
            "Name: tumor, dtype: int64\n",
            "\n",
            "psych\n",
            "0    3586\n",
            "1     184\n",
            "Name: psych, dtype: int64\n",
            "\n",
            "TSH_measured\n",
            "1    3401\n",
            "0     369\n",
            "Name: TSH_measured, dtype: int64\n",
            "\n",
            "TSH\n",
            "0.2      116\n",
            "1.3      105\n",
            "1.1       97\n",
            "1.4       91\n",
            "1.5       80\n",
            "        ... \n",
            "26.4       1\n",
            "9.3        1\n",
            "440.0      1\n",
            "236.0      1\n",
            "230.0      1\n",
            "Name: TSH, Length: 287, dtype: int64\n",
            "\n",
            "T3_measured\n",
            "1    3001\n",
            "0     769\n",
            "Name: T3_measured, dtype: int64\n",
            "\n",
            "T3\n",
            "2.00    238\n",
            "1.80    207\n",
            "2.20    201\n",
            "1.90    189\n",
            "2.10    184\n",
            "       ... \n",
            "1.44      1\n",
            "6.20      1\n",
            "6.10      1\n",
            "4.90      1\n",
            "7.30      1\n",
            "Name: T3, Length: 69, dtype: int64\n",
            "\n",
            "TT4_measured\n",
            "1    3539\n",
            "0     231\n",
            "Name: TT4_measured, dtype: int64\n",
            "\n",
            "TT4\n",
            "101.0    71\n",
            "93.0     67\n",
            "103.0    63\n",
            "98.0     63\n",
            "102.0    59\n",
            "         ..\n",
            "240.0     1\n",
            "34.0      1\n",
            "29.0      1\n",
            "23.0      1\n",
            "263.0     1\n",
            "Name: TT4, Length: 241, dtype: int64\n",
            "\n",
            "T4U_measured\n",
            "1    3384\n",
            "0     386\n",
            "Name: T4U_measured, dtype: int64\n",
            "\n",
            "T4U\n",
            "0.99    95\n",
            "0.90    93\n",
            "1.01    91\n",
            "1.00    90\n",
            "0.92    89\n",
            "        ..\n",
            "0.31     1\n",
            "1.76     1\n",
            "1.79     1\n",
            "0.38     1\n",
            "2.01     1\n",
            "Name: T4U, Length: 146, dtype: int64\n",
            "\n",
            "FTI_measured\n",
            "1    3386\n",
            "0     384\n",
            "Name: FTI_measured, dtype: int64\n",
            "\n",
            "FTI\n",
            "100.0    73\n",
            "93.0     70\n",
            "114.0    65\n",
            "107.0    64\n",
            "98.0     64\n",
            "         ..\n",
            "219.0     1\n",
            "199.0     1\n",
            "242.0     1\n",
            "237.0     1\n",
            "206.0     1\n",
            "Name: FTI, Length: 234, dtype: int64\n",
            "\n",
            "referral_source\n",
            "4    2199\n",
            "3    1034\n",
            "1     386\n",
            "0     112\n",
            "2      39\n",
            "Name: referral_source, dtype: int64\n",
            "\n",
            "Class\n",
            "1    3481\n",
            "0     194\n",
            "2      95\n",
            "Name: Class, dtype: int64\n",
            "\n"
          ],
          "name": "stdout"
        }
      ]
    },
    {
      "cell_type": "markdown",
      "metadata": {
        "id": "gVWG2tX89jun"
      },
      "source": [
        "Разделим переменные на числовые и категориальные. Быть может, в дальнейшем нам это пригодится."
      ]
    },
    {
      "cell_type": "code",
      "metadata": {
        "id": "ysEDABDc9jun"
      },
      "source": [
        "al=df.columns\n",
        "numerical = ['age', 'T3', 'TT4', 'T4U', 'FTI']\n",
        "categorical = list(set(al) - set(numerical))"
      ],
      "execution_count": null,
      "outputs": []
    },
    {
      "cell_type": "markdown",
      "metadata": {
        "id": "KFu2m2sR9juq"
      },
      "source": [
        "#### Different plots."
      ]
    },
    {
      "cell_type": "markdown",
      "metadata": {
        "id": "XDmzcvRh9juq"
      },
      "source": [
        "Теперь, после всех проведенных преобразований, хотелось бы \"пощупать\" данные."
      ]
    },
    {
      "cell_type": "code",
      "metadata": {
        "id": "avm63XgK9jur",
        "colab": {
          "base_uri": "https://localhost:8080/"
        },
        "outputId": "ff75cabe-37c1-457b-aa8b-af6da6f76b3a"
      },
      "source": [
        "df.columns"
      ],
      "execution_count": null,
      "outputs": [
        {
          "output_type": "execute_result",
          "data": {
            "text/plain": [
              "Index(['age', 'sex', 'on_thyroxine', 'query_on_thyroxine',\n",
              "       'on_antithyroid_medication', 'sick', 'pregnant', 'thyroid_surgery',\n",
              "       'I131_treatment', 'query_hypothyroid', 'query_hyperthyroid', 'lithium',\n",
              "       'goitre', 'tumor', 'psych', 'TSH_measured', 'TSH', 'T3_measured', 'T3',\n",
              "       'TT4_measured', 'TT4', 'T4U_measured', 'T4U', 'FTI_measured', 'FTI',\n",
              "       'referral_source', 'Class'],\n",
              "      dtype='object')"
            ]
          },
          "metadata": {
            "tags": []
          },
          "execution_count": 46
        }
      ]
    },
    {
      "cell_type": "code",
      "metadata": {
        "id": "t4Zi4VvO9jut",
        "colab": {
          "base_uri": "https://localhost:8080/"
        },
        "outputId": "cc43aaf4-a707-4fe7-cfe3-6104998cca95"
      },
      "source": [
        "df.dtypes"
      ],
      "execution_count": null,
      "outputs": [
        {
          "output_type": "execute_result",
          "data": {
            "text/plain": [
              "age                          float64\n",
              "sex                          float64\n",
              "on_thyroxine                   int64\n",
              "query_on_thyroxine             int64\n",
              "on_antithyroid_medication      int64\n",
              "sick                           int64\n",
              "pregnant                       int64\n",
              "thyroid_surgery                int64\n",
              "I131_treatment                 int64\n",
              "query_hypothyroid              int64\n",
              "query_hyperthyroid             int64\n",
              "lithium                        int64\n",
              "goitre                         int64\n",
              "tumor                          int64\n",
              "psych                          int64\n",
              "TSH_measured                   int64\n",
              "TSH                          float64\n",
              "T3_measured                    int64\n",
              "T3                           float64\n",
              "TT4_measured                   int64\n",
              "TT4                          float64\n",
              "T4U_measured                   int64\n",
              "T4U                          float64\n",
              "FTI_measured                   int64\n",
              "FTI                          float64\n",
              "referral_source                int64\n",
              "Class                          int64\n",
              "dtype: object"
            ]
          },
          "metadata": {
            "tags": []
          },
          "execution_count": 47
        }
      ]
    },
    {
      "cell_type": "markdown",
      "metadata": {
        "id": "8E-32Mk09juv"
      },
      "source": [
        "Target - Class. Поэтому хотелось бы посмотреть на эту переменную с разных точек зрения. А именно:\n",
        "\n",
        "    1. Class и sex\n",
        "    \n",
        "    2. Class и age\n",
        "\n",
        "Сначала посмотрим на соотношения значений в каждой переменных."
      ]
    },
    {
      "cell_type": "code",
      "metadata": {
        "id": "nR_bFS3X9juw",
        "colab": {
          "base_uri": "https://localhost:8080/",
          "height": 269
        },
        "outputId": "803f0b34-a754-4804-b4ae-8e4fe1c4b358"
      },
      "source": [
        "plt.figure(figsize=(15, 15))\n",
        "\n",
        "labels = 'negative', 'compensated_hypothyroid', 'primary_hypothyroid'\n",
        "sizes = [3302, 194, 95]\n",
        "explode = (0, 0.1, 0.3)\n",
        "\n",
        "fig1, ax1 = plt.subplots()\n",
        "ax1.pie(sizes, explode=explode, labels=labels, autopct='%1.1f%%',\n",
        "        shadow=True, startangle=90)\n",
        "ax1.axis('equal')\n",
        "\n",
        "plt.show()"
      ],
      "execution_count": null,
      "outputs": [
        {
          "output_type": "display_data",
          "data": {
            "text/plain": [
              "<Figure size 1080x1080 with 0 Axes>"
            ]
          },
          "metadata": {
            "tags": []
          }
        },
        {
          "output_type": "display_data",
          "data": {
            "image/png": "[encoded data removed]",
            "text/plain": [
              "<Figure size 432x288 with 1 Axes>"
            ]
          },
          "metadata": {
            "tags": []
          }
        }
      ]
    },
    {
      "cell_type": "code",
      "metadata": {
        "id": "n27rvmVn9juy",
        "colab": {
          "base_uri": "https://localhost:8080/",
          "height": 265
        },
        "outputId": "a5a8b2a2-97ed-4527-9514-f52d6f36459a"
      },
      "source": [
        "plt.figure(figsize=(15, 15))\n",
        "\n",
        "labels = 'female', 'male'\n",
        "sizes = [2332, 1115]\n",
        "explode = (0, 0.1)\n",
        "\n",
        "fig1, ax1 = plt.subplots()\n",
        "ax1.pie(sizes, explode=explode, labels=labels, autopct='%1.1f%%',\n",
        "        shadow=True, startangle=90)\n",
        "ax1.axis('equal')\n",
        "\n",
        "plt.show()"
      ],
      "execution_count": null,
      "outputs": [
        {
          "output_type": "display_data",
          "data": {
            "text/plain": [
              "<Figure size 1080x1080 with 0 Axes>"
            ]
          },
          "metadata": {
            "tags": []
          }
        },
        {
          "output_type": "display_data",
          "data": {
            "image/png": "[encoded data removed]",
            "text/plain": [
              "<Figure size 432x288 with 1 Axes>"
            ]
          },
          "metadata": {
            "tags": []
          }
        }
      ]
    },
    {
      "cell_type": "code",
      "metadata": {
        "id": "dDW1qxWM9ju0",
        "colab": {
          "base_uri": "https://localhost:8080/",
          "height": 334
        },
        "outputId": "4e39da8e-ccaa-4568-c235-3b3b7b80e2e0"
      },
      "source": [
        "plt.figure(figsize=(10, 5))\n",
        "sns.distplot(df['age'])\n",
        "plt.xlabel('age')\n",
        "plt.ylabel('count')\n",
        "plt.show()"
      ],
      "execution_count": null,
      "outputs": [
        {
          "output_type": "display_data",
          "data": {
            "image/png": "[encoded data removed]",
            "text/plain": [
              "<Figure size 720x360 with 1 Axes>"
            ]
          },
          "metadata": {
            "tags": [],
            "needs_background": "light"
          }
        }
      ]
    },
    {
      "cell_type": "markdown",
      "metadata": {
        "id": "lx_jrd7g9ju2"
      },
      "source": [
        "Посмотрим, можно ли визуально отличить распределение возрастов в группах с различными значениям признака \"Class\":"
      ]
    },
    {
      "cell_type": "code",
      "metadata": {
        "id": "9fMpFbj99ju2",
        "colab": {
          "base_uri": "https://localhost:8080/",
          "height": 606
        },
        "outputId": "a8a480b2-af94-4278-fc89-5e8febe20016"
      },
      "source": [
        "plt.figure(figsize=(10, 10))\n",
        "sns.boxplot(x='Class', y='age', hue='Class', data=df)\n",
        "plt.show()"
      ],
      "execution_count": null,
      "outputs": [
        {
          "output_type": "display_data",
          "data": {
            "image/png": "[encoded data removed]",
            "text/plain": [
              "<Figure size 720x720 with 1 Axes>"
            ]
          },
          "metadata": {
            "tags": [],
            "needs_background": "light"
          }
        }
      ]
    },
    {
      "cell_type": "markdown",
      "metadata": {
        "id": "ygYbwi7q9ju4"
      },
      "source": [
        "Какой-то очень странный выброс. Но с ним мы разберемся позже в пункте Outliers."
      ]
    },
    {
      "cell_type": "code",
      "metadata": {
        "scrolled": true,
        "id": "OZG0oR7t9ju5",
        "colab": {
          "base_uri": "https://localhost:8080/",
          "height": 326
        },
        "outputId": "671b6c79-d493-476e-fcd0-91afe2cff1ac"
      },
      "source": [
        "sns.set(font_scale=1)\n",
        "plt.figure(figsize=(40, 10))\n",
        "sns.countplot(x='age', data=df[df.Class == 1])\n",
        "plt.xlabel('age (Class = \"negative\")')\n",
        "plt.show()\n",
        "sns.set(font_scale=2)"
      ],
      "execution_count": null,
      "outputs": [
        {
          "output_type": "display_data",
          "data": {
            "image/png": "[encoded data removed]",
            "text/plain": [
              "<Figure size 2880x720 with 1 Axes>"
            ]
          },
          "metadata": {
            "tags": []
          }
        }
      ]
    },
    {
      "cell_type": "code",
      "metadata": {
        "id": "TzqlDKsF9ju6",
        "colab": {
          "base_uri": "https://localhost:8080/",
          "height": 328
        },
        "outputId": "f7af7f64-0e1a-4ca2-a649-3376f5e2ac8a"
      },
      "source": [
        "sns.set(font_scale=1)\n",
        "plt.figure(figsize=(40, 10))\n",
        "sns.countplot(x='age', data=df[df.Class == 0])\n",
        "plt.xlabel('age (Class = \"compensated_hypothyroid\")')\n",
        "plt.show()\n",
        "sns.set(font_scale=2)"
      ],
      "execution_count": null,
      "outputs": [
        {
          "output_type": "display_data",
          "data": {
            "image/png": "[encoded data removed]",
            "text/plain": [
              "<Figure size 2880x720 with 1 Axes>"
            ]
          },
          "metadata": {
            "tags": []
          }
        }
      ]
    },
    {
      "cell_type": "markdown",
      "metadata": {
        "id": "N5s5irUO9ju8"
      },
      "source": [
        "Очень много подтвержденных диагнозов \"compensated_hypothyroid\" в возрасте 60ти."
      ]
    },
    {
      "cell_type": "code",
      "metadata": {
        "id": "CGv0YELd9ju9",
        "colab": {
          "base_uri": "https://localhost:8080/",
          "height": 328
        },
        "outputId": "9facde23-aa39-4882-828c-a834e1f42805"
      },
      "source": [
        "sns.set(font_scale=1)\n",
        "plt.figure(figsize=(40, 10))\n",
        "sns.countplot(x='age', data=df[df.Class == 2])\n",
        "plt.xlabel('age (Class = \"primary_hypothyroid\")')\n",
        "plt.show()\n",
        "sns.set(font_scale=1)"
      ],
      "execution_count": null,
      "outputs": [
        {
          "output_type": "display_data",
          "data": {
            "image/png": "[encoded data removed]",
            "text/plain": [
              "<Figure size 2880x720 with 1 Axes>"
            ]
          },
          "metadata": {
            "tags": []
          }
        }
      ]
    },
    {
      "cell_type": "markdown",
      "metadata": {
        "id": "OXGpZUUt9ju-"
      },
      "source": [
        "Есть странные пики. Но основной рост заболеваний primary_hypothyroid зарегистрирован у людей в возрасте 60 - 70ти лет."
      ]
    },
    {
      "cell_type": "code",
      "metadata": {
        "id": "NdxxoQ-y9ju_",
        "colab": {
          "base_uri": "https://localhost:8080/",
          "height": 355
        },
        "outputId": "0b362cc4-fad4-4ec7-af6e-4038744f15bb"
      },
      "source": [
        "plt.figure(figsize=(5,5))\n",
        "sns.countplot(df.sex, hue = df.Class)\n",
        "plt.title('Class and Sex')\n",
        "plt.show()"
      ],
      "execution_count": null,
      "outputs": [
        {
          "output_type": "display_data",
          "data": {
            "image/png": "[encoded data removed]",
            "text/plain": [
              "<Figure size 360x360 with 1 Axes>"
            ]
          },
          "metadata": {
            "tags": []
          }
        }
      ]
    },
    {
      "cell_type": "markdown",
      "metadata": {
        "id": "ula2I9789jvB"
      },
      "source": [
        "0 = female\n",
        "\n",
        "1 = male"
      ]
    },
    {
      "cell_type": "markdown",
      "metadata": {
        "id": "khSHhKX19jvB"
      },
      "source": [
        "#### Handling missing values"
      ]
    },
    {
      "cell_type": "markdown",
      "metadata": {
        "id": "8CXeudyw9jvB"
      },
      "source": [
        "Заполнять NaNs мы будем с помощью алгоритма K Nearest Neighbours."
      ]
    },
    {
      "cell_type": "code",
      "metadata": {
        "id": "mVjRHsjT9jvC"
      },
      "source": [
        "imputer = KNNImputer(n_neighbors=5)"
      ],
      "execution_count": null,
      "outputs": []
    },
    {
      "cell_type": "code",
      "metadata": {
        "id": "NFqWAT-m9jvF",
        "colab": {
          "base_uri": "https://localhost:8080/"
        },
        "outputId": "68cc42fe-1cad-4087-dc53-889c803135ec"
      },
      "source": [
        "matrix = imputer.fit_transform(df)\n",
        "matrix"
      ],
      "execution_count": null,
      "outputs": [
        {
          "output_type": "execute_result",
          "data": {
            "text/plain": [
              "array([[ 41.,   0.,   0., ..., 109.,   1.,   1.],\n",
              "       [ 23.,   0.,   0., ..., 106.,   4.,   1.],\n",
              "       [ 46.,   1.,   0., ..., 120.,   4.,   1.],\n",
              "       ...,\n",
              "       [ 74.,   0.,   0., ..., 105.,   4.,   1.],\n",
              "       [ 72.,   1.,   0., ...,  87.,   3.,   1.],\n",
              "       [ 64.,   0.,   0., ...,  92.,   4.,   1.]])"
            ]
          },
          "metadata": {
            "tags": []
          },
          "execution_count": 57
        }
      ]
    },
    {
      "cell_type": "code",
      "metadata": {
        "id": "LsPa1DaW9jvH",
        "colab": {
          "base_uri": "https://localhost:8080/",
          "height": 886
        },
        "outputId": "f8c2ffb9-704b-4131-baa7-b3034e3a7523"
      },
      "source": [
        "column = df.columns\n",
        "df = pd.DataFrame(data = matrix, columns = column)\n",
        "df.sample(5).T"
      ],
      "execution_count": null,
      "outputs": [
        {
          "output_type": "execute_result",
          "data": {
            "text/html": [
              "<div>\n",
              "<style scoped>\n",
              "    .dataframe tbody tr th:only-of-type {\n",
              "        vertical-align: middle;\n",
              "    }\n",
              "\n",
              "    .dataframe tbody tr th {\n",
              "        vertical-align: top;\n",
              "    }\n",
              "\n",
              "    .dataframe thead th {\n",
              "        text-align: right;\n",
              "    }\n",
              "</style>\n",
              "<table border=\"1\" class=\"dataframe\">\n",
              "  <thead>\n",
              "    <tr style=\"text-align: right;\">\n",
              "      <th></th>\n",
              "      <th>114</th>\n",
              "      <th>2203</th>\n",
              "      <th>596</th>\n",
              "      <th>1304</th>\n",
              "      <th>2352</th>\n",
              "    </tr>\n",
              "  </thead>\n",
              "  <tbody>\n",
              "    <tr>\n",
              "      <th>age</th>\n",
              "      <td>65.00</td>\n",
              "      <td>77.00</td>\n",
              "      <td>44.00</td>\n",
              "      <td>78.00</td>\n",
              "      <td>63.00</td>\n",
              "    </tr>\n",
              "    <tr>\n",
              "      <th>sex</th>\n",
              "      <td>0.00</td>\n",
              "      <td>0.00</td>\n",
              "      <td>0.00</td>\n",
              "      <td>0.00</td>\n",
              "      <td>0.00</td>\n",
              "    </tr>\n",
              "    <tr>\n",
              "      <th>on_thyroxine</th>\n",
              "      <td>0.00</td>\n",
              "      <td>0.00</td>\n",
              "      <td>0.00</td>\n",
              "      <td>0.00</td>\n",
              "      <td>0.00</td>\n",
              "    </tr>\n",
              "    <tr>\n",
              "      <th>query_on_thyroxine</th>\n",
              "      <td>0.00</td>\n",
              "      <td>0.00</td>\n",
              "      <td>0.00</td>\n",
              "      <td>0.00</td>\n",
              "      <td>0.00</td>\n",
              "    </tr>\n",
              "    <tr>\n",
              "      <th>on_antithyroid_medication</th>\n",
              "      <td>0.00</td>\n",
              "      <td>0.00</td>\n",
              "      <td>0.00</td>\n",
              "      <td>0.00</td>\n",
              "      <td>0.00</td>\n",
              "    </tr>\n",
              "    <tr>\n",
              "      <th>sick</th>\n",
              "      <td>0.00</td>\n",
              "      <td>0.00</td>\n",
              "      <td>0.00</td>\n",
              "      <td>0.00</td>\n",
              "      <td>0.00</td>\n",
              "    </tr>\n",
              "    <tr>\n",
              "      <th>pregnant</th>\n",
              "      <td>0.00</td>\n",
              "      <td>0.00</td>\n",
              "      <td>0.00</td>\n",
              "      <td>0.00</td>\n",
              "      <td>0.00</td>\n",
              "    </tr>\n",
              "    <tr>\n",
              "      <th>thyroid_surgery</th>\n",
              "      <td>0.00</td>\n",
              "      <td>0.00</td>\n",
              "      <td>0.00</td>\n",
              "      <td>0.00</td>\n",
              "      <td>0.00</td>\n",
              "    </tr>\n",
              "    <tr>\n",
              "      <th>I131_treatment</th>\n",
              "      <td>0.00</td>\n",
              "      <td>0.00</td>\n",
              "      <td>0.00</td>\n",
              "      <td>0.00</td>\n",
              "      <td>0.00</td>\n",
              "    </tr>\n",
              "    <tr>\n",
              "      <th>query_hypothyroid</th>\n",
              "      <td>0.00</td>\n",
              "      <td>0.00</td>\n",
              "      <td>0.00</td>\n",
              "      <td>0.00</td>\n",
              "      <td>0.00</td>\n",
              "    </tr>\n",
              "    <tr>\n",
              "      <th>query_hyperthyroid</th>\n",
              "      <td>1.00</td>\n",
              "      <td>0.00</td>\n",
              "      <td>0.00</td>\n",
              "      <td>0.00</td>\n",
              "      <td>0.00</td>\n",
              "    </tr>\n",
              "    <tr>\n",
              "      <th>lithium</th>\n",
              "      <td>0.00</td>\n",
              "      <td>0.00</td>\n",
              "      <td>0.00</td>\n",
              "      <td>0.00</td>\n",
              "      <td>0.00</td>\n",
              "    </tr>\n",
              "    <tr>\n",
              "      <th>goitre</th>\n",
              "      <td>0.00</td>\n",
              "      <td>0.00</td>\n",
              "      <td>0.00</td>\n",
              "      <td>0.00</td>\n",
              "      <td>0.00</td>\n",
              "    </tr>\n",
              "    <tr>\n",
              "      <th>tumor</th>\n",
              "      <td>0.00</td>\n",
              "      <td>0.00</td>\n",
              "      <td>0.00</td>\n",
              "      <td>0.00</td>\n",
              "      <td>0.00</td>\n",
              "    </tr>\n",
              "    <tr>\n",
              "      <th>psych</th>\n",
              "      <td>0.00</td>\n",
              "      <td>0.00</td>\n",
              "      <td>1.00</td>\n",
              "      <td>0.00</td>\n",
              "      <td>1.00</td>\n",
              "    </tr>\n",
              "    <tr>\n",
              "      <th>TSH_measured</th>\n",
              "      <td>1.00</td>\n",
              "      <td>1.00</td>\n",
              "      <td>1.00</td>\n",
              "      <td>1.00</td>\n",
              "      <td>1.00</td>\n",
              "    </tr>\n",
              "    <tr>\n",
              "      <th>TSH</th>\n",
              "      <td>0.15</td>\n",
              "      <td>2.30</td>\n",
              "      <td>1.80</td>\n",
              "      <td>2.50</td>\n",
              "      <td>1.20</td>\n",
              "    </tr>\n",
              "    <tr>\n",
              "      <th>T3_measured</th>\n",
              "      <td>1.00</td>\n",
              "      <td>1.00</td>\n",
              "      <td>1.00</td>\n",
              "      <td>1.00</td>\n",
              "      <td>1.00</td>\n",
              "    </tr>\n",
              "    <tr>\n",
              "      <th>T3</th>\n",
              "      <td>3.50</td>\n",
              "      <td>1.70</td>\n",
              "      <td>1.90</td>\n",
              "      <td>1.10</td>\n",
              "      <td>2.40</td>\n",
              "    </tr>\n",
              "    <tr>\n",
              "      <th>TT4_measured</th>\n",
              "      <td>1.00</td>\n",
              "      <td>1.00</td>\n",
              "      <td>1.00</td>\n",
              "      <td>1.00</td>\n",
              "      <td>1.00</td>\n",
              "    </tr>\n",
              "    <tr>\n",
              "      <th>TT4</th>\n",
              "      <td>217.00</td>\n",
              "      <td>92.00</td>\n",
              "      <td>118.00</td>\n",
              "      <td>70.00</td>\n",
              "      <td>134.00</td>\n",
              "    </tr>\n",
              "    <tr>\n",
              "      <th>T4U_measured</th>\n",
              "      <td>1.00</td>\n",
              "      <td>1.00</td>\n",
              "      <td>1.00</td>\n",
              "      <td>1.00</td>\n",
              "      <td>1.00</td>\n",
              "    </tr>\n",
              "    <tr>\n",
              "      <th>T4U</th>\n",
              "      <td>0.98</td>\n",
              "      <td>0.96</td>\n",
              "      <td>1.07</td>\n",
              "      <td>0.92</td>\n",
              "      <td>0.92</td>\n",
              "    </tr>\n",
              "    <tr>\n",
              "      <th>FTI_measured</th>\n",
              "      <td>1.00</td>\n",
              "      <td>1.00</td>\n",
              "      <td>1.00</td>\n",
              "      <td>1.00</td>\n",
              "      <td>1.00</td>\n",
              "    </tr>\n",
              "    <tr>\n",
              "      <th>FTI</th>\n",
              "      <td>221.00</td>\n",
              "      <td>96.00</td>\n",
              "      <td>110.00</td>\n",
              "      <td>76.00</td>\n",
              "      <td>145.00</td>\n",
              "    </tr>\n",
              "    <tr>\n",
              "      <th>referral_source</th>\n",
              "      <td>4.00</td>\n",
              "      <td>4.00</td>\n",
              "      <td>1.00</td>\n",
              "      <td>4.00</td>\n",
              "      <td>1.00</td>\n",
              "    </tr>\n",
              "    <tr>\n",
              "      <th>Class</th>\n",
              "      <td>1.00</td>\n",
              "      <td>1.00</td>\n",
              "      <td>1.00</td>\n",
              "      <td>1.00</td>\n",
              "      <td>1.00</td>\n",
              "    </tr>\n",
              "  </tbody>\n",
              "</table>\n",
              "</div>"
            ],
            "text/plain": [
              "                             114    2203    596    1304    2352\n",
              "age                         65.00  77.00   44.00  78.00   63.00\n",
              "sex                          0.00   0.00    0.00   0.00    0.00\n",
              "on_thyroxine                 0.00   0.00    0.00   0.00    0.00\n",
              "query_on_thyroxine           0.00   0.00    0.00   0.00    0.00\n",
              "on_antithyroid_medication    0.00   0.00    0.00   0.00    0.00\n",
              "sick                         0.00   0.00    0.00   0.00    0.00\n",
              "pregnant                     0.00   0.00    0.00   0.00    0.00\n",
              "thyroid_surgery              0.00   0.00    0.00   0.00    0.00\n",
              "I131_treatment               0.00   0.00    0.00   0.00    0.00\n",
              "query_hypothyroid            0.00   0.00    0.00   0.00    0.00\n",
              "query_hyperthyroid           1.00   0.00    0.00   0.00    0.00\n",
              "lithium                      0.00   0.00    0.00   0.00    0.00\n",
              "goitre                       0.00   0.00    0.00   0.00    0.00\n",
              "tumor                        0.00   0.00    0.00   0.00    0.00\n",
              "psych                        0.00   0.00    1.00   0.00    1.00\n",
              "TSH_measured                 1.00   1.00    1.00   1.00    1.00\n",
              "TSH                          0.15   2.30    1.80   2.50    1.20\n",
              "T3_measured                  1.00   1.00    1.00   1.00    1.00\n",
              "T3                           3.50   1.70    1.90   1.10    2.40\n",
              "TT4_measured                 1.00   1.00    1.00   1.00    1.00\n",
              "TT4                        217.00  92.00  118.00  70.00  134.00\n",
              "T4U_measured                 1.00   1.00    1.00   1.00    1.00\n",
              "T4U                          0.98   0.96    1.07   0.92    0.92\n",
              "FTI_measured                 1.00   1.00    1.00   1.00    1.00\n",
              "FTI                        221.00  96.00  110.00  76.00  145.00\n",
              "referral_source              4.00   4.00    1.00   4.00    1.00\n",
              "Class                        1.00   1.00    1.00   1.00    1.00"
            ]
          },
          "metadata": {
            "tags": []
          },
          "execution_count": 58
        }
      ]
    },
    {
      "cell_type": "code",
      "metadata": {
        "id": "8nzKcvqX9jvI",
        "colab": {
          "base_uri": "https://localhost:8080/"
        },
        "outputId": "8b3785f4-9b9a-4704-e776-1aa112ea0218"
      },
      "source": [
        "# Посчитаем, а сколько всего Nan\n",
        "df.isna().sum()"
      ],
      "execution_count": null,
      "outputs": [
        {
          "output_type": "execute_result",
          "data": {
            "text/plain": [
              "age                          0\n",
              "sex                          0\n",
              "on_thyroxine                 0\n",
              "query_on_thyroxine           0\n",
              "on_antithyroid_medication    0\n",
              "sick                         0\n",
              "pregnant                     0\n",
              "thyroid_surgery              0\n",
              "I131_treatment               0\n",
              "query_hypothyroid            0\n",
              "query_hyperthyroid           0\n",
              "lithium                      0\n",
              "goitre                       0\n",
              "tumor                        0\n",
              "psych                        0\n",
              "TSH_measured                 0\n",
              "TSH                          0\n",
              "T3_measured                  0\n",
              "T3                           0\n",
              "TT4_measured                 0\n",
              "TT4                          0\n",
              "T4U_measured                 0\n",
              "T4U                          0\n",
              "FTI_measured                 0\n",
              "FTI                          0\n",
              "referral_source              0\n",
              "Class                        0\n",
              "dtype: int64"
            ]
          },
          "metadata": {
            "tags": []
          },
          "execution_count": 59
        }
      ]
    },
    {
      "cell_type": "markdown",
      "metadata": {
        "id": "I0SLA8kp9jvK"
      },
      "source": [
        "Мы, кстати, еще не интересовались дубликатами, есть ли они?"
      ]
    },
    {
      "cell_type": "code",
      "metadata": {
        "id": "s8eY7m1O9jvK",
        "colab": {
          "base_uri": "https://localhost:8080/"
        },
        "outputId": "fcbe2a10-4c85-49d6-d2e3-d6edff10ad72"
      },
      "source": [
        "df.duplicated(keep = 'first').value_counts()"
      ],
      "execution_count": null,
      "outputs": [
        {
          "output_type": "execute_result",
          "data": {
            "text/plain": [
              "False    3709\n",
              "True       61\n",
              "dtype: int64"
            ]
          },
          "metadata": {
            "tags": []
          },
          "execution_count": 60
        }
      ]
    },
    {
      "cell_type": "markdown",
      "metadata": {
        "id": "dcZ_YErY9jvM"
      },
      "source": [
        "61 - не особо критично. Поэтому можно его удалить."
      ]
    },
    {
      "cell_type": "code",
      "metadata": {
        "id": "DiicIW8X9jvM"
      },
      "source": [
        "df.drop_duplicates(inplace=True)"
      ],
      "execution_count": null,
      "outputs": []
    },
    {
      "cell_type": "markdown",
      "metadata": {
        "id": "c7w3Igxf9jvQ"
      },
      "source": [
        "#### Outliers"
      ]
    },
    {
      "cell_type": "markdown",
      "metadata": {
        "id": "6riL9NR_9jvR"
      },
      "source": [
        "С выбросами будем работать с IsolationForest."
      ]
    },
    {
      "cell_type": "code",
      "metadata": {
        "id": "EqtCxunH9jvR"
      },
      "source": [
        "clf = IsolationForest(max_samples=2000, random_state=1, contamination = 0.1)"
      ],
      "execution_count": null,
      "outputs": []
    },
    {
      "cell_type": "code",
      "metadata": {
        "id": "uQiqNkA39jvT"
      },
      "source": [
        "preds = clf.fit_predict(df)\n",
        "df['anomaly'] = pd.Series(preds, index = df.index)"
      ],
      "execution_count": null,
      "outputs": []
    },
    {
      "cell_type": "markdown",
      "metadata": {
        "id": "GZISgZgO9jvU"
      },
      "source": [
        "Сколько процентов от изначальных данных осталось?"
      ]
    },
    {
      "cell_type": "code",
      "metadata": {
        "id": "h9ETt5pQ9jvU",
        "colab": {
          "base_uri": "https://localhost:8080/"
        },
        "outputId": "69c42a23-5666-4b85-c708-06ff5264ae31"
      },
      "source": [
        "len(df[df.anomaly !=-1])/len(df)*100"
      ],
      "execution_count": null,
      "outputs": [
        {
          "output_type": "execute_result",
          "data": {
            "text/plain": [
              "89.99730385548665"
            ]
          },
          "metadata": {
            "tags": []
          },
          "execution_count": 64
        }
      ]
    },
    {
      "cell_type": "code",
      "metadata": {
        "id": "pg8_ir9y9jvW"
      },
      "source": [
        "df=df[df.anomaly !=-1]"
      ],
      "execution_count": null,
      "outputs": []
    },
    {
      "cell_type": "code",
      "metadata": {
        "id": "MUHa74pE9jvY",
        "colab": {
          "base_uri": "https://localhost:8080/"
        },
        "outputId": "9a7db9c3-4871-4723-f382-2a399811bdaf"
      },
      "source": [
        "df.shape"
      ],
      "execution_count": null,
      "outputs": [
        {
          "output_type": "execute_result",
          "data": {
            "text/plain": [
              "(3338, 28)"
            ]
          },
          "metadata": {
            "tags": []
          },
          "execution_count": 66
        }
      ]
    },
    {
      "cell_type": "markdown",
      "metadata": {
        "id": "HhXS5-8u9jvZ"
      },
      "source": [
        "После проведенной всей работы посмотрим на данные еще раз."
      ]
    },
    {
      "cell_type": "code",
      "metadata": {
        "id": "AJEfOCr09jva",
        "colab": {
          "base_uri": "https://localhost:8080/",
          "height": 1000
        },
        "outputId": "76440101-fc0e-439a-d181-49c73355e4cc"
      },
      "source": [
        "df.hist(figsize = (20,20))\n",
        "plt.show()"
      ],
      "execution_count": null,
      "outputs": [
        {
          "output_type": "display_data",
          "data": {
            "image/png": "[encoded data removed]",
            "text/plain": [
              "<Figure size 1440x1440 with 30 Axes>"
            ]
          },
          "metadata": {
            "tags": []
          }
        }
      ]
    },
    {
      "cell_type": "markdown",
      "metadata": {
        "id": "omx1YRde9jvb"
      },
      "source": [
        "#### Data normalization"
      ]
    },
    {
      "cell_type": "markdown",
      "metadata": {
        "id": "a25unEvD9jvb"
      },
      "source": [
        "В некоторых столбцах у нас данные с разными масштабами. Это может не очень сказаться при реализации таких алгоритмов как k-Nearest соседей, которые используют вычисления расстояний и линейную регрессию."
      ]
    },
    {
      "cell_type": "code",
      "metadata": {
        "id": "2itRTMEB9jvb"
      },
      "source": [
        "scaler = MinMaxScaler()"
      ],
      "execution_count": null,
      "outputs": []
    },
    {
      "cell_type": "code",
      "metadata": {
        "id": "poJ7vymu9jvd"
      },
      "source": [
        "matrix = scaler.fit_transform(df)"
      ],
      "execution_count": null,
      "outputs": []
    },
    {
      "cell_type": "code",
      "metadata": {
        "id": "EoqW4utA9jve",
        "colab": {
          "base_uri": "https://localhost:8080/",
          "height": 917
        },
        "outputId": "d040ed69-6104-4b88-ea91-e8b3028867e4"
      },
      "source": [
        "df_new = pd.DataFrame(data = matrix, columns = df.columns)\n",
        "df = df_new\n",
        "df.sample(5).T"
      ],
      "execution_count": null,
      "outputs": [
        {
          "output_type": "execute_result",
          "data": {
            "text/html": [
              "<div>\n",
              "<style scoped>\n",
              "    .dataframe tbody tr th:only-of-type {\n",
              "        vertical-align: middle;\n",
              "    }\n",
              "\n",
              "    .dataframe tbody tr th {\n",
              "        vertical-align: top;\n",
              "    }\n",
              "\n",
              "    .dataframe thead th {\n",
              "        text-align: right;\n",
              "    }\n",
              "</style>\n",
              "<table border=\"1\" class=\"dataframe\">\n",
              "  <thead>\n",
              "    <tr style=\"text-align: right;\">\n",
              "      <th></th>\n",
              "      <th>736</th>\n",
              "      <th>2240</th>\n",
              "      <th>2196</th>\n",
              "      <th>946</th>\n",
              "      <th>1578</th>\n",
              "    </tr>\n",
              "  </thead>\n",
              "  <tbody>\n",
              "    <tr>\n",
              "      <th>age</th>\n",
              "      <td>0.145374</td>\n",
              "      <td>0.066079</td>\n",
              "      <td>0.099119</td>\n",
              "      <td>0.182819</td>\n",
              "      <td>0.156388</td>\n",
              "    </tr>\n",
              "    <tr>\n",
              "      <th>sex</th>\n",
              "      <td>1.000000</td>\n",
              "      <td>0.000000</td>\n",
              "      <td>0.000000</td>\n",
              "      <td>0.000000</td>\n",
              "      <td>0.000000</td>\n",
              "    </tr>\n",
              "    <tr>\n",
              "      <th>on_thyroxine</th>\n",
              "      <td>0.000000</td>\n",
              "      <td>0.000000</td>\n",
              "      <td>0.000000</td>\n",
              "      <td>0.000000</td>\n",
              "      <td>0.000000</td>\n",
              "    </tr>\n",
              "    <tr>\n",
              "      <th>query_on_thyroxine</th>\n",
              "      <td>0.000000</td>\n",
              "      <td>0.000000</td>\n",
              "      <td>0.000000</td>\n",
              "      <td>0.000000</td>\n",
              "      <td>0.000000</td>\n",
              "    </tr>\n",
              "    <tr>\n",
              "      <th>on_antithyroid_medication</th>\n",
              "      <td>0.000000</td>\n",
              "      <td>0.000000</td>\n",
              "      <td>0.000000</td>\n",
              "      <td>0.000000</td>\n",
              "      <td>0.000000</td>\n",
              "    </tr>\n",
              "    <tr>\n",
              "      <th>sick</th>\n",
              "      <td>0.000000</td>\n",
              "      <td>0.000000</td>\n",
              "      <td>0.000000</td>\n",
              "      <td>0.000000</td>\n",
              "      <td>0.000000</td>\n",
              "    </tr>\n",
              "    <tr>\n",
              "      <th>pregnant</th>\n",
              "      <td>0.000000</td>\n",
              "      <td>0.000000</td>\n",
              "      <td>0.000000</td>\n",
              "      <td>0.000000</td>\n",
              "      <td>0.000000</td>\n",
              "    </tr>\n",
              "    <tr>\n",
              "      <th>thyroid_surgery</th>\n",
              "      <td>0.000000</td>\n",
              "      <td>0.000000</td>\n",
              "      <td>0.000000</td>\n",
              "      <td>0.000000</td>\n",
              "      <td>0.000000</td>\n",
              "    </tr>\n",
              "    <tr>\n",
              "      <th>I131_treatment</th>\n",
              "      <td>0.000000</td>\n",
              "      <td>0.000000</td>\n",
              "      <td>0.000000</td>\n",
              "      <td>0.000000</td>\n",
              "      <td>0.000000</td>\n",
              "    </tr>\n",
              "    <tr>\n",
              "      <th>query_hypothyroid</th>\n",
              "      <td>0.000000</td>\n",
              "      <td>0.000000</td>\n",
              "      <td>0.000000</td>\n",
              "      <td>0.000000</td>\n",
              "      <td>0.000000</td>\n",
              "    </tr>\n",
              "    <tr>\n",
              "      <th>query_hyperthyroid</th>\n",
              "      <td>0.000000</td>\n",
              "      <td>0.000000</td>\n",
              "      <td>0.000000</td>\n",
              "      <td>0.000000</td>\n",
              "      <td>0.000000</td>\n",
              "    </tr>\n",
              "    <tr>\n",
              "      <th>lithium</th>\n",
              "      <td>0.000000</td>\n",
              "      <td>0.000000</td>\n",
              "      <td>0.000000</td>\n",
              "      <td>0.000000</td>\n",
              "      <td>0.000000</td>\n",
              "    </tr>\n",
              "    <tr>\n",
              "      <th>goitre</th>\n",
              "      <td>0.000000</td>\n",
              "      <td>0.000000</td>\n",
              "      <td>0.000000</td>\n",
              "      <td>0.000000</td>\n",
              "      <td>0.000000</td>\n",
              "    </tr>\n",
              "    <tr>\n",
              "      <th>tumor</th>\n",
              "      <td>0.000000</td>\n",
              "      <td>0.000000</td>\n",
              "      <td>0.000000</td>\n",
              "      <td>0.000000</td>\n",
              "      <td>0.000000</td>\n",
              "    </tr>\n",
              "    <tr>\n",
              "      <th>psych</th>\n",
              "      <td>0.000000</td>\n",
              "      <td>0.000000</td>\n",
              "      <td>0.000000</td>\n",
              "      <td>0.000000</td>\n",
              "      <td>0.000000</td>\n",
              "    </tr>\n",
              "    <tr>\n",
              "      <th>TSH_measured</th>\n",
              "      <td>1.000000</td>\n",
              "      <td>1.000000</td>\n",
              "      <td>1.000000</td>\n",
              "      <td>1.000000</td>\n",
              "      <td>1.000000</td>\n",
              "    </tr>\n",
              "    <tr>\n",
              "      <th>TSH</th>\n",
              "      <td>0.000980</td>\n",
              "      <td>0.011030</td>\n",
              "      <td>0.000477</td>\n",
              "      <td>0.001231</td>\n",
              "      <td>0.011533</td>\n",
              "    </tr>\n",
              "    <tr>\n",
              "      <th>T3_measured</th>\n",
              "      <td>1.000000</td>\n",
              "      <td>1.000000</td>\n",
              "      <td>1.000000</td>\n",
              "      <td>1.000000</td>\n",
              "      <td>1.000000</td>\n",
              "    </tr>\n",
              "    <tr>\n",
              "      <th>T3</th>\n",
              "      <td>0.218935</td>\n",
              "      <td>0.289941</td>\n",
              "      <td>0.076923</td>\n",
              "      <td>0.254438</td>\n",
              "      <td>0.301775</td>\n",
              "    </tr>\n",
              "    <tr>\n",
              "      <th>TT4_measured</th>\n",
              "      <td>1.000000</td>\n",
              "      <td>1.000000</td>\n",
              "      <td>1.000000</td>\n",
              "      <td>1.000000</td>\n",
              "      <td>1.000000</td>\n",
              "    </tr>\n",
              "    <tr>\n",
              "      <th>TT4</th>\n",
              "      <td>0.357860</td>\n",
              "      <td>0.277592</td>\n",
              "      <td>0.224080</td>\n",
              "      <td>0.454849</td>\n",
              "      <td>0.364548</td>\n",
              "    </tr>\n",
              "    <tr>\n",
              "      <th>T4U_measured</th>\n",
              "      <td>1.000000</td>\n",
              "      <td>1.000000</td>\n",
              "      <td>1.000000</td>\n",
              "      <td>1.000000</td>\n",
              "      <td>1.000000</td>\n",
              "    </tr>\n",
              "    <tr>\n",
              "      <th>T4U</th>\n",
              "      <td>0.417112</td>\n",
              "      <td>0.299465</td>\n",
              "      <td>0.278075</td>\n",
              "      <td>0.385027</td>\n",
              "      <td>0.433155</td>\n",
              "    </tr>\n",
              "    <tr>\n",
              "      <th>FTI_measured</th>\n",
              "      <td>1.000000</td>\n",
              "      <td>1.000000</td>\n",
              "      <td>1.000000</td>\n",
              "      <td>1.000000</td>\n",
              "      <td>1.000000</td>\n",
              "    </tr>\n",
              "    <tr>\n",
              "      <th>FTI</th>\n",
              "      <td>0.335484</td>\n",
              "      <td>0.332258</td>\n",
              "      <td>0.280645</td>\n",
              "      <td>0.454839</td>\n",
              "      <td>0.332258</td>\n",
              "    </tr>\n",
              "    <tr>\n",
              "      <th>referral_source</th>\n",
              "      <td>0.750000</td>\n",
              "      <td>0.750000</td>\n",
              "      <td>0.750000</td>\n",
              "      <td>1.000000</td>\n",
              "      <td>1.000000</td>\n",
              "    </tr>\n",
              "    <tr>\n",
              "      <th>Class</th>\n",
              "      <td>0.500000</td>\n",
              "      <td>0.500000</td>\n",
              "      <td>0.500000</td>\n",
              "      <td>0.500000</td>\n",
              "      <td>0.500000</td>\n",
              "    </tr>\n",
              "    <tr>\n",
              "      <th>anomaly</th>\n",
              "      <td>0.000000</td>\n",
              "      <td>0.000000</td>\n",
              "      <td>0.000000</td>\n",
              "      <td>0.000000</td>\n",
              "      <td>0.000000</td>\n",
              "    </tr>\n",
              "  </tbody>\n",
              "</table>\n",
              "</div>"
            ],
            "text/plain": [
              "                               736       2240      2196      946       1578\n",
              "age                        0.145374  0.066079  0.099119  0.182819  0.156388\n",
              "sex                        1.000000  0.000000  0.000000  0.000000  0.000000\n",
              "on_thyroxine               0.000000  0.000000  0.000000  0.000000  0.000000\n",
              "query_on_thyroxine         0.000000  0.000000  0.000000  0.000000  0.000000\n",
              "on_antithyroid_medication  0.000000  0.000000  0.000000  0.000000  0.000000\n",
              "sick                       0.000000  0.000000  0.000000  0.000000  0.000000\n",
              "pregnant                   0.000000  0.000000  0.000000  0.000000  0.000000\n",
              "thyroid_surgery            0.000000  0.000000  0.000000  0.000000  0.000000\n",
              "I131_treatment             0.000000  0.000000  0.000000  0.000000  0.000000\n",
              "query_hypothyroid          0.000000  0.000000  0.000000  0.000000  0.000000\n",
              "query_hyperthyroid         0.000000  0.000000  0.000000  0.000000  0.000000\n",
              "lithium                    0.000000  0.000000  0.000000  0.000000  0.000000\n",
              "goitre                     0.000000  0.000000  0.000000  0.000000  0.000000\n",
              "tumor                      0.000000  0.000000  0.000000  0.000000  0.000000\n",
              "psych                      0.000000  0.000000  0.000000  0.000000  0.000000\n",
              "TSH_measured               1.000000  1.000000  1.000000  1.000000  1.000000\n",
              "TSH                        0.000980  0.011030  0.000477  0.001231  0.011533\n",
              "T3_measured                1.000000  1.000000  1.000000  1.000000  1.000000\n",
              "T3                         0.218935  0.289941  0.076923  0.254438  0.301775\n",
              "TT4_measured               1.000000  1.000000  1.000000  1.000000  1.000000\n",
              "TT4                        0.357860  0.277592  0.224080  0.454849  0.364548\n",
              "T4U_measured               1.000000  1.000000  1.000000  1.000000  1.000000\n",
              "T4U                        0.417112  0.299465  0.278075  0.385027  0.433155\n",
              "FTI_measured               1.000000  1.000000  1.000000  1.000000  1.000000\n",
              "FTI                        0.335484  0.332258  0.280645  0.454839  0.332258\n",
              "referral_source            0.750000  0.750000  0.750000  1.000000  1.000000\n",
              "Class                      0.500000  0.500000  0.500000  0.500000  0.500000\n",
              "anomaly                    0.000000  0.000000  0.000000  0.000000  0.000000"
            ]
          },
          "metadata": {
            "tags": []
          },
          "execution_count": 70
        }
      ]
    },
    {
      "cell_type": "markdown",
      "metadata": {
        "id": "RXjiS_Xv9jvf"
      },
      "source": [
        "#### Conclusion"
      ]
    },
    {
      "cell_type": "markdown",
      "metadata": {
        "id": "xIE-cnDi9jvf"
      },
      "source": [
        "В первой части данной работы у нас представлен разведочный анализ данных, плавно перетекающий в этап подготовки данных.\n",
        "\n",
        "Было проведено:\n",
        "\n",
        "    1. Работа с пропущенными значениями (несколько строк было полностью удалено, остальные же пропуски были заполнены помощью KNN);\n",
        "    \n",
        "    2. Удалены дубликаты (после пункта 1 там \"выжил\" лишь один экземпляр);\n",
        "    \n",
        "    3. Работа с категориальными данными с помощью LabelEncoding и просто бинарного кодирования;\n",
        "    \n",
        "    4. Проанализировали особенности распределений некоторых переменных.\n",
        "    \n",
        "    5.  Работа с выбросами с помощью метода IsolatedForest;\n",
        "    \n",
        "    6. Проведена стандартизация с помощью MinMaxScaler."
      ]
    },
    {
      "cell_type": "markdown",
      "metadata": {
        "id": "oUiJApGt9jvg"
      },
      "source": [
        "### 3. Models"
      ]
    },
    {
      "cell_type": "markdown",
      "metadata": {
        "id": "5ePCDCPW9jvg"
      },
      "source": [
        "#### a. Auxiliary functions"
      ]
    },
    {
      "cell_type": "code",
      "metadata": {
        "id": "ehOmrDWv9jvg"
      },
      "source": [
        "def data_split(df):\n",
        "    X = df.drop('Class', axis=1)\n",
        "    y = df['Class']\n",
        "    X_train, X_test, y_train, y_test = train_test_split(X, y, test_size=0.3, random_state=42, stratify=y)\n",
        "    return X_train, X_test, y_train, y_test"
      ],
      "execution_count": null,
      "outputs": []
    },
    {
      "cell_type": "code",
      "metadata": {
        "id": "So2eMHSn9jvj"
      },
      "source": [
        "def normalized_confusion_matrix (y, predictions):\n",
        "    conf = confusion_matrix(y, predictions, normalize = 'true')\n",
        "    sns.heatmap(conf,\n",
        "                annot=conf/np.sum(conf,axis=1), #normalized by true class sizes\n",
        "                yticklabels=['negative', 'compensated_hypothyroid','primary_hypothyroid'],\n",
        "                xticklabels=['negative', 'compensated_hypothyroid','primary_hypothyroid'],  \n",
        "                cmap= 'Blues');\n",
        "    plt.title('Logistic regression confusion matrix');\n",
        "    plt.xlabel('Predicted label');\n",
        "    plt.ylabel('True label');"
      ],
      "execution_count": null,
      "outputs": []
    },
    {
      "cell_type": "markdown",
      "metadata": {
        "id": "LSXFRQeT9jvk"
      },
      "source": [
        "#### b. Metrics and cross-validation have been chosen based on target distribution as well as reasoning behind"
      ]
    },
    {
      "cell_type": "markdown",
      "metadata": {
        "id": "K016aGL19jvk"
      },
      "source": [
        "Что за метрики будем использовать и почему?"
      ]
    },
    {
      "cell_type": "markdown",
      "metadata": {
        "id": "vRvBsief9jvl"
      },
      "source": [
        "У нас в target всего 3 класса. Значит, будем использовать мультиклассификатор f1_score. Он представляет собой среднее гармоническое таких метрик как precision и recall. Будем использовать weighted average. Хотя можно попробовать и micro average. Мы попробуем это сделать в самом конце.\n",
        "\n",
        "Также будем использовать StratifiedKFold. Он сначала перед разделением перемешивает данные, и только после этого разбивает их на n частей, каждую из которых он будет использовать в качестве тестового набора."
      ]
    },
    {
      "cell_type": "markdown",
      "metadata": {
        "id": "l_cyIBEc9jvl"
      },
      "source": [
        "Чтобы несколько раз не писать одно и тоже, создадим свой классификатор:"
      ]
    },
    {
      "cell_type": "code",
      "metadata": {
        "id": "ATi7J-ZH9jvl"
      },
      "source": [
        "Scorer = make_scorer(f1_score, average='weighted')\n",
        "cv = StratifiedKFold(5)"
      ],
      "execution_count": null,
      "outputs": []
    },
    {
      "cell_type": "markdown",
      "metadata": {
        "id": "qAxPzPSI9jvm"
      },
      "source": [
        "Чтобы не мучаться со всеми этими моделями, составим функцию, и будем ее везде использовать."
      ]
    },
    {
      "cell_type": "code",
      "metadata": {
        "id": "eEYd4iU19jvn"
      },
      "source": [
        "def model_for_everything (estimator, df, parameters, scoring, cv):\n",
        "    \n",
        "    data_split(df)\n",
        "    \n",
        "    clf = GridSearchCV(estimator, param_grid = parameters,\n",
        "                   scoring=Scorer, cv=cv, verbose=3)\n",
        "\n",
        "    clf.fit(X_train.values, y_train)\n",
        "    y_pred = clf.predict(X_test.values)\n",
        "    \n",
        "    print ('Best parametrs:')\n",
        "    print(clf.best_params_)\n",
        "    print(classification_report(y_test, y_pred))\n",
        "    \n",
        "    normalized_confusion_matrix (y_test, y_pred)"
      ],
      "execution_count": null,
      "outputs": []
    },
    {
      "cell_type": "markdown",
      "metadata": {
        "id": "DoU7HHGx9jvp"
      },
      "source": [
        "#### c. Logistic Regression with regularization"
      ]
    },
    {
      "cell_type": "code",
      "metadata": {
        "id": "oryk5EgG9jvq"
      },
      "source": [
        "parameters = [{'C': [0.1, 0.5, 1, 3, 5, 10, 25]}]"
      ],
      "execution_count": null,
      "outputs": []
    },
    {
      "cell_type": "code",
      "metadata": {
        "id": "stlXFsvd9jvr",
        "outputId": "5da23ace-993d-4396-b1b9-3ed54c3c820a"
      },
      "source": [
        "model_for_everything (LogisticRegression(random_state=42, class_weight='balanced'), df, parameters, Scorer, cv)"
      ],
      "execution_count": null,
      "outputs": [
        {
          "output_type": "stream",
          "text": [
            "Fitting 5 folds for each of 7 candidates, totalling 35 fits\n",
            "[CV] C=0.1 ...........................................................\n",
            "[CV] ............................... C=0.1, score=0.951, total=   0.1s\n",
            "[CV] C=0.1 ...........................................................\n",
            "[CV] ............................... C=0.1, score=0.954, total=   0.1s\n",
            "[CV] C=0.1 ...........................................................\n"
          ],
          "name": "stdout"
        },
        {
          "output_type": "stream",
          "text": [
            "[Parallel(n_jobs=1)]: Using backend SequentialBackend with 1 concurrent workers.\n",
            "[Parallel(n_jobs=1)]: Done   1 out of   1 | elapsed:    0.0s remaining:    0.0s\n",
            "[Parallel(n_jobs=1)]: Done   2 out of   2 | elapsed:    0.1s remaining:    0.0s\n"
          ],
          "name": "stderr"
        },
        {
          "output_type": "stream",
          "text": [
            "[CV] ............................... C=0.1, score=0.963, total=   0.1s\n",
            "[CV] C=0.1 ...........................................................\n",
            "[CV] ............................... C=0.1, score=0.952, total=   0.1s\n",
            "[CV] C=0.1 ...........................................................\n",
            "[CV] ............................... C=0.1, score=0.931, total=   0.1s\n",
            "[CV] C=0.5 ...........................................................\n",
            "[CV] ............................... C=0.5, score=0.957, total=   0.1s\n",
            "[CV] C=0.5 ...........................................................\n",
            "[CV] ............................... C=0.5, score=0.953, total=   0.1s\n",
            "[CV] C=0.5 ...........................................................\n",
            "[CV] ............................... C=0.5, score=0.959, total=   0.1s\n",
            "[CV] C=0.5 ...........................................................\n",
            "[CV] ............................... C=0.5, score=0.948, total=   0.1s\n",
            "[CV] C=0.5 ...........................................................\n",
            "[CV] ............................... C=0.5, score=0.928, total=   0.1s\n",
            "[CV] C=1 .............................................................\n",
            "[CV] ................................. C=1, score=0.960, total=   0.1s\n",
            "[CV] C=1 .............................................................\n",
            "[CV] ................................. C=1, score=0.953, total=   0.1s\n",
            "[CV] C=1 .............................................................\n",
            "[CV] ................................. C=1, score=0.958, total=   0.1s\n",
            "[CV] C=1 .............................................................\n",
            "[CV] ................................. C=1, score=0.946, total=   0.1s\n",
            "[CV] C=1 .............................................................\n",
            "[CV] ................................. C=1, score=0.932, total=   0.1s\n",
            "[CV] C=3 .............................................................\n",
            "[CV] ................................. C=3, score=0.953, total=   0.1s\n",
            "[CV] C=3 .............................................................\n",
            "[CV] ................................. C=3, score=0.950, total=   0.1s\n",
            "[CV] C=3 .............................................................\n",
            "[CV] ................................. C=3, score=0.961, total=   0.1s\n",
            "[CV] C=3 .............................................................\n",
            "[CV] ................................. C=3, score=0.950, total=   0.1s\n",
            "[CV] C=3 .............................................................\n",
            "[CV] ................................. C=3, score=0.935, total=   0.1s\n",
            "[CV] C=5 .............................................................\n",
            "[CV] ................................. C=5, score=0.955, total=   0.1s\n",
            "[CV] C=5 .............................................................\n",
            "[CV] ................................. C=5, score=0.954, total=   0.1s\n",
            "[CV] C=5 .............................................................\n",
            "[CV] ................................. C=5, score=0.964, total=   0.1s\n",
            "[CV] C=5 .............................................................\n",
            "[CV] ................................. C=5, score=0.955, total=   0.1s\n",
            "[CV] C=5 .............................................................\n",
            "[CV] ................................. C=5, score=0.940, total=   0.1s\n",
            "[CV] C=10 ............................................................\n",
            "[CV] ................................ C=10, score=0.957, total=   0.1s\n",
            "[CV] C=10 ............................................................\n",
            "[CV] ................................ C=10, score=0.951, total=   0.1s\n",
            "[CV] C=10 ............................................................\n",
            "[CV] ................................ C=10, score=0.961, total=   0.1s\n",
            "[CV] C=10 ............................................................\n",
            "[CV] ................................ C=10, score=0.950, total=   0.1s\n",
            "[CV] C=10 ............................................................\n",
            "[CV] ................................ C=10, score=0.929, total=   0.1s\n",
            "[CV] C=25 ............................................................\n",
            "[CV] ................................ C=25, score=0.951, total=   0.1s\n",
            "[CV] C=25 ............................................................\n",
            "[CV] ................................ C=25, score=0.953, total=   0.1s\n",
            "[CV] C=25 ............................................................\n",
            "[CV] ................................ C=25, score=0.959, total=   0.1s\n",
            "[CV] C=25 ............................................................\n",
            "[CV] ................................ C=25, score=0.952, total=   0.1s\n",
            "[CV] C=25 ............................................................\n",
            "[CV] ................................ C=25, score=0.930, total=   0.1s\n"
          ],
          "name": "stdout"
        },
        {
          "output_type": "stream",
          "text": [
            "[Parallel(n_jobs=1)]: Done  35 out of  35 | elapsed:    2.7s finished\n"
          ],
          "name": "stderr"
        },
        {
          "output_type": "stream",
          "text": [
            "Best parametrs:\n",
            "{'C': 5}\n",
            "              precision    recall  f1-score   support\n",
            "\n",
            "         0.0       0.55      0.98      0.71        58\n",
            "         1.0       1.00      0.96      0.98       990\n",
            "         2.0       0.85      0.79      0.82        29\n",
            "\n",
            "    accuracy                           0.95      1077\n",
            "   macro avg       0.80      0.91      0.84      1077\n",
            "weighted avg       0.97      0.95      0.96      1077\n",
            "\n"
          ],
          "name": "stdout"
        },
        {
          "output_type": "display_data",
          "data": {
            "image/png": "[encoded data removed]",
            "text/plain": [
              "<Figure size 432x288 with 2 Axes>"
            ]
          },
          "metadata": {
            "tags": []
          }
        }
      ]
    },
    {
      "cell_type": "markdown",
      "metadata": {
        "id": "7YnLYJcg9jvt"
      },
      "source": [
        "Вспомним, что:\n",
        "    \n",
        "negative   (отрицательный)                1\n",
        "\n",
        "compensated_hypothyroid  (вторичный гипотериоз)   0\n",
        "\n",
        "primary_hypothyroid (первичный гипотериоз)         2\n"
      ]
    },
    {
      "cell_type": "markdown",
      "metadata": {
        "id": "wiSfuKJk9jvt"
      },
      "source": [
        "Заметим, что наша модель имеет достаточно высокую точность при выявлении отрицательных диагнозов, а также вторичного гипотериоза. И лишь 79 % больных первичным гипотериозом определяются правильно. Это неплохо, но хотелось бы лучше."
      ]
    },
    {
      "cell_type": "markdown",
      "metadata": {
        "id": "pi2BFQEq9jvu"
      },
      "source": [
        "#### d. Logistic Regression without regularization"
      ]
    },
    {
      "cell_type": "code",
      "metadata": {
        "id": "KNokOs1R9jvu"
      },
      "source": [
        "parameters = [{'C': [1]}]"
      ],
      "execution_count": null,
      "outputs": []
    },
    {
      "cell_type": "code",
      "metadata": {
        "id": "3v8ucTb09jvv",
        "outputId": "6e3e25df-2822-4205-e0e9-392e053f34fd"
      },
      "source": [
        "model_for_everything (LogisticRegression(random_state=42, class_weight='balanced'), df, parameters, Scorer, cv)"
      ],
      "execution_count": null,
      "outputs": [
        {
          "output_type": "stream",
          "text": [
            "Fitting 5 folds for each of 1 candidates, totalling 5 fits\n",
            "[CV] C=1 .............................................................\n",
            "[CV] ................................. C=1, score=0.960, total=   0.1s\n",
            "[CV] C=1 .............................................................\n",
            "[CV] ................................. C=1, score=0.953, total=   0.1s\n",
            "[CV] C=1 .............................................................\n"
          ],
          "name": "stdout"
        },
        {
          "output_type": "stream",
          "text": [
            "[Parallel(n_jobs=1)]: Using backend SequentialBackend with 1 concurrent workers.\n",
            "[Parallel(n_jobs=1)]: Done   1 out of   1 | elapsed:    0.0s remaining:    0.0s\n",
            "[Parallel(n_jobs=1)]: Done   2 out of   2 | elapsed:    0.1s remaining:    0.0s\n"
          ],
          "name": "stderr"
        },
        {
          "output_type": "stream",
          "text": [
            "[CV] ................................. C=1, score=0.958, total=   0.1s\n",
            "[CV] C=1 .............................................................\n",
            "[CV] ................................. C=1, score=0.946, total=   0.1s\n",
            "[CV] C=1 .............................................................\n",
            "[CV] ................................. C=1, score=0.932, total=   0.1s\n"
          ],
          "name": "stdout"
        },
        {
          "output_type": "stream",
          "text": [
            "[Parallel(n_jobs=1)]: Done   5 out of   5 | elapsed:    0.3s finished\n"
          ],
          "name": "stderr"
        },
        {
          "output_type": "stream",
          "text": [
            "Best parametrs:\n",
            "{'C': 1}\n",
            "              precision    recall  f1-score   support\n",
            "\n",
            "         0.0       0.54      0.98      0.70        58\n",
            "         1.0       1.00      0.95      0.98       990\n",
            "         2.0       0.85      0.79      0.82        29\n",
            "\n",
            "    accuracy                           0.95      1077\n",
            "   macro avg       0.80      0.91      0.83      1077\n",
            "weighted avg       0.97      0.95      0.96      1077\n",
            "\n"
          ],
          "name": "stdout"
        },
        {
          "output_type": "display_data",
          "data": {
            "image/png": "[encoded data removed]",
            "text/plain": [
              "<Figure size 432x288 with 2 Axes>"
            ]
          },
          "metadata": {
            "tags": []
          }
        }
      ]
    },
    {
      "cell_type": "markdown",
      "metadata": {
        "id": "fwoUMTYj9jvx"
      },
      "source": [
        "Результат лишь немного в худшую сторону отличается от предыдущего."
      ]
    },
    {
      "cell_type": "markdown",
      "metadata": {
        "id": "uciQO0dJ9jvx"
      },
      "source": [
        "#### e. K-nearest neighbours"
      ]
    },
    {
      "cell_type": "code",
      "metadata": {
        "id": "xZ0EoBoC9jvy"
      },
      "source": [
        "parameters = [{'n_neighbors': np.arange(1,10)}]"
      ],
      "execution_count": null,
      "outputs": []
    },
    {
      "cell_type": "code",
      "metadata": {
        "id": "-_blhPal9jv0",
        "outputId": "146cb564-16ca-48a7-d92b-fde264940285"
      },
      "source": [
        "model_for_everything (KNeighborsClassifier(algorithm='kd_tree'), df, parameters, Scorer, cv)"
      ],
      "execution_count": null,
      "outputs": [
        {
          "output_type": "stream",
          "text": [
            "Fitting 5 folds for each of 9 candidates, totalling 45 fits\n",
            "[CV] n_neighbors=1 ...................................................\n",
            "[CV] ....................... n_neighbors=1, score=0.940, total=   0.0s\n",
            "[CV] n_neighbors=1 ...................................................\n",
            "[CV] ....................... n_neighbors=1, score=0.934, total=   0.0s\n",
            "[CV] n_neighbors=1 ...................................................\n",
            "[CV] ....................... n_neighbors=1, score=0.943, total=   0.0s\n",
            "[CV] n_neighbors=1 ...................................................\n",
            "[CV] ....................... n_neighbors=1, score=0.938, total=   0.0s\n",
            "[CV] n_neighbors=1 ...................................................\n",
            "[CV] ....................... n_neighbors=1, score=0.939, total=   0.0s\n",
            "[CV] n_neighbors=2 ...................................................\n"
          ],
          "name": "stdout"
        },
        {
          "output_type": "stream",
          "text": [
            "[Parallel(n_jobs=1)]: Using backend SequentialBackend with 1 concurrent workers.\n",
            "[Parallel(n_jobs=1)]: Done   1 out of   1 | elapsed:    0.0s remaining:    0.0s\n",
            "[Parallel(n_jobs=1)]: Done   2 out of   2 | elapsed:    0.0s remaining:    0.0s\n"
          ],
          "name": "stderr"
        },
        {
          "output_type": "stream",
          "text": [
            "[CV] ....................... n_neighbors=2, score=0.941, total=   0.0s\n",
            "[CV] n_neighbors=2 ...................................................\n",
            "[CV] ....................... n_neighbors=2, score=0.932, total=   0.0s\n",
            "[CV] n_neighbors=2 ...................................................\n",
            "[CV] ....................... n_neighbors=2, score=0.941, total=   0.0s\n",
            "[CV] n_neighbors=2 ...................................................\n",
            "[CV] ....................... n_neighbors=2, score=0.932, total=   0.0s\n",
            "[CV] n_neighbors=2 ...................................................\n",
            "[CV] ....................... n_neighbors=2, score=0.932, total=   0.0s\n",
            "[CV] n_neighbors=3 ...................................................\n",
            "[CV] ....................... n_neighbors=3, score=0.938, total=   0.0s\n",
            "[CV] n_neighbors=3 ...................................................\n",
            "[CV] ....................... n_neighbors=3, score=0.940, total=   0.0s\n",
            "[CV] n_neighbors=3 ...................................................\n",
            "[CV] ....................... n_neighbors=3, score=0.939, total=   0.0s\n",
            "[CV] n_neighbors=3 ...................................................\n",
            "[CV] ....................... n_neighbors=3, score=0.930, total=   0.0s\n",
            "[CV] n_neighbors=3 ...................................................\n",
            "[CV] ....................... n_neighbors=3, score=0.941, total=   0.0s\n",
            "[CV] n_neighbors=4 ...................................................\n",
            "[CV] ....................... n_neighbors=4, score=0.937, total=   0.0s\n",
            "[CV] n_neighbors=4 ...................................................\n",
            "[CV] ....................... n_neighbors=4, score=0.938, total=   0.0s\n",
            "[CV] n_neighbors=4 ...................................................\n",
            "[CV] ....................... n_neighbors=4, score=0.950, total=   0.0s\n",
            "[CV] n_neighbors=4 ...................................................\n",
            "[CV] ....................... n_neighbors=4, score=0.936, total=   0.0s\n",
            "[CV] n_neighbors=4 ...................................................\n",
            "[CV] ....................... n_neighbors=4, score=0.937, total=   0.0s\n",
            "[CV] n_neighbors=5 ...................................................\n",
            "[CV] ....................... n_neighbors=5, score=0.936, total=   0.0s\n",
            "[CV] n_neighbors=5 ...................................................\n",
            "[CV] ....................... n_neighbors=5, score=0.942, total=   0.0s\n",
            "[CV] n_neighbors=5 ...................................................\n",
            "[CV] ....................... n_neighbors=5, score=0.940, total=   0.0s\n",
            "[CV] n_neighbors=5 ...................................................\n",
            "[CV] ....................... n_neighbors=5, score=0.927, total=   0.0s\n",
            "[CV] n_neighbors=5 ...................................................\n",
            "[CV] ....................... n_neighbors=5, score=0.936, total=   0.0s\n",
            "[CV] n_neighbors=6 ...................................................\n",
            "[CV] ....................... n_neighbors=6, score=0.936, total=   0.0s\n",
            "[CV] n_neighbors=6 ...................................................\n",
            "[CV] ....................... n_neighbors=6, score=0.940, total=   0.0s\n",
            "[CV] n_neighbors=6 ...................................................\n",
            "[CV] ....................... n_neighbors=6, score=0.945, total=   0.0s\n",
            "[CV] n_neighbors=6 ...................................................\n",
            "[CV] ....................... n_neighbors=6, score=0.934, total=   0.0s\n",
            "[CV] n_neighbors=6 ...................................................\n",
            "[CV] ....................... n_neighbors=6, score=0.933, total=   0.0s\n",
            "[CV] n_neighbors=7 ...................................................\n",
            "[CV] ....................... n_neighbors=7, score=0.940, total=   0.0s\n",
            "[CV] n_neighbors=7 ...................................................\n",
            "[CV] ....................... n_neighbors=7, score=0.937, total=   0.0s\n",
            "[CV] n_neighbors=7 ...................................................\n",
            "[CV] ....................... n_neighbors=7, score=0.936, total=   0.0s\n",
            "[CV] n_neighbors=7 ...................................................\n",
            "[CV] ....................... n_neighbors=7, score=0.919, total=   0.0s\n",
            "[CV] n_neighbors=7 ...................................................\n",
            "[CV] ....................... n_neighbors=7, score=0.932, total=   0.0s\n",
            "[CV] n_neighbors=8 ...................................................\n",
            "[CV] ....................... n_neighbors=8, score=0.938, total=   0.0s\n",
            "[CV] n_neighbors=8 ...................................................\n",
            "[CV] ....................... n_neighbors=8, score=0.937, total=   0.0s\n",
            "[CV] n_neighbors=8 ...................................................\n",
            "[CV] ....................... n_neighbors=8, score=0.938, total=   0.0s\n",
            "[CV] n_neighbors=8 ...................................................\n",
            "[CV] ....................... n_neighbors=8, score=0.923, total=   0.0s\n",
            "[CV] n_neighbors=8 ...................................................\n",
            "[CV] ....................... n_neighbors=8, score=0.935, total=   0.0s\n",
            "[CV] n_neighbors=9 ...................................................\n",
            "[CV] ....................... n_neighbors=9, score=0.933, total=   0.0s\n",
            "[CV] n_neighbors=9 ...................................................\n",
            "[CV] ....................... n_neighbors=9, score=0.937, total=   0.0s\n",
            "[CV] n_neighbors=9 ...................................................\n",
            "[CV] ....................... n_neighbors=9, score=0.933, total=   0.0s\n",
            "[CV] n_neighbors=9 ...................................................\n",
            "[CV] ....................... n_neighbors=9, score=0.919, total=   0.0s\n",
            "[CV] n_neighbors=9 ...................................................\n",
            "[CV] ....................... n_neighbors=9, score=0.928, total=   0.0s\n"
          ],
          "name": "stdout"
        },
        {
          "output_type": "stream",
          "text": [
            "[Parallel(n_jobs=1)]: Done  45 out of  45 | elapsed:    1.7s finished\n"
          ],
          "name": "stderr"
        },
        {
          "output_type": "stream",
          "text": [
            "Best parametrs:\n",
            "{'n_neighbors': 4}\n",
            "              precision    recall  f1-score   support\n",
            "\n",
            "         0.0       0.71      0.41      0.52        58\n",
            "         1.0       0.96      0.99      0.98       990\n",
            "         2.0       0.96      0.79      0.87        29\n",
            "\n",
            "    accuracy                           0.96      1077\n",
            "   macro avg       0.88      0.73      0.79      1077\n",
            "weighted avg       0.95      0.96      0.95      1077\n",
            "\n"
          ],
          "name": "stdout"
        },
        {
          "output_type": "display_data",
          "data": {
            "image/png": "[encoded data removed]",
            "text/plain": [
              "<Figure size 432x288 with 2 Axes>"
            ]
          },
          "metadata": {
            "tags": []
          }
        }
      ]
    },
    {
      "cell_type": "markdown",
      "metadata": {
        "id": "qTHHrR8K9jv2"
      },
      "source": [
        "Результаты стали хуже. Теперь отрицательные результаты угадываются лишь на 41%, а не на 98, как раньше. \n",
        "\n",
        "Интересно, что если проделать то же самое, заменив weightened average в Scorer, на micro average, то результаты при использовании логической регрессии не изменятся.\n",
        "\n",
        "В случае применения KNN они становятся значительно хуже. И точность определения отрицательных результатов снижается до 36."
      ]
    },
    {
      "cell_type": "markdown",
      "metadata": {
        "id": "Tj6z0szo9jv3"
      },
      "source": [
        "#### f. Conclusion"
      ]
    },
    {
      "cell_type": "markdown",
      "metadata": {
        "id": "rMqpqmyi9jv3"
      },
      "source": [
        "Подводя итоги, в третьей части были рассмотрены три модели:\n",
        "    \n",
        "    - линейная регрессия с регуляризацией\n",
        "    \n",
        "    - линейная регрессия с регуляризацией    \n",
        "    \n",
        "    - KNN.\n",
        "\n",
        "Для каждой из моделей были подобраны наилучшие параметры по сетке с помощью метода GridSearch. \n",
        "\n",
        "В результате выяснилось, что наиболее результативной является Логическая регрессия с регуляризацией ('C': 5). Она позволяет давать отрицательные диагнозы с 98% вероятностью, вторичный гипотериоз с точностью в 96%. А точное выявление первичного гипотериоза происходит в 79 случаях из 100."
      ]
    }
  ]
}
